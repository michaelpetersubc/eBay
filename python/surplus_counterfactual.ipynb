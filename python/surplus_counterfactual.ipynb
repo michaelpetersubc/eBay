{
 "cells": [
  {
   "cell_type": "markdown",
   "metadata": {},
   "source": [
    "# Market in Theory v.s. Market in Practice\n",
    "\n",
    "> **Author**: Wenxin Ma\n",
    "\n",
    "In this notebook, we will use the **historical data from ebay** (the auctions took place in 2001) to compare the markets in theory and markets in practice. We assume that all the items sold in the auctions are **homogeneous**.\n",
    "\n",
    "### Outline\n",
    "\n",
    "Listed here are some summary statistics that will be used to describe the difference between the imaginary market and the actual market.\n",
    "\n",
    "-  Calculate and compare **the total surpluses** in the two markets, respectively.\n",
    "\n",
    "    - total surplus in the imaginary market = $\\sum$ (willingness to pay - marginal cost)\n",
    "    \n",
    "       - willingness to pay (WTP): given that all products are homogeneous, the highest bid sumbitted by a bidder in all auctions is the WTP of this bidder.\n",
    "       - marginal cost (MC): the starting price in each auction is the reserve price (i.e. MC) of the seller.\n",
    "    - total surplus in the actual market = $\\sum$ (final price - staring price) where the final price refers to the highest bid submitted in one auction rather than the price paid (i.e. the second highest bid)\n",
    "\n",
    "-  Calculate and compare the total **seller surpluses** and the total **buyer surpluses** in the two markets, respectively (4 surpluses). \n",
    "\n",
    "-  Figure out the **distribution** of the surpluses (who gains and who loses)\n",
    "\n",
    "To further understand the results we will get, we will also calculate:\n",
    "\n",
    "- **the number of bids** submitted by each bidder (592') in all the auctions (105') and the ditrsibution among the successful bidders and the unsuccessful ones in the imaginary market.\n",
    "\n",
    "- **Venn Diagram** of successful and unsuccessful bidders (intersection, union and differences)\n",
    "\n",
    "- **Surpluses Breakdown** in terms of the type of buyers and sellers (would succeed in the imaginary only, did succeed in the actual market only, or both)\n",
    "\n",
    "- **Bidding strategies**: we will classify the bidders into 4 types and compute the proportion of bidders of each type who won and the average price conditional on winning.\n",
    "\n",
    "- **Sellers' Characteristics**: see below\n",
    "\n",
    "- **Product Homogeneity vs Heterogeneity**: We split the market into 2: one for new items and one for used items and compute the surpluses, average tarding prices, etc.."
   ]
  },
  {
   "cell_type": "code",
   "execution_count": 1,
   "metadata": {},
   "outputs": [],
   "source": [
    "import pandas as pd\n",
    "import numpy as np\n",
    "import matplotlib.pyplot as plt"
   ]
  },
  {
   "cell_type": "markdown",
   "metadata": {},
   "source": [
    "### Data Description\n",
    "We have two types of records. For each auction, the first record is for the seller while the rest are for the bidders.\n",
    "\n",
    "There are 1484 obervations in total; 105 of the them are for the sellers and 1379 for the bidders.\n",
    "\n",
    "- Among the 105 records for the sellers (105 auctions, 63 unique sellers), there is at least one bidder in each auction. This means all 105 items were successfully traded.\n",
    "\n",
    "- Among the 1379 records for the buyers, there are 592 unique bidders."
   ]
  },
  {
   "cell_type": "code",
   "execution_count": 2,
   "metadata": {},
   "outputs": [
    {
     "data": {
      "text/html": [
       "<div>\n",
       "<style scoped>\n",
       "    .dataframe tbody tr th:only-of-type {\n",
       "        vertical-align: middle;\n",
       "    }\n",
       "\n",
       "    .dataframe tbody tr th {\n",
       "        vertical-align: top;\n",
       "    }\n",
       "\n",
       "    .dataframe thead th {\n",
       "        text-align: right;\n",
       "    }\n",
       "</style>\n",
       "<table border=\"1\" class=\"dataframe\">\n",
       "  <thead>\n",
       "    <tr style=\"text-align: right;\">\n",
       "      <th></th>\n",
       "      <th>auction_number</th>\n",
       "      <th>final_price</th>\n",
       "      <th>starting_price</th>\n",
       "      <th>quantity</th>\n",
       "      <th>number_of_bids</th>\n",
       "      <th>seller_feedback</th>\n",
       "      <th>bidder_feedback</th>\n",
       "      <th>bid_amount</th>\n",
       "    </tr>\n",
       "  </thead>\n",
       "  <tbody>\n",
       "    <tr>\n",
       "      <th>count</th>\n",
       "      <td>1484.000000</td>\n",
       "      <td>1484.000000</td>\n",
       "      <td>1484.000000</td>\n",
       "      <td>1484.000000</td>\n",
       "      <td>1484.000000</td>\n",
       "      <td>1484.000000</td>\n",
       "      <td>1484.000000</td>\n",
       "      <td>1484.000000</td>\n",
       "    </tr>\n",
       "    <tr>\n",
       "      <th>mean</th>\n",
       "      <td>55.547844</td>\n",
       "      <td>8.227817</td>\n",
       "      <td>2.722075</td>\n",
       "      <td>0.070755</td>\n",
       "      <td>0.921159</td>\n",
       "      <td>65.063342</td>\n",
       "      <td>39.716981</td>\n",
       "      <td>73.188113</td>\n",
       "    </tr>\n",
       "    <tr>\n",
       "      <th>std</th>\n",
       "      <td>31.181690</td>\n",
       "      <td>30.113766</td>\n",
       "      <td>14.430309</td>\n",
       "      <td>0.256501</td>\n",
       "      <td>3.867476</td>\n",
       "      <td>570.882240</td>\n",
       "      <td>271.723342</td>\n",
       "      <td>38.662032</td>\n",
       "    </tr>\n",
       "    <tr>\n",
       "      <th>min</th>\n",
       "      <td>1.000000</td>\n",
       "      <td>0.000000</td>\n",
       "      <td>0.000000</td>\n",
       "      <td>0.000000</td>\n",
       "      <td>0.000000</td>\n",
       "      <td>0.000000</td>\n",
       "      <td>-5.000000</td>\n",
       "      <td>0.000000</td>\n",
       "    </tr>\n",
       "    <tr>\n",
       "      <th>25%</th>\n",
       "      <td>29.000000</td>\n",
       "      <td>0.000000</td>\n",
       "      <td>0.000000</td>\n",
       "      <td>0.000000</td>\n",
       "      <td>0.000000</td>\n",
       "      <td>0.000000</td>\n",
       "      <td>1.000000</td>\n",
       "      <td>50.000000</td>\n",
       "    </tr>\n",
       "    <tr>\n",
       "      <th>50%</th>\n",
       "      <td>58.000000</td>\n",
       "      <td>0.000000</td>\n",
       "      <td>0.000000</td>\n",
       "      <td>0.000000</td>\n",
       "      <td>0.000000</td>\n",
       "      <td>0.000000</td>\n",
       "      <td>7.000000</td>\n",
       "      <td>80.000000</td>\n",
       "    </tr>\n",
       "    <tr>\n",
       "      <th>75%</th>\n",
       "      <td>83.000000</td>\n",
       "      <td>0.000000</td>\n",
       "      <td>0.000000</td>\n",
       "      <td>0.000000</td>\n",
       "      <td>0.000000</td>\n",
       "      <td>0.000000</td>\n",
       "      <td>28.000000</td>\n",
       "      <td>101.002500</td>\n",
       "    </tr>\n",
       "    <tr>\n",
       "      <th>max</th>\n",
       "      <td>105.000000</td>\n",
       "      <td>147.500000</td>\n",
       "      <td>141.000000</td>\n",
       "      <td>1.000000</td>\n",
       "      <td>35.000000</td>\n",
       "      <td>8183.000000</td>\n",
       "      <td>10008.000000</td>\n",
       "      <td>147.500000</td>\n",
       "    </tr>\n",
       "  </tbody>\n",
       "</table>\n",
       "</div>"
      ],
      "text/plain": [
       "       auction_number  final_price  starting_price     quantity  \\\n",
       "count     1484.000000  1484.000000     1484.000000  1484.000000   \n",
       "mean        55.547844     8.227817        2.722075     0.070755   \n",
       "std         31.181690    30.113766       14.430309     0.256501   \n",
       "min          1.000000     0.000000        0.000000     0.000000   \n",
       "25%         29.000000     0.000000        0.000000     0.000000   \n",
       "50%         58.000000     0.000000        0.000000     0.000000   \n",
       "75%         83.000000     0.000000        0.000000     0.000000   \n",
       "max        105.000000   147.500000      141.000000     1.000000   \n",
       "\n",
       "       number_of_bids  seller_feedback  bidder_feedback   bid_amount  \n",
       "count     1484.000000      1484.000000      1484.000000  1484.000000  \n",
       "mean         0.921159        65.063342        39.716981    73.188113  \n",
       "std          3.867476       570.882240       271.723342    38.662032  \n",
       "min          0.000000         0.000000        -5.000000     0.000000  \n",
       "25%          0.000000         0.000000         1.000000    50.000000  \n",
       "50%          0.000000         0.000000         7.000000    80.000000  \n",
       "75%          0.000000         0.000000        28.000000   101.002500  \n",
       "max         35.000000      8183.000000     10008.000000   147.500000  "
      ]
     },
     "execution_count": 2,
     "metadata": {},
     "output_type": "execute_result"
    }
   ],
   "source": [
    "url = \"https://raw.githubusercontent.com/michaelpetersubc/eBay/master/data/ebay_data.json\"\n",
    "df=pd.read_json(url)\n",
    "df.describe()"
   ]
  },
  {
   "cell_type": "code",
   "execution_count": 3,
   "metadata": {},
   "outputs": [
    {
     "data": {
      "text/html": [
       "<div>\n",
       "<style scoped>\n",
       "    .dataframe tbody tr th:only-of-type {\n",
       "        vertical-align: middle;\n",
       "    }\n",
       "\n",
       "    .dataframe tbody tr th {\n",
       "        vertical-align: top;\n",
       "    }\n",
       "\n",
       "    .dataframe thead th {\n",
       "        text-align: right;\n",
       "    }\n",
       "</style>\n",
       "<table border=\"1\" class=\"dataframe\">\n",
       "  <thead>\n",
       "    <tr style=\"text-align: right;\">\n",
       "      <th></th>\n",
       "      <th>auction_number</th>\n",
       "      <th>final_price</th>\n",
       "      <th>starting_price</th>\n",
       "      <th>quantity</th>\n",
       "      <th>number_of_bids</th>\n",
       "      <th>seller_feedback</th>\n",
       "      <th>bidder_feedback</th>\n",
       "      <th>bid_amount</th>\n",
       "    </tr>\n",
       "  </thead>\n",
       "  <tbody>\n",
       "    <tr>\n",
       "      <th>count</th>\n",
       "      <td>105.000000</td>\n",
       "      <td>105.000000</td>\n",
       "      <td>105.000000</td>\n",
       "      <td>105.0</td>\n",
       "      <td>105.000000</td>\n",
       "      <td>105.000000</td>\n",
       "      <td>105.0</td>\n",
       "      <td>105.0</td>\n",
       "    </tr>\n",
       "    <tr>\n",
       "      <th>mean</th>\n",
       "      <td>53.000000</td>\n",
       "      <td>116.286476</td>\n",
       "      <td>38.472000</td>\n",
       "      <td>1.0</td>\n",
       "      <td>13.019048</td>\n",
       "      <td>919.561905</td>\n",
       "      <td>0.0</td>\n",
       "      <td>0.0</td>\n",
       "    </tr>\n",
       "    <tr>\n",
       "      <th>std</th>\n",
       "      <td>30.454885</td>\n",
       "      <td>15.639340</td>\n",
       "      <td>39.758499</td>\n",
       "      <td>0.0</td>\n",
       "      <td>7.366740</td>\n",
       "      <td>1963.156142</td>\n",
       "      <td>0.0</td>\n",
       "      <td>0.0</td>\n",
       "    </tr>\n",
       "    <tr>\n",
       "      <th>min</th>\n",
       "      <td>1.000000</td>\n",
       "      <td>80.990000</td>\n",
       "      <td>0.010000</td>\n",
       "      <td>1.0</td>\n",
       "      <td>1.000000</td>\n",
       "      <td>0.000000</td>\n",
       "      <td>0.0</td>\n",
       "      <td>0.0</td>\n",
       "    </tr>\n",
       "    <tr>\n",
       "      <th>25%</th>\n",
       "      <td>27.000000</td>\n",
       "      <td>105.000000</td>\n",
       "      <td>2.000000</td>\n",
       "      <td>1.0</td>\n",
       "      <td>7.000000</td>\n",
       "      <td>12.000000</td>\n",
       "      <td>0.0</td>\n",
       "      <td>0.0</td>\n",
       "    </tr>\n",
       "    <tr>\n",
       "      <th>50%</th>\n",
       "      <td>53.000000</td>\n",
       "      <td>117.500000</td>\n",
       "      <td>20.000000</td>\n",
       "      <td>1.0</td>\n",
       "      <td>13.000000</td>\n",
       "      <td>60.000000</td>\n",
       "      <td>0.0</td>\n",
       "      <td>0.0</td>\n",
       "    </tr>\n",
       "    <tr>\n",
       "      <th>75%</th>\n",
       "      <td>79.000000</td>\n",
       "      <td>127.500000</td>\n",
       "      <td>75.000000</td>\n",
       "      <td>1.0</td>\n",
       "      <td>18.000000</td>\n",
       "      <td>581.000000</td>\n",
       "      <td>0.0</td>\n",
       "      <td>0.0</td>\n",
       "    </tr>\n",
       "    <tr>\n",
       "      <th>max</th>\n",
       "      <td>105.000000</td>\n",
       "      <td>147.500000</td>\n",
       "      <td>141.000000</td>\n",
       "      <td>1.0</td>\n",
       "      <td>35.000000</td>\n",
       "      <td>8183.000000</td>\n",
       "      <td>0.0</td>\n",
       "      <td>0.0</td>\n",
       "    </tr>\n",
       "  </tbody>\n",
       "</table>\n",
       "</div>"
      ],
      "text/plain": [
       "       auction_number  final_price  starting_price  quantity  number_of_bids  \\\n",
       "count      105.000000   105.000000      105.000000     105.0      105.000000   \n",
       "mean        53.000000   116.286476       38.472000       1.0       13.019048   \n",
       "std         30.454885    15.639340       39.758499       0.0        7.366740   \n",
       "min          1.000000    80.990000        0.010000       1.0        1.000000   \n",
       "25%         27.000000   105.000000        2.000000       1.0        7.000000   \n",
       "50%         53.000000   117.500000       20.000000       1.0       13.000000   \n",
       "75%         79.000000   127.500000       75.000000       1.0       18.000000   \n",
       "max        105.000000   147.500000      141.000000       1.0       35.000000   \n",
       "\n",
       "       seller_feedback  bidder_feedback  bid_amount  \n",
       "count       105.000000            105.0       105.0  \n",
       "mean        919.561905              0.0         0.0  \n",
       "std        1963.156142              0.0         0.0  \n",
       "min           0.000000              0.0         0.0  \n",
       "25%          12.000000              0.0         0.0  \n",
       "50%          60.000000              0.0         0.0  \n",
       "75%         581.000000              0.0         0.0  \n",
       "max        8183.000000              0.0         0.0  "
      ]
     },
     "execution_count": 3,
     "metadata": {},
     "output_type": "execute_result"
    }
   ],
   "source": [
    "# create subsets for the sellers and the bidders, respectively\n",
    "df_seller = df.loc[df.bidder == '']\n",
    "df_seller.describe()"
   ]
  },
  {
   "cell_type": "code",
   "execution_count": 4,
   "metadata": {},
   "outputs": [
    {
     "data": {
      "text/html": [
       "<div>\n",
       "<style scoped>\n",
       "    .dataframe tbody tr th:only-of-type {\n",
       "        vertical-align: middle;\n",
       "    }\n",
       "\n",
       "    .dataframe tbody tr th {\n",
       "        vertical-align: top;\n",
       "    }\n",
       "\n",
       "    .dataframe thead th {\n",
       "        text-align: right;\n",
       "    }\n",
       "</style>\n",
       "<table border=\"1\" class=\"dataframe\">\n",
       "  <thead>\n",
       "    <tr style=\"text-align: right;\">\n",
       "      <th></th>\n",
       "      <th>auction_number</th>\n",
       "      <th>final_price</th>\n",
       "      <th>starting_price</th>\n",
       "      <th>quantity</th>\n",
       "      <th>number_of_bids</th>\n",
       "      <th>seller_feedback</th>\n",
       "      <th>bidder_feedback</th>\n",
       "      <th>bid_amount</th>\n",
       "    </tr>\n",
       "  </thead>\n",
       "  <tbody>\n",
       "    <tr>\n",
       "      <th>count</th>\n",
       "      <td>1379.000000</td>\n",
       "      <td>1379.0</td>\n",
       "      <td>1379.0</td>\n",
       "      <td>1379.0</td>\n",
       "      <td>1379.0</td>\n",
       "      <td>1379.0</td>\n",
       "      <td>1379.000000</td>\n",
       "      <td>1379.000000</td>\n",
       "    </tr>\n",
       "    <tr>\n",
       "      <th>mean</th>\n",
       "      <td>55.741842</td>\n",
       "      <td>0.0</td>\n",
       "      <td>0.0</td>\n",
       "      <td>0.0</td>\n",
       "      <td>0.0</td>\n",
       "      <td>0.0</td>\n",
       "      <td>42.741117</td>\n",
       "      <td>78.760812</td>\n",
       "    </tr>\n",
       "    <tr>\n",
       "      <th>std</th>\n",
       "      <td>31.238630</td>\n",
       "      <td>0.0</td>\n",
       "      <td>0.0</td>\n",
       "      <td>0.0</td>\n",
       "      <td>0.0</td>\n",
       "      <td>0.0</td>\n",
       "      <td>281.656087</td>\n",
       "      <td>34.196785</td>\n",
       "    </tr>\n",
       "    <tr>\n",
       "      <th>min</th>\n",
       "      <td>1.000000</td>\n",
       "      <td>0.0</td>\n",
       "      <td>0.0</td>\n",
       "      <td>0.0</td>\n",
       "      <td>0.0</td>\n",
       "      <td>0.0</td>\n",
       "      <td>-5.000000</td>\n",
       "      <td>0.000000</td>\n",
       "    </tr>\n",
       "    <tr>\n",
       "      <th>25%</th>\n",
       "      <td>29.000000</td>\n",
       "      <td>0.0</td>\n",
       "      <td>0.0</td>\n",
       "      <td>0.0</td>\n",
       "      <td>0.0</td>\n",
       "      <td>0.0</td>\n",
       "      <td>2.000000</td>\n",
       "      <td>55.000000</td>\n",
       "    </tr>\n",
       "    <tr>\n",
       "      <th>50%</th>\n",
       "      <td>58.000000</td>\n",
       "      <td>0.0</td>\n",
       "      <td>0.0</td>\n",
       "      <td>0.0</td>\n",
       "      <td>0.0</td>\n",
       "      <td>0.0</td>\n",
       "      <td>9.000000</td>\n",
       "      <td>85.000000</td>\n",
       "    </tr>\n",
       "    <tr>\n",
       "      <th>75%</th>\n",
       "      <td>84.000000</td>\n",
       "      <td>0.0</td>\n",
       "      <td>0.0</td>\n",
       "      <td>0.0</td>\n",
       "      <td>0.0</td>\n",
       "      <td>0.0</td>\n",
       "      <td>29.000000</td>\n",
       "      <td>103.250000</td>\n",
       "    </tr>\n",
       "    <tr>\n",
       "      <th>max</th>\n",
       "      <td>105.000000</td>\n",
       "      <td>0.0</td>\n",
       "      <td>0.0</td>\n",
       "      <td>0.0</td>\n",
       "      <td>0.0</td>\n",
       "      <td>0.0</td>\n",
       "      <td>10008.000000</td>\n",
       "      <td>147.500000</td>\n",
       "    </tr>\n",
       "  </tbody>\n",
       "</table>\n",
       "</div>"
      ],
      "text/plain": [
       "       auction_number  final_price  starting_price  quantity  number_of_bids  \\\n",
       "count     1379.000000       1379.0          1379.0    1379.0          1379.0   \n",
       "mean        55.741842          0.0             0.0       0.0             0.0   \n",
       "std         31.238630          0.0             0.0       0.0             0.0   \n",
       "min          1.000000          0.0             0.0       0.0             0.0   \n",
       "25%         29.000000          0.0             0.0       0.0             0.0   \n",
       "50%         58.000000          0.0             0.0       0.0             0.0   \n",
       "75%         84.000000          0.0             0.0       0.0             0.0   \n",
       "max        105.000000          0.0             0.0       0.0             0.0   \n",
       "\n",
       "       seller_feedback  bidder_feedback   bid_amount  \n",
       "count           1379.0      1379.000000  1379.000000  \n",
       "mean               0.0        42.741117    78.760812  \n",
       "std                0.0       281.656087    34.196785  \n",
       "min                0.0        -5.000000     0.000000  \n",
       "25%                0.0         2.000000    55.000000  \n",
       "50%                0.0         9.000000    85.000000  \n",
       "75%                0.0        29.000000   103.250000  \n",
       "max                0.0     10008.000000   147.500000  "
      ]
     },
     "execution_count": 4,
     "metadata": {},
     "output_type": "execute_result"
    }
   ],
   "source": [
    "df_buyer = df.loc[df.item == '']\n",
    "df_buyer.describe()"
   ]
  },
  {
   "cell_type": "markdown",
   "metadata": {},
   "source": [
    "### Market in Theory\n",
    "\n",
    "Recall the definitions:\n",
    "\n",
    "|Variable|Definition|\n",
    "|---|---|\n",
    "|WTP| the highest bid submitted by each bidders (592 in total)|\n",
    "|MC | the starting price of each auction (105 in total)|\n",
    "|total surplus| $\\sum_{\\text{successful trades}} \\,$ (WTP - MC)|\n",
    "|buyer surplus| $\\sum_{\\text{successful trades}} \\,$ (WTP - EQ price)|\n",
    "|seller surplus| $\\sum_{\\text{successful trades}} \\,$ (EQ price - MC)|"
   ]
  },
  {
   "cell_type": "code",
   "execution_count": 5,
   "metadata": {},
   "outputs": [
    {
     "data": {
      "text/plain": [
       "0        0.01\n",
       "1        0.01\n",
       "2        0.01\n",
       "3        0.01\n",
       "4        0.01\n",
       "        ...  \n",
       "100    110.00\n",
       "101    110.00\n",
       "102    115.00\n",
       "103    120.00\n",
       "104    141.00\n",
       "Name: MC, Length: 105, dtype: float64"
      ]
     },
     "execution_count": 5,
     "metadata": {},
     "output_type": "execute_result"
    }
   ],
   "source": [
    "# marginal costs of the sellers in ascending order\n",
    "mc = df_seller.sort_values(by = 'starting_price')\n",
    "mc = mc['starting_price']\n",
    "mc = mc.reset_index(drop=True)\n",
    "mc = mc.rename('MC')\n",
    "mc"
   ]
  },
  {
   "cell_type": "code",
   "execution_count": 6,
   "metadata": {},
   "outputs": [
    {
     "data": {
      "text/plain": [
       "bidder\n",
       "alan_knoop,                   147.5\n",
       "jdlusk83,                     146.0\n",
       "peter.shelly.1                145.0\n",
       "rayman65                      145.0\n",
       "beantiques                    144.5\n",
       "                              ...  \n",
       "andrewdoll                      0.0\n",
       "juanjrodriguez@hotmail.com      0.0\n",
       "neesey2                         0.0\n",
       "wch7928786                      0.0\n",
       "$stein$                         0.0\n",
       "Name: WTP, Length: 592, dtype: float64"
      ]
     },
     "execution_count": 6,
     "metadata": {},
     "output_type": "execute_result"
    }
   ],
   "source": [
    "# the willingnesses to pay of the bidders in descending order\n",
    "buyer_grouped = df_buyer.groupby('bidder')\n",
    "buyer_grouped_wtp= buyer_grouped['bid_amount']\n",
    "wtp = buyer_grouped_wtp.max()\n",
    "wtp = wtp.sort_values(ascending = False)\n",
    "wtp = wtp.rename('WTP')\n",
    "wtp"
   ]
  },
  {
   "cell_type": "code",
   "execution_count": 7,
   "metadata": {},
   "outputs": [
    {
     "data": {
      "text/html": [
       "<div>\n",
       "<style scoped>\n",
       "    .dataframe tbody tr th:only-of-type {\n",
       "        vertical-align: middle;\n",
       "    }\n",
       "\n",
       "    .dataframe tbody tr th {\n",
       "        vertical-align: top;\n",
       "    }\n",
       "\n",
       "    .dataframe thead th {\n",
       "        text-align: right;\n",
       "    }\n",
       "</style>\n",
       "<table border=\"1\" class=\"dataframe\">\n",
       "  <thead>\n",
       "    <tr style=\"text-align: right;\">\n",
       "      <th></th>\n",
       "      <th>bidder</th>\n",
       "      <th>WTP</th>\n",
       "    </tr>\n",
       "  </thead>\n",
       "  <tbody>\n",
       "    <tr>\n",
       "      <th>0</th>\n",
       "      <td>alan_knoop,</td>\n",
       "      <td>147.5</td>\n",
       "    </tr>\n",
       "    <tr>\n",
       "      <th>1</th>\n",
       "      <td>jdlusk83,</td>\n",
       "      <td>146.0</td>\n",
       "    </tr>\n",
       "    <tr>\n",
       "      <th>2</th>\n",
       "      <td>peter.shelly.1</td>\n",
       "      <td>145.0</td>\n",
       "    </tr>\n",
       "    <tr>\n",
       "      <th>3</th>\n",
       "      <td>rayman65</td>\n",
       "      <td>145.0</td>\n",
       "    </tr>\n",
       "    <tr>\n",
       "      <th>4</th>\n",
       "      <td>beantiques</td>\n",
       "      <td>144.5</td>\n",
       "    </tr>\n",
       "    <tr>\n",
       "      <th>...</th>\n",
       "      <td>...</td>\n",
       "      <td>...</td>\n",
       "    </tr>\n",
       "    <tr>\n",
       "      <th>587</th>\n",
       "      <td>andrewdoll</td>\n",
       "      <td>0.0</td>\n",
       "    </tr>\n",
       "    <tr>\n",
       "      <th>588</th>\n",
       "      <td>juanjrodriguez@hotmail.com</td>\n",
       "      <td>0.0</td>\n",
       "    </tr>\n",
       "    <tr>\n",
       "      <th>589</th>\n",
       "      <td>neesey2</td>\n",
       "      <td>0.0</td>\n",
       "    </tr>\n",
       "    <tr>\n",
       "      <th>590</th>\n",
       "      <td>wch7928786</td>\n",
       "      <td>0.0</td>\n",
       "    </tr>\n",
       "    <tr>\n",
       "      <th>591</th>\n",
       "      <td>$stein$</td>\n",
       "      <td>0.0</td>\n",
       "    </tr>\n",
       "  </tbody>\n",
       "</table>\n",
       "<p>592 rows × 2 columns</p>\n",
       "</div>"
      ],
      "text/plain": [
       "                         bidder    WTP\n",
       "0                   alan_knoop,  147.5\n",
       "1                     jdlusk83,  146.0\n",
       "2                peter.shelly.1  145.0\n",
       "3                      rayman65  145.0\n",
       "4                    beantiques  144.5\n",
       "..                          ...    ...\n",
       "587                  andrewdoll    0.0\n",
       "588  juanjrodriguez@hotmail.com    0.0\n",
       "589                     neesey2    0.0\n",
       "590                  wch7928786    0.0\n",
       "591                     $stein$    0.0\n",
       "\n",
       "[592 rows x 2 columns]"
      ]
     },
     "execution_count": 7,
     "metadata": {},
     "output_type": "execute_result"
    }
   ],
   "source": [
    "#create 2 dataframes for future use\n",
    "#(wtp only) and (wtp + corresponding bidder)\n",
    "wtp_with_bidders = wtp.reset_index()\n",
    "wtp_only = wtp.reset_index(drop = True)\n",
    "wtp_with_bidders"
   ]
  },
  {
   "cell_type": "code",
   "execution_count": 8,
   "metadata": {},
   "outputs": [
    {
     "data": {
      "text/html": [
       "<div>\n",
       "<style scoped>\n",
       "    .dataframe tbody tr th:only-of-type {\n",
       "        vertical-align: middle;\n",
       "    }\n",
       "\n",
       "    .dataframe tbody tr th {\n",
       "        vertical-align: top;\n",
       "    }\n",
       "\n",
       "    .dataframe thead th {\n",
       "        text-align: right;\n",
       "    }\n",
       "</style>\n",
       "<table border=\"1\" class=\"dataframe\">\n",
       "  <thead>\n",
       "    <tr style=\"text-align: right;\">\n",
       "      <th></th>\n",
       "      <th>WTP</th>\n",
       "      <th>MC</th>\n",
       "    </tr>\n",
       "  </thead>\n",
       "  <tbody>\n",
       "    <tr>\n",
       "      <th>0</th>\n",
       "      <td>147.5</td>\n",
       "      <td>0.01</td>\n",
       "    </tr>\n",
       "    <tr>\n",
       "      <th>1</th>\n",
       "      <td>146.0</td>\n",
       "      <td>0.01</td>\n",
       "    </tr>\n",
       "    <tr>\n",
       "      <th>2</th>\n",
       "      <td>145.0</td>\n",
       "      <td>0.01</td>\n",
       "    </tr>\n",
       "    <tr>\n",
       "      <th>3</th>\n",
       "      <td>145.0</td>\n",
       "      <td>0.01</td>\n",
       "    </tr>\n",
       "    <tr>\n",
       "      <th>4</th>\n",
       "      <td>144.5</td>\n",
       "      <td>0.01</td>\n",
       "    </tr>\n",
       "    <tr>\n",
       "      <th>...</th>\n",
       "      <td>...</td>\n",
       "      <td>...</td>\n",
       "    </tr>\n",
       "    <tr>\n",
       "      <th>587</th>\n",
       "      <td>0.0</td>\n",
       "      <td>NaN</td>\n",
       "    </tr>\n",
       "    <tr>\n",
       "      <th>588</th>\n",
       "      <td>0.0</td>\n",
       "      <td>NaN</td>\n",
       "    </tr>\n",
       "    <tr>\n",
       "      <th>589</th>\n",
       "      <td>0.0</td>\n",
       "      <td>NaN</td>\n",
       "    </tr>\n",
       "    <tr>\n",
       "      <th>590</th>\n",
       "      <td>0.0</td>\n",
       "      <td>NaN</td>\n",
       "    </tr>\n",
       "    <tr>\n",
       "      <th>591</th>\n",
       "      <td>0.0</td>\n",
       "      <td>NaN</td>\n",
       "    </tr>\n",
       "  </tbody>\n",
       "</table>\n",
       "<p>592 rows × 2 columns</p>\n",
       "</div>"
      ],
      "text/plain": [
       "       WTP    MC\n",
       "0    147.5  0.01\n",
       "1    146.0  0.01\n",
       "2    145.0  0.01\n",
       "3    145.0  0.01\n",
       "4    144.5  0.01\n",
       "..     ...   ...\n",
       "587    0.0   NaN\n",
       "588    0.0   NaN\n",
       "589    0.0   NaN\n",
       "590    0.0   NaN\n",
       "591    0.0   NaN\n",
       "\n",
       "[592 rows x 2 columns]"
      ]
     },
     "execution_count": 8,
     "metadata": {},
     "output_type": "execute_result"
    }
   ],
   "source": [
    "#construct the imaginary market\n",
    "img_mkt = pd.concat([wtp_only, mc], axis =1)\n",
    "img_mkt"
   ]
  },
  {
   "cell_type": "code",
   "execution_count": 9,
   "metadata": {},
   "outputs": [
    {
     "data": {
      "text/plain": [
       "<matplotlib.collections.PolyCollection at 0x1d1df751308>"
      ]
     },
     "execution_count": 9,
     "metadata": {},
     "output_type": "execute_result"
    },
    {
     "data": {
      "image/png": "[encoded data removed]",
      "text/plain": [
       "<Figure size 432x288 with 1 Axes>"
      ]
     },
     "metadata": {
      "needs_background": "light"
     },
     "output_type": "display_data"
    }
   ],
   "source": [
    "ax = img_mkt.plot()\n",
    "ax.fill_between(img_mkt.index, img_mkt.WTP, img_mkt.MC)"
   ]
  },
  {
   "cell_type": "code",
   "execution_count": 10,
   "metadata": {},
   "outputs": [
    {
     "data": {
      "text/html": [
       "<div>\n",
       "<style scoped>\n",
       "    .dataframe tbody tr th:only-of-type {\n",
       "        vertical-align: middle;\n",
       "    }\n",
       "\n",
       "    .dataframe tbody tr th {\n",
       "        vertical-align: top;\n",
       "    }\n",
       "\n",
       "    .dataframe thead th {\n",
       "        text-align: right;\n",
       "    }\n",
       "</style>\n",
       "<table border=\"1\" class=\"dataframe\">\n",
       "  <thead>\n",
       "    <tr style=\"text-align: right;\">\n",
       "      <th></th>\n",
       "      <th>WTP</th>\n",
       "      <th>MC</th>\n",
       "      <th>surplus</th>\n",
       "    </tr>\n",
       "  </thead>\n",
       "  <tbody>\n",
       "    <tr>\n",
       "      <th>0</th>\n",
       "      <td>147.50</td>\n",
       "      <td>0.01</td>\n",
       "      <td>147.49</td>\n",
       "    </tr>\n",
       "    <tr>\n",
       "      <th>1</th>\n",
       "      <td>146.00</td>\n",
       "      <td>0.01</td>\n",
       "      <td>145.99</td>\n",
       "    </tr>\n",
       "    <tr>\n",
       "      <th>2</th>\n",
       "      <td>145.00</td>\n",
       "      <td>0.01</td>\n",
       "      <td>144.99</td>\n",
       "    </tr>\n",
       "    <tr>\n",
       "      <th>3</th>\n",
       "      <td>145.00</td>\n",
       "      <td>0.01</td>\n",
       "      <td>144.99</td>\n",
       "    </tr>\n",
       "    <tr>\n",
       "      <th>4</th>\n",
       "      <td>144.50</td>\n",
       "      <td>0.01</td>\n",
       "      <td>144.49</td>\n",
       "    </tr>\n",
       "    <tr>\n",
       "      <th>...</th>\n",
       "      <td>...</td>\n",
       "      <td>...</td>\n",
       "      <td>...</td>\n",
       "    </tr>\n",
       "    <tr>\n",
       "      <th>99</th>\n",
       "      <td>121.21</td>\n",
       "      <td>100.00</td>\n",
       "      <td>21.21</td>\n",
       "    </tr>\n",
       "    <tr>\n",
       "      <th>100</th>\n",
       "      <td>121.05</td>\n",
       "      <td>110.00</td>\n",
       "      <td>11.05</td>\n",
       "    </tr>\n",
       "    <tr>\n",
       "      <th>101</th>\n",
       "      <td>121.01</td>\n",
       "      <td>110.00</td>\n",
       "      <td>11.01</td>\n",
       "    </tr>\n",
       "    <tr>\n",
       "      <th>102</th>\n",
       "      <td>121.00</td>\n",
       "      <td>115.00</td>\n",
       "      <td>6.00</td>\n",
       "    </tr>\n",
       "    <tr>\n",
       "      <th>103</th>\n",
       "      <td>121.00</td>\n",
       "      <td>120.00</td>\n",
       "      <td>1.00</td>\n",
       "    </tr>\n",
       "  </tbody>\n",
       "</table>\n",
       "<p>104 rows × 3 columns</p>\n",
       "</div>"
      ],
      "text/plain": [
       "        WTP      MC  surplus\n",
       "0    147.50    0.01   147.49\n",
       "1    146.00    0.01   145.99\n",
       "2    145.00    0.01   144.99\n",
       "3    145.00    0.01   144.99\n",
       "4    144.50    0.01   144.49\n",
       "..      ...     ...      ...\n",
       "99   121.21  100.00    21.21\n",
       "100  121.05  110.00    11.05\n",
       "101  121.01  110.00    11.01\n",
       "102  121.00  115.00     6.00\n",
       "103  121.00  120.00     1.00\n",
       "\n",
       "[104 rows x 3 columns]"
      ]
     },
     "execution_count": 10,
     "metadata": {},
     "output_type": "execute_result"
    }
   ],
   "source": [
    "# calculate the total surplus in the imaginary market (shaded area above)\n",
    "img_traded = img_mkt[img_mkt['WTP'] >= img_mkt['MC']]\n",
    "img_traded = img_traded.assign(surplus = img_traded[\"WTP\"] - img_traded[\"MC\"])\n",
    "img_traded"
   ]
  },
  {
   "cell_type": "code",
   "execution_count": 11,
   "metadata": {},
   "outputs": [
    {
     "name": "stdout",
     "output_type": "stream",
     "text": [
      "the total surplus in the imaginary market is 9686.96\n"
     ]
    }
   ],
   "source": [
    "total_img_surplus = img_traded['surplus'].sum()\n",
    "print('the total surplus in the imaginary market is', total_img_surplus)"
   ]
  },
  {
   "cell_type": "code",
   "execution_count": 12,
   "metadata": {},
   "outputs": [
    {
     "data": {
      "text/plain": [
       "WTP    121.0\n",
       "MC     141.0\n",
       "Name: 104, dtype: float64"
      ]
     },
     "execution_count": 12,
     "metadata": {},
     "output_type": "execute_result"
    }
   ],
   "source": [
    "# find the equilibrium price\n",
    "img_mkt.iloc[104]"
   ]
  },
  {
   "cell_type": "markdown",
   "metadata": {},
   "source": [
    "#### Equilibrium Price\n",
    "\n",
    "The last entry in the traded records is (WTP=121, MC=120);\n",
    "\n",
    "The next entry (not traded) is (WTP= 121, MC =141).\n",
    "\n",
    "Therefore, the equilibrium price in the imaginary market is 121."
   ]
  },
  {
   "cell_type": "code",
   "execution_count": 13,
   "metadata": {},
   "outputs": [
    {
     "name": "stdout",
     "output_type": "stream",
     "text": [
      "the total seller surplus is 8685.44\n",
      "the total buyer surplus is 1001.5200000000004\n"
     ]
    }
   ],
   "source": [
    "#calculate the total surpluses for the sellers and the buyers\n",
    "seller_surplus = (121*104) - img_traded['MC'].sum()\n",
    "buyer_surplus = img_traded['WTP'].sum()-(121 * 104)\n",
    "print(\"the total seller surplus is\", seller_surplus)\n",
    "print(\"the total buyer surplus is\", buyer_surplus)"
   ]
  },
  {
   "cell_type": "markdown",
   "metadata": {},
   "source": [
    "#### Number of Bids\n",
    "\n",
    "From above we know there are 105 sellers and 592 buyers while only 104 pairs of them would successfully trade with each other in the imaginary market. A large proportion of bidders failed to find a match. \n",
    "\n",
    "This might be the result of a relatively high demand for the processors but a limited ability to produce affordable products. Another explanation for the large number of bidders is that many people who submitted bids in these auctions just wanted to play around and to understand the rules. They do not represent real demand in the market characterized by willness to pay and marginal cost.\n",
    "\n",
    "To figure out if the latter is true, we can compute the number of bids submitted by the 592 unique bidders who participated in the auctions and see if there is a distinction between that of the successful bidders and that of the unsuccessful ones. "
   ]
  },
  {
   "cell_type": "code",
   "execution_count": 14,
   "metadata": {},
   "outputs": [
    {
     "data": {
      "text/html": [
       "<div>\n",
       "<style scoped>\n",
       "    .dataframe tbody tr th:only-of-type {\n",
       "        vertical-align: middle;\n",
       "    }\n",
       "\n",
       "    .dataframe tbody tr th {\n",
       "        vertical-align: top;\n",
       "    }\n",
       "\n",
       "    .dataframe thead th {\n",
       "        text-align: right;\n",
       "    }\n",
       "</style>\n",
       "<table border=\"1\" class=\"dataframe\">\n",
       "  <thead>\n",
       "    <tr style=\"text-align: right;\">\n",
       "      <th></th>\n",
       "      <th>bidder</th>\n",
       "      <th>number of bids</th>\n",
       "    </tr>\n",
       "  </thead>\n",
       "  <tbody>\n",
       "    <tr>\n",
       "      <th>0</th>\n",
       "      <td>$stein$</td>\n",
       "      <td>1</td>\n",
       "    </tr>\n",
       "    <tr>\n",
       "      <th>1</th>\n",
       "      <td>(the-bishop)</td>\n",
       "      <td>1</td>\n",
       "    </tr>\n",
       "    <tr>\n",
       "      <th>2</th>\n",
       "      <td>*dorkus*</td>\n",
       "      <td>2</td>\n",
       "    </tr>\n",
       "    <tr>\n",
       "      <th>3</th>\n",
       "      <td>1buckeyes</td>\n",
       "      <td>9</td>\n",
       "    </tr>\n",
       "    <tr>\n",
       "      <th>4</th>\n",
       "      <td>1didjit</td>\n",
       "      <td>2</td>\n",
       "    </tr>\n",
       "    <tr>\n",
       "      <th>...</th>\n",
       "      <td>...</td>\n",
       "      <td>...</td>\n",
       "    </tr>\n",
       "    <tr>\n",
       "      <th>587</th>\n",
       "      <td>zardwpm</td>\n",
       "      <td>5</td>\n",
       "    </tr>\n",
       "    <tr>\n",
       "      <th>588</th>\n",
       "      <td>zephd@in-motion.net</td>\n",
       "      <td>2</td>\n",
       "    </tr>\n",
       "    <tr>\n",
       "      <th>589</th>\n",
       "      <td>zerozero@xtra.co.nz</td>\n",
       "      <td>3</td>\n",
       "    </tr>\n",
       "    <tr>\n",
       "      <th>590</th>\n",
       "      <td>zeta789</td>\n",
       "      <td>1</td>\n",
       "    </tr>\n",
       "    <tr>\n",
       "      <th>591</th>\n",
       "      <td>zeusmaster,</td>\n",
       "      <td>1</td>\n",
       "    </tr>\n",
       "  </tbody>\n",
       "</table>\n",
       "<p>592 rows × 2 columns</p>\n",
       "</div>"
      ],
      "text/plain": [
       "                  bidder  number of bids\n",
       "0                $stein$               1\n",
       "1           (the-bishop)               1\n",
       "2               *dorkus*               2\n",
       "3              1buckeyes               9\n",
       "4                1didjit               2\n",
       "..                   ...             ...\n",
       "587              zardwpm               5\n",
       "588  zephd@in-motion.net               2\n",
       "589  zerozero@xtra.co.nz               3\n",
       "590              zeta789               1\n",
       "591          zeusmaster,               1\n",
       "\n",
       "[592 rows x 2 columns]"
      ]
     },
     "execution_count": 14,
     "metadata": {},
     "output_type": "execute_result"
    }
   ],
   "source": [
    "#count the number of bids submitted by the bidders among all 105 auctions\n",
    "#recall that buyer_grouped is the subset of all bidders grouped by the unique bidders\n",
    "number_of_bids = buyer_grouped['quantity']\n",
    "number_of_bids = number_of_bids.count()\n",
    "number_of_bids = number_of_bids.rename('number of bids')\n",
    "number_of_bids = number_of_bids.reset_index()\n",
    "number_of_bids"
   ]
  },
  {
   "cell_type": "code",
   "execution_count": 15,
   "metadata": {},
   "outputs": [
    {
     "data": {
      "text/html": [
       "<div>\n",
       "<style scoped>\n",
       "    .dataframe tbody tr th:only-of-type {\n",
       "        vertical-align: middle;\n",
       "    }\n",
       "\n",
       "    .dataframe tbody tr th {\n",
       "        vertical-align: top;\n",
       "    }\n",
       "\n",
       "    .dataframe thead th {\n",
       "        text-align: right;\n",
       "    }\n",
       "</style>\n",
       "<table border=\"1\" class=\"dataframe\">\n",
       "  <thead>\n",
       "    <tr style=\"text-align: right;\">\n",
       "      <th></th>\n",
       "      <th>bidder</th>\n",
       "      <th>WTP</th>\n",
       "      <th>number of bids</th>\n",
       "    </tr>\n",
       "  </thead>\n",
       "  <tbody>\n",
       "    <tr>\n",
       "      <th>0</th>\n",
       "      <td>alan_knoop,</td>\n",
       "      <td>147.5</td>\n",
       "      <td>1</td>\n",
       "    </tr>\n",
       "    <tr>\n",
       "      <th>1</th>\n",
       "      <td>jdlusk83,</td>\n",
       "      <td>146.0</td>\n",
       "      <td>1</td>\n",
       "    </tr>\n",
       "    <tr>\n",
       "      <th>2</th>\n",
       "      <td>peter.shelly.1</td>\n",
       "      <td>145.0</td>\n",
       "      <td>5</td>\n",
       "    </tr>\n",
       "    <tr>\n",
       "      <th>3</th>\n",
       "      <td>rayman65</td>\n",
       "      <td>145.0</td>\n",
       "      <td>1</td>\n",
       "    </tr>\n",
       "    <tr>\n",
       "      <th>4</th>\n",
       "      <td>beantiques</td>\n",
       "      <td>144.5</td>\n",
       "      <td>2</td>\n",
       "    </tr>\n",
       "    <tr>\n",
       "      <th>...</th>\n",
       "      <td>...</td>\n",
       "      <td>...</td>\n",
       "      <td>...</td>\n",
       "    </tr>\n",
       "    <tr>\n",
       "      <th>587</th>\n",
       "      <td>andrewdoll</td>\n",
       "      <td>0.0</td>\n",
       "      <td>1</td>\n",
       "    </tr>\n",
       "    <tr>\n",
       "      <th>588</th>\n",
       "      <td>juanjrodriguez@hotmail.com</td>\n",
       "      <td>0.0</td>\n",
       "      <td>1</td>\n",
       "    </tr>\n",
       "    <tr>\n",
       "      <th>589</th>\n",
       "      <td>neesey2</td>\n",
       "      <td>0.0</td>\n",
       "      <td>1</td>\n",
       "    </tr>\n",
       "    <tr>\n",
       "      <th>590</th>\n",
       "      <td>wch7928786</td>\n",
       "      <td>0.0</td>\n",
       "      <td>2</td>\n",
       "    </tr>\n",
       "    <tr>\n",
       "      <th>591</th>\n",
       "      <td>$stein$</td>\n",
       "      <td>0.0</td>\n",
       "      <td>1</td>\n",
       "    </tr>\n",
       "  </tbody>\n",
       "</table>\n",
       "<p>592 rows × 3 columns</p>\n",
       "</div>"
      ],
      "text/plain": [
       "                         bidder    WTP  number of bids\n",
       "0                   alan_knoop,  147.5               1\n",
       "1                     jdlusk83,  146.0               1\n",
       "2                peter.shelly.1  145.0               5\n",
       "3                      rayman65  145.0               1\n",
       "4                    beantiques  144.5               2\n",
       "..                          ...    ...             ...\n",
       "587                  andrewdoll    0.0               1\n",
       "588  juanjrodriguez@hotmail.com    0.0               1\n",
       "589                     neesey2    0.0               1\n",
       "590                  wch7928786    0.0               2\n",
       "591                     $stein$    0.0               1\n",
       "\n",
       "[592 rows x 3 columns]"
      ]
     },
     "execution_count": 15,
     "metadata": {},
     "output_type": "execute_result"
    }
   ],
   "source": [
    "bidder_wtp_num = pd.merge(wtp_with_bidders, number_of_bids, how='outer', on='bidder')\n",
    "bidder_wtp_num"
   ]
  },
  {
   "cell_type": "code",
   "execution_count": 16,
   "metadata": {},
   "outputs": [
    {
     "data": {
      "text/plain": [
       "[<matplotlib.lines.Line2D at 0x1d1df784288>]"
      ]
     },
     "execution_count": 16,
     "metadata": {},
     "output_type": "execute_result"
    },
    {
     "data": {
      "image/png": "[encoded data removed]",
      "text/plain": [
       "<Figure size 432x288 with 1 Axes>"
      ]
     },
     "metadata": {
      "needs_background": "light"
     },
     "output_type": "display_data"
    }
   ],
   "source": [
    "fig, ax = plt.subplots()\n",
    "bidder_wtp_num['number of bids'].plot()\n",
    "plt.plot([104,104], [1,22])"
   ]
  },
  {
   "cell_type": "code",
   "execution_count": 17,
   "metadata": {},
   "outputs": [
    {
     "data": {
      "text/plain": [
       "bidder            phagen64\n",
       "WTP                 115.01\n",
       "number of bids          22\n",
       "Name: 142, dtype: object"
      ]
     },
     "execution_count": 17,
     "metadata": {},
     "output_type": "execute_result"
    }
   ],
   "source": [
    "bidder_wtp_num['number of bids'].idxmax()\n",
    "bidder_wtp_num.iloc[142]"
   ]
  },
  {
   "cell_type": "code",
   "execution_count": 18,
   "metadata": {},
   "outputs": [
    {
     "name": "stdout",
     "output_type": "stream",
     "text": [
      "the average of number of bids in the successful bidders is 2.0865384615384617\n",
      "the average of number of bids in the unsuccessful bidders is 2.375770020533881\n"
     ]
    }
   ],
   "source": [
    "succ = bidder_wtp_num.iloc[:104]\n",
    "succ_avg = succ['number of bids'].mean()\n",
    "unsucc = bidder_wtp_num.iloc[105:]\n",
    "unsucc_avg = unsucc['number of bids'].mean()\n",
    "unsucc_avg\n",
    "print('the average of number of bids in the successful bidders is', succ_avg)\n",
    "print('the average of number of bids in the unsuccessful bidders is', unsucc_avg)"
   ]
  },
  {
   "cell_type": "code",
   "execution_count": 19,
   "metadata": {},
   "outputs": [
    {
     "data": {
      "text/plain": [
       "[<matplotlib.lines.Line2D at 0x1d1df7bedc8>]"
      ]
     },
     "execution_count": 19,
     "metadata": {},
     "output_type": "execute_result"
    },
    {
     "data": {
      "image/png": "[encoded data removed]",
      "text/plain": [
       "<Figure size 432x288 with 1 Axes>"
      ]
     },
     "metadata": {
      "needs_background": "light"
     },
     "output_type": "display_data"
    }
   ],
   "source": [
    "fig, ax = plt.subplots()\n",
    "bidder_wtp_num['number of bids'].plot()\n",
    "plt.plot([104,104], [1,22])\n",
    "plt.plot([0,104],[succ_avg, succ_avg],'r')\n",
    "plt.plot([105,592],[unsucc_avg,unsucc_avg],'y')"
   ]
  },
  {
   "cell_type": "markdown",
   "metadata": {},
   "source": [
    "### Market in Practice\n",
    "\n",
    "First, we define the three surpluses in the actual market:\n",
    "\n",
    "| |buyer surplus| seller surplus| total surplus|\n",
    "|---|---|---|---|\n",
    "|$$\\sum$$ each auction |final price - amount paid| amount paid-staring price| final price - starting price|"
   ]
  },
  {
   "cell_type": "code",
   "execution_count": 20,
   "metadata": {},
   "outputs": [
    {
     "data": {
      "text/html": [
       "<div>\n",
       "<style scoped>\n",
       "    .dataframe tbody tr th:only-of-type {\n",
       "        vertical-align: middle;\n",
       "    }\n",
       "\n",
       "    .dataframe tbody tr th {\n",
       "        vertical-align: top;\n",
       "    }\n",
       "\n",
       "    .dataframe thead th {\n",
       "        text-align: right;\n",
       "    }\n",
       "</style>\n",
       "<table border=\"1\" class=\"dataframe\">\n",
       "  <thead>\n",
       "    <tr style=\"text-align: right;\">\n",
       "      <th></th>\n",
       "      <th>auction_number</th>\n",
       "      <th>final_price</th>\n",
       "      <th>starting_price</th>\n",
       "      <th>total_surplus</th>\n",
       "    </tr>\n",
       "  </thead>\n",
       "  <tbody>\n",
       "    <tr>\n",
       "      <th>0</th>\n",
       "      <td>1</td>\n",
       "      <td>105.00</td>\n",
       "      <td>99.00</td>\n",
       "      <td>6.00</td>\n",
       "    </tr>\n",
       "    <tr>\n",
       "      <th>1</th>\n",
       "      <td>2</td>\n",
       "      <td>112.50</td>\n",
       "      <td>9.99</td>\n",
       "      <td>102.51</td>\n",
       "    </tr>\n",
       "    <tr>\n",
       "      <th>2</th>\n",
       "      <td>3</td>\n",
       "      <td>105.48</td>\n",
       "      <td>9.99</td>\n",
       "      <td>95.49</td>\n",
       "    </tr>\n",
       "    <tr>\n",
       "      <th>3</th>\n",
       "      <td>4</td>\n",
       "      <td>142.50</td>\n",
       "      <td>24.88</td>\n",
       "      <td>117.62</td>\n",
       "    </tr>\n",
       "    <tr>\n",
       "      <th>4</th>\n",
       "      <td>5</td>\n",
       "      <td>142.50</td>\n",
       "      <td>20.00</td>\n",
       "      <td>122.50</td>\n",
       "    </tr>\n",
       "    <tr>\n",
       "      <th>...</th>\n",
       "      <td>...</td>\n",
       "      <td>...</td>\n",
       "      <td>...</td>\n",
       "      <td>...</td>\n",
       "    </tr>\n",
       "    <tr>\n",
       "      <th>100</th>\n",
       "      <td>101</td>\n",
       "      <td>122.41</td>\n",
       "      <td>50.00</td>\n",
       "      <td>72.41</td>\n",
       "    </tr>\n",
       "    <tr>\n",
       "      <th>101</th>\n",
       "      <td>102</td>\n",
       "      <td>82.00</td>\n",
       "      <td>49.00</td>\n",
       "      <td>33.00</td>\n",
       "    </tr>\n",
       "    <tr>\n",
       "      <th>102</th>\n",
       "      <td>103</td>\n",
       "      <td>132.00</td>\n",
       "      <td>59.00</td>\n",
       "      <td>73.00</td>\n",
       "    </tr>\n",
       "    <tr>\n",
       "      <th>103</th>\n",
       "      <td>104</td>\n",
       "      <td>92.01</td>\n",
       "      <td>50.00</td>\n",
       "      <td>42.01</td>\n",
       "    </tr>\n",
       "    <tr>\n",
       "      <th>104</th>\n",
       "      <td>105</td>\n",
       "      <td>127.50</td>\n",
       "      <td>110.00</td>\n",
       "      <td>17.50</td>\n",
       "    </tr>\n",
       "  </tbody>\n",
       "</table>\n",
       "<p>105 rows × 4 columns</p>\n",
       "</div>"
      ],
      "text/plain": [
       "     auction_number  final_price  starting_price  total_surplus\n",
       "0                 1       105.00           99.00           6.00\n",
       "1                 2       112.50            9.99         102.51\n",
       "2                 3       105.48            9.99          95.49\n",
       "3                 4       142.50           24.88         117.62\n",
       "4                 5       142.50           20.00         122.50\n",
       "..              ...          ...             ...            ...\n",
       "100             101       122.41           50.00          72.41\n",
       "101             102        82.00           49.00          33.00\n",
       "102             103       132.00           59.00          73.00\n",
       "103             104        92.01           50.00          42.01\n",
       "104             105       127.50          110.00          17.50\n",
       "\n",
       "[105 rows x 4 columns]"
      ]
     },
     "execution_count": 20,
     "metadata": {},
     "output_type": "execute_result"
    }
   ],
   "source": [
    "#calcullate the surplus in the actual market\n",
    "actual_mkt = df_seller.loc[:,['auction_number','final_price', 'starting_price']]\n",
    "actual_mkt= actual_mkt.reset_index(drop = True)\n",
    "actual_mkt = actual_mkt.assign(total_surplus = actual_mkt['final_price']-actual_mkt['starting_price'])\n",
    "actual_mkt"
   ]
  },
  {
   "cell_type": "code",
   "execution_count": 21,
   "metadata": {},
   "outputs": [
    {
     "data": {
      "text/html": [
       "<div>\n",
       "<style scoped>\n",
       "    .dataframe tbody tr th:only-of-type {\n",
       "        vertical-align: middle;\n",
       "    }\n",
       "\n",
       "    .dataframe tbody tr th {\n",
       "        vertical-align: top;\n",
       "    }\n",
       "\n",
       "    .dataframe thead th {\n",
       "        text-align: right;\n",
       "    }\n",
       "</style>\n",
       "<table border=\"1\" class=\"dataframe\">\n",
       "  <thead>\n",
       "    <tr style=\"text-align: right;\">\n",
       "      <th></th>\n",
       "      <th>auction_number</th>\n",
       "      <th>item</th>\n",
       "      <th>final_price</th>\n",
       "      <th>starting_price</th>\n",
       "      <th>quantity</th>\n",
       "      <th>number_of_bids</th>\n",
       "      <th>starting_time</th>\n",
       "      <th>ending_time</th>\n",
       "      <th>seller</th>\n",
       "      <th>seller_feedback</th>\n",
       "      <th>bidder</th>\n",
       "      <th>bidder_feedback</th>\n",
       "      <th>bid_amount</th>\n",
       "      <th>bid_time</th>\n",
       "    </tr>\n",
       "  </thead>\n",
       "  <tbody>\n",
       "    <tr>\n",
       "      <th>0</th>\n",
       "      <td>1</td>\n",
       "      <td>\"Intel PIII 800 EB FCPGA Socket 370, 256k, 133\"</td>\n",
       "      <td>105.0</td>\n",
       "      <td>99.0</td>\n",
       "      <td>1</td>\n",
       "      <td>4</td>\n",
       "      <td>2001-06-28 19:20:32</td>\n",
       "      <td>2001-07-01 19:20:32</td>\n",
       "      <td>cw12</td>\n",
       "      <td>181</td>\n",
       "      <td></td>\n",
       "      <td>0</td>\n",
       "      <td>99.0</td>\n",
       "      <td>0000-00-00 00:00:00</td>\n",
       "    </tr>\n",
       "    <tr>\n",
       "      <th>1</th>\n",
       "      <td>1</td>\n",
       "      <td></td>\n",
       "      <td>0.0</td>\n",
       "      <td>0.0</td>\n",
       "      <td>0</td>\n",
       "      <td>0</td>\n",
       "      <td>0000-00-00 00:00:00</td>\n",
       "      <td>0000-00-00 00:00:00</td>\n",
       "      <td></td>\n",
       "      <td>0</td>\n",
       "      <td>diginet0,</td>\n",
       "      <td>6</td>\n",
       "      <td>105.0</td>\n",
       "      <td>2001-07-01 18:45:25</td>\n",
       "    </tr>\n",
       "    <tr>\n",
       "      <th>2</th>\n",
       "      <td>1</td>\n",
       "      <td></td>\n",
       "      <td>0.0</td>\n",
       "      <td>0.0</td>\n",
       "      <td>0</td>\n",
       "      <td>0</td>\n",
       "      <td>0000-00-00 00:00:00</td>\n",
       "      <td>0000-00-00 00:00:00</td>\n",
       "      <td></td>\n",
       "      <td>0</td>\n",
       "      <td>diginet0</td>\n",
       "      <td>6</td>\n",
       "      <td>105.0</td>\n",
       "      <td>2001-07-01 18:11:55</td>\n",
       "    </tr>\n",
       "    <tr>\n",
       "      <th>3</th>\n",
       "      <td>1</td>\n",
       "      <td></td>\n",
       "      <td>0.0</td>\n",
       "      <td>0.0</td>\n",
       "      <td>0</td>\n",
       "      <td>0</td>\n",
       "      <td>0000-00-00 00:00:00</td>\n",
       "      <td>0000-00-00 00:00:00</td>\n",
       "      <td></td>\n",
       "      <td>0</td>\n",
       "      <td>carterwaite</td>\n",
       "      <td>0</td>\n",
       "      <td>102.5</td>\n",
       "      <td>2001-07-01 18:38:31</td>\n",
       "    </tr>\n",
       "    <tr>\n",
       "      <th>4</th>\n",
       "      <td>1</td>\n",
       "      <td></td>\n",
       "      <td>0.0</td>\n",
       "      <td>0.0</td>\n",
       "      <td>0</td>\n",
       "      <td>0</td>\n",
       "      <td>0000-00-00 00:00:00</td>\n",
       "      <td>0000-00-00 00:00:00</td>\n",
       "      <td></td>\n",
       "      <td>0</td>\n",
       "      <td>prophman</td>\n",
       "      <td>29</td>\n",
       "      <td>99.0</td>\n",
       "      <td>2001-06-29 17:59:34</td>\n",
       "    </tr>\n",
       "  </tbody>\n",
       "</table>\n",
       "</div>"
      ],
      "text/plain": [
       "   auction_number                                             item  \\\n",
       "0               1  \"Intel PIII 800 EB FCPGA Socket 370, 256k, 133\"   \n",
       "1               1                                                    \n",
       "2               1                                                    \n",
       "3               1                                                    \n",
       "4               1                                                    \n",
       "\n",
       "   final_price  starting_price  quantity  number_of_bids        starting_time  \\\n",
       "0        105.0            99.0         1               4  2001-06-28 19:20:32   \n",
       "1          0.0             0.0         0               0  0000-00-00 00:00:00   \n",
       "2          0.0             0.0         0               0  0000-00-00 00:00:00   \n",
       "3          0.0             0.0         0               0  0000-00-00 00:00:00   \n",
       "4          0.0             0.0         0               0  0000-00-00 00:00:00   \n",
       "\n",
       "           ending_time seller  seller_feedback       bidder  bidder_feedback  \\\n",
       "0  2001-07-01 19:20:32   cw12              181                             0   \n",
       "1  0000-00-00 00:00:00                       0    diginet0,                6   \n",
       "2  0000-00-00 00:00:00                       0     diginet0                6   \n",
       "3  0000-00-00 00:00:00                       0  carterwaite                0   \n",
       "4  0000-00-00 00:00:00                       0     prophman               29   \n",
       "\n",
       "   bid_amount             bid_time  \n",
       "0        99.0  0000-00-00 00:00:00  \n",
       "1       105.0  2001-07-01 18:45:25  \n",
       "2       105.0  2001-07-01 18:11:55  \n",
       "3       102.5  2001-07-01 18:38:31  \n",
       "4        99.0  2001-06-29 17:59:34  "
      ]
     },
     "execution_count": 21,
     "metadata": {},
     "output_type": "execute_result"
    }
   ],
   "source": [
    "#GOAL: find out the second highest bid in each auction\n",
    "#to deal with the auctions where only one bidder submitted bids, we create a new data set \n",
    "#by replacing the bid amount of the seller with the starting price\n",
    "df_adjusted = df.copy()\n",
    "df_adjusted.loc[df['bidder'] == '', 'bid_amount'] = df_adjusted.loc[df['bidder'] == '', 'starting_price']\n",
    "df_adjusted.head()"
   ]
  },
  {
   "cell_type": "code",
   "execution_count": 22,
   "metadata": {},
   "outputs": [
    {
     "data": {
      "text/html": [
       "<div>\n",
       "<style scoped>\n",
       "    .dataframe tbody tr th:only-of-type {\n",
       "        vertical-align: middle;\n",
       "    }\n",
       "\n",
       "    .dataframe tbody tr th {\n",
       "        vertical-align: top;\n",
       "    }\n",
       "\n",
       "    .dataframe thead th {\n",
       "        text-align: right;\n",
       "    }\n",
       "</style>\n",
       "<table border=\"1\" class=\"dataframe\">\n",
       "  <thead>\n",
       "    <tr style=\"text-align: right;\">\n",
       "      <th></th>\n",
       "      <th>auction_number</th>\n",
       "      <th>amount_paid</th>\n",
       "    </tr>\n",
       "  </thead>\n",
       "  <tbody>\n",
       "    <tr>\n",
       "      <th>0</th>\n",
       "      <td>1</td>\n",
       "      <td>105.00</td>\n",
       "    </tr>\n",
       "    <tr>\n",
       "      <th>1</th>\n",
       "      <td>2</td>\n",
       "      <td>110.00</td>\n",
       "    </tr>\n",
       "    <tr>\n",
       "      <th>2</th>\n",
       "      <td>3</td>\n",
       "      <td>102.98</td>\n",
       "    </tr>\n",
       "    <tr>\n",
       "      <th>3</th>\n",
       "      <td>4</td>\n",
       "      <td>140.00</td>\n",
       "    </tr>\n",
       "    <tr>\n",
       "      <th>4</th>\n",
       "      <td>5</td>\n",
       "      <td>140.00</td>\n",
       "    </tr>\n",
       "    <tr>\n",
       "      <th>...</th>\n",
       "      <td>...</td>\n",
       "      <td>...</td>\n",
       "    </tr>\n",
       "    <tr>\n",
       "      <th>100</th>\n",
       "      <td>101</td>\n",
       "      <td>119.91</td>\n",
       "    </tr>\n",
       "    <tr>\n",
       "      <th>101</th>\n",
       "      <td>102</td>\n",
       "      <td>81.00</td>\n",
       "    </tr>\n",
       "    <tr>\n",
       "      <th>102</th>\n",
       "      <td>103</td>\n",
       "      <td>130.00</td>\n",
       "    </tr>\n",
       "    <tr>\n",
       "      <th>103</th>\n",
       "      <td>104</td>\n",
       "      <td>91.01</td>\n",
       "    </tr>\n",
       "    <tr>\n",
       "      <th>104</th>\n",
       "      <td>105</td>\n",
       "      <td>125.00</td>\n",
       "    </tr>\n",
       "  </tbody>\n",
       "</table>\n",
       "<p>105 rows × 2 columns</p>\n",
       "</div>"
      ],
      "text/plain": [
       "     auction_number  amount_paid\n",
       "0                 1       105.00\n",
       "1                 2       110.00\n",
       "2                 3       102.98\n",
       "3                 4       140.00\n",
       "4                 5       140.00\n",
       "..              ...          ...\n",
       "100             101       119.91\n",
       "101             102        81.00\n",
       "102             103       130.00\n",
       "103             104        91.01\n",
       "104             105       125.00\n",
       "\n",
       "[105 rows x 2 columns]"
      ]
     },
     "execution_count": 22,
     "metadata": {},
     "output_type": "execute_result"
    }
   ],
   "source": [
    "df_adjusted = df_adjusted.sort_values(by = 'bid_amount', ascending = False)\n",
    "df_grouped = df_adjusted.groupby('auction_number')\n",
    "result = df_grouped.nth(1)\n",
    "#some tests:\n",
    "#df_seller.loc[df_seller['number_of_bids'] == 1]\n",
    "#result.loc[result['bidder'] == '']\n",
    "#df[df.auction_number == 48]\n",
    "#result.iloc[48]\n",
    "result = result.reset_index()\n",
    "result = result[['auction_number', 'bid_amount']]\n",
    "result = result.rename(columns={'bid_amount':'amount_paid'})\n",
    "result"
   ]
  },
  {
   "cell_type": "code",
   "execution_count": 23,
   "metadata": {},
   "outputs": [
    {
     "data": {
      "text/html": [
       "<div>\n",
       "<style scoped>\n",
       "    .dataframe tbody tr th:only-of-type {\n",
       "        vertical-align: middle;\n",
       "    }\n",
       "\n",
       "    .dataframe tbody tr th {\n",
       "        vertical-align: top;\n",
       "    }\n",
       "\n",
       "    .dataframe thead th {\n",
       "        text-align: right;\n",
       "    }\n",
       "</style>\n",
       "<table border=\"1\" class=\"dataframe\">\n",
       "  <thead>\n",
       "    <tr style=\"text-align: right;\">\n",
       "      <th></th>\n",
       "      <th>auction_number</th>\n",
       "      <th>final_price</th>\n",
       "      <th>amount_paid</th>\n",
       "      <th>starting_price</th>\n",
       "      <th>buyer_surplus</th>\n",
       "      <th>seller_surplus</th>\n",
       "      <th>total_surplus</th>\n",
       "    </tr>\n",
       "  </thead>\n",
       "  <tbody>\n",
       "    <tr>\n",
       "      <th>0</th>\n",
       "      <td>1</td>\n",
       "      <td>105.00</td>\n",
       "      <td>105.00</td>\n",
       "      <td>99.00</td>\n",
       "      <td>0.0</td>\n",
       "      <td>6.00</td>\n",
       "      <td>6.00</td>\n",
       "    </tr>\n",
       "    <tr>\n",
       "      <th>1</th>\n",
       "      <td>2</td>\n",
       "      <td>112.50</td>\n",
       "      <td>110.00</td>\n",
       "      <td>9.99</td>\n",
       "      <td>2.5</td>\n",
       "      <td>100.01</td>\n",
       "      <td>102.51</td>\n",
       "    </tr>\n",
       "    <tr>\n",
       "      <th>2</th>\n",
       "      <td>3</td>\n",
       "      <td>105.48</td>\n",
       "      <td>102.98</td>\n",
       "      <td>9.99</td>\n",
       "      <td>2.5</td>\n",
       "      <td>92.99</td>\n",
       "      <td>95.49</td>\n",
       "    </tr>\n",
       "    <tr>\n",
       "      <th>3</th>\n",
       "      <td>4</td>\n",
       "      <td>142.50</td>\n",
       "      <td>140.00</td>\n",
       "      <td>24.88</td>\n",
       "      <td>2.5</td>\n",
       "      <td>115.12</td>\n",
       "      <td>117.62</td>\n",
       "    </tr>\n",
       "    <tr>\n",
       "      <th>4</th>\n",
       "      <td>5</td>\n",
       "      <td>142.50</td>\n",
       "      <td>140.00</td>\n",
       "      <td>20.00</td>\n",
       "      <td>2.5</td>\n",
       "      <td>120.00</td>\n",
       "      <td>122.50</td>\n",
       "    </tr>\n",
       "    <tr>\n",
       "      <th>...</th>\n",
       "      <td>...</td>\n",
       "      <td>...</td>\n",
       "      <td>...</td>\n",
       "      <td>...</td>\n",
       "      <td>...</td>\n",
       "      <td>...</td>\n",
       "      <td>...</td>\n",
       "    </tr>\n",
       "    <tr>\n",
       "      <th>100</th>\n",
       "      <td>101</td>\n",
       "      <td>122.41</td>\n",
       "      <td>119.91</td>\n",
       "      <td>50.00</td>\n",
       "      <td>2.5</td>\n",
       "      <td>69.91</td>\n",
       "      <td>72.41</td>\n",
       "    </tr>\n",
       "    <tr>\n",
       "      <th>101</th>\n",
       "      <td>102</td>\n",
       "      <td>82.00</td>\n",
       "      <td>81.00</td>\n",
       "      <td>49.00</td>\n",
       "      <td>1.0</td>\n",
       "      <td>32.00</td>\n",
       "      <td>33.00</td>\n",
       "    </tr>\n",
       "    <tr>\n",
       "      <th>102</th>\n",
       "      <td>103</td>\n",
       "      <td>132.00</td>\n",
       "      <td>130.00</td>\n",
       "      <td>59.00</td>\n",
       "      <td>2.0</td>\n",
       "      <td>71.00</td>\n",
       "      <td>73.00</td>\n",
       "    </tr>\n",
       "    <tr>\n",
       "      <th>103</th>\n",
       "      <td>104</td>\n",
       "      <td>92.01</td>\n",
       "      <td>91.01</td>\n",
       "      <td>50.00</td>\n",
       "      <td>1.0</td>\n",
       "      <td>41.01</td>\n",
       "      <td>42.01</td>\n",
       "    </tr>\n",
       "    <tr>\n",
       "      <th>104</th>\n",
       "      <td>105</td>\n",
       "      <td>127.50</td>\n",
       "      <td>125.00</td>\n",
       "      <td>110.00</td>\n",
       "      <td>2.5</td>\n",
       "      <td>15.00</td>\n",
       "      <td>17.50</td>\n",
       "    </tr>\n",
       "  </tbody>\n",
       "</table>\n",
       "<p>105 rows × 7 columns</p>\n",
       "</div>"
      ],
      "text/plain": [
       "     auction_number  final_price  amount_paid  starting_price  buyer_surplus  \\\n",
       "0                 1       105.00       105.00           99.00            0.0   \n",
       "1                 2       112.50       110.00            9.99            2.5   \n",
       "2                 3       105.48       102.98            9.99            2.5   \n",
       "3                 4       142.50       140.00           24.88            2.5   \n",
       "4                 5       142.50       140.00           20.00            2.5   \n",
       "..              ...          ...          ...             ...            ...   \n",
       "100             101       122.41       119.91           50.00            2.5   \n",
       "101             102        82.00        81.00           49.00            1.0   \n",
       "102             103       132.00       130.00           59.00            2.0   \n",
       "103             104        92.01        91.01           50.00            1.0   \n",
       "104             105       127.50       125.00          110.00            2.5   \n",
       "\n",
       "     seller_surplus  total_surplus  \n",
       "0              6.00           6.00  \n",
       "1            100.01         102.51  \n",
       "2             92.99          95.49  \n",
       "3            115.12         117.62  \n",
       "4            120.00         122.50  \n",
       "..              ...            ...  \n",
       "100           69.91          72.41  \n",
       "101           32.00          33.00  \n",
       "102           71.00          73.00  \n",
       "103           41.01          42.01  \n",
       "104           15.00          17.50  \n",
       "\n",
       "[105 rows x 7 columns]"
      ]
     },
     "execution_count": 23,
     "metadata": {},
     "output_type": "execute_result"
    }
   ],
   "source": [
    "#actual_mkt = pd.merge(actual_mkt, result, on='auction_number', how='outer')\n",
    "actual_mkt\n",
    "actual = pd.merge(actual_mkt, result, on='auction_number', how='outer')\n",
    "actual['buyer_surplus'] = actual['final_price']-actual['amount_paid']\n",
    "actual['seller_surplus'] = actual['amount_paid']-actual['starting_price']\n",
    "actual = actual[['auction_number','final_price','amount_paid','starting_price',\n",
    "                'buyer_surplus','seller_surplus','total_surplus']]\n",
    "actual"
   ]
  },
  {
   "cell_type": "code",
   "execution_count": 24,
   "metadata": {},
   "outputs": [],
   "source": [
    "buyer_surplus_act = actual['buyer_surplus'].sum()\n",
    "seller_surplus_act=actual['seller_surplus'].sum()\n",
    "total_surplus_act=actual['total_surplus'].sum()"
   ]
  },
  {
   "cell_type": "code",
   "execution_count": 25,
   "metadata": {},
   "outputs": [
    {
     "data": {
      "text/html": [
       "<div>\n",
       "<style scoped>\n",
       "    .dataframe tbody tr th:only-of-type {\n",
       "        vertical-align: middle;\n",
       "    }\n",
       "\n",
       "    .dataframe tbody tr th {\n",
       "        vertical-align: top;\n",
       "    }\n",
       "\n",
       "    .dataframe thead th {\n",
       "        text-align: right;\n",
       "    }\n",
       "</style>\n",
       "<table border=\"1\" class=\"dataframe\">\n",
       "  <thead>\n",
       "    <tr style=\"text-align: right;\">\n",
       "      <th></th>\n",
       "      <th>buyer surplus</th>\n",
       "      <th>seller surplus</th>\n",
       "      <th>total surplus</th>\n",
       "    </tr>\n",
       "  </thead>\n",
       "  <tbody>\n",
       "    <tr>\n",
       "      <th>imaginary mkt</th>\n",
       "      <td>1001.52</td>\n",
       "      <td>8685.44</td>\n",
       "      <td>9686.96</td>\n",
       "    </tr>\n",
       "    <tr>\n",
       "      <th>actual mkt</th>\n",
       "      <td>198.58</td>\n",
       "      <td>7971.94</td>\n",
       "      <td>8170.52</td>\n",
       "    </tr>\n",
       "  </tbody>\n",
       "</table>\n",
       "</div>"
      ],
      "text/plain": [
       "               buyer surplus  seller surplus  total surplus\n",
       "imaginary mkt        1001.52         8685.44        9686.96\n",
       "actual mkt            198.58         7971.94        8170.52"
      ]
     },
     "execution_count": 25,
     "metadata": {},
     "output_type": "execute_result"
    }
   ],
   "source": [
    "summary = pd.DataFrame([[buyer_surplus, seller_surplus, total_img_surplus],\n",
    "                       [buyer_surplus_act, seller_surplus_act, total_surplus_act]],\n",
    "                      index = ['imaginary mkt', 'actual mkt'],\n",
    "                      columns = ['buyer surplus', 'seller surplus', 'total surplus'])\n",
    "summary"
   ]
  },
  {
   "cell_type": "code",
   "execution_count": 26,
   "metadata": {},
   "outputs": [
    {
     "data": {
      "text/html": [
       "<div>\n",
       "<style scoped>\n",
       "    .dataframe tbody tr th:only-of-type {\n",
       "        vertical-align: middle;\n",
       "    }\n",
       "\n",
       "    .dataframe tbody tr th {\n",
       "        vertical-align: top;\n",
       "    }\n",
       "\n",
       "    .dataframe thead th {\n",
       "        text-align: right;\n",
       "    }\n",
       "</style>\n",
       "<table border=\"1\" class=\"dataframe\">\n",
       "  <thead>\n",
       "    <tr style=\"text-align: right;\">\n",
       "      <th></th>\n",
       "      <th>buyer surplus</th>\n",
       "      <th>buyer percentage</th>\n",
       "      <th>seller surplus</th>\n",
       "      <th>seller percentage</th>\n",
       "      <th>total surplus</th>\n",
       "    </tr>\n",
       "  </thead>\n",
       "  <tbody>\n",
       "    <tr>\n",
       "      <th>imaginary mkt</th>\n",
       "      <td>1001.52</td>\n",
       "      <td>10.34%</td>\n",
       "      <td>8685.44</td>\n",
       "      <td>89.66%</td>\n",
       "      <td>9686.96</td>\n",
       "    </tr>\n",
       "    <tr>\n",
       "      <th>actual mkt</th>\n",
       "      <td>198.58</td>\n",
       "      <td>2.43%</td>\n",
       "      <td>7971.94</td>\n",
       "      <td>97.57%</td>\n",
       "      <td>8170.52</td>\n",
       "    </tr>\n",
       "  </tbody>\n",
       "</table>\n",
       "</div>"
      ],
      "text/plain": [
       "               buyer surplus buyer percentage  seller surplus  \\\n",
       "imaginary mkt        1001.52           10.34%         8685.44   \n",
       "actual mkt            198.58            2.43%         7971.94   \n",
       "\n",
       "              seller percentage  total surplus  \n",
       "imaginary mkt            89.66%        9686.96  \n",
       "actual mkt               97.57%        8170.52  "
      ]
     },
     "execution_count": 26,
     "metadata": {},
     "output_type": "execute_result"
    }
   ],
   "source": [
    "summary['buyer percentage'] = (summary['buyer surplus']/summary['total surplus']).astype(float).map(\"{:.2%}\".format)\n",
    "summary['seller percentage'] = (summary['seller surplus']/summary['total surplus']).astype(float).map(\"{:.2%}\".format)\n",
    "order = ['buyer surplus', 'buyer percentage' ,'seller surplus', 'seller percentage' ,  'total surplus']\n",
    "summary =summary[order]\n",
    "summary"
   ]
  },
  {
   "cell_type": "code",
   "execution_count": 27,
   "metadata": {},
   "outputs": [
    {
     "data": {
      "text/html": [
       "<div>\n",
       "<style scoped>\n",
       "    .dataframe tbody tr th:only-of-type {\n",
       "        vertical-align: middle;\n",
       "    }\n",
       "\n",
       "    .dataframe tbody tr th {\n",
       "        vertical-align: top;\n",
       "    }\n",
       "\n",
       "    .dataframe thead th {\n",
       "        text-align: right;\n",
       "    }\n",
       "</style>\n",
       "<table border=\"1\" class=\"dataframe\">\n",
       "  <thead>\n",
       "    <tr style=\"text-align: right;\">\n",
       "      <th></th>\n",
       "      <th>buyer surplus</th>\n",
       "      <th>buyer percentage</th>\n",
       "      <th>seller surplus</th>\n",
       "      <th>seller percentage</th>\n",
       "      <th>total surplus</th>\n",
       "    </tr>\n",
       "  </thead>\n",
       "  <tbody>\n",
       "    <tr>\n",
       "      <th>perct change</th>\n",
       "      <td>-80.17%</td>\n",
       "      <td>NaN</td>\n",
       "      <td>-8.21%</td>\n",
       "      <td>NaN</td>\n",
       "      <td>-15.65%</td>\n",
       "    </tr>\n",
       "  </tbody>\n",
       "</table>\n",
       "</div>"
      ],
      "text/plain": [
       "             buyer surplus  buyer percentage seller surplus  \\\n",
       "perct change       -80.17%               NaN         -8.21%   \n",
       "\n",
       "              seller percentage total surplus  \n",
       "perct change                NaN       -15.65%  "
      ]
     },
     "execution_count": 27,
     "metadata": {},
     "output_type": "execute_result"
    }
   ],
   "source": [
    "new_row = pd.DataFrame([[(summary.iloc[1,0]-summary.iloc[0,0])/summary.iloc[0,0], np.nan,\n",
    "                        (summary.iloc[1,2]-summary.iloc[0,2])/summary.iloc[0,2], np.nan,\n",
    "                       (summary.iloc[1,4]-summary.iloc[0,4])/summary.iloc[0,4]]],\n",
    "                      index = ['perct change'],columns = order)\n",
    "new_row['seller surplus'] = new_row['seller surplus'].map('{:,.2%}'.format)\n",
    "new_row['buyer surplus'] = new_row['buyer surplus'].map('{:,.2%}'.format)\n",
    "new_row['total surplus'] = new_row['total surplus'].map('{:,.2%}'.format)\n",
    "new_row"
   ]
  },
  {
   "cell_type": "code",
   "execution_count": 28,
   "metadata": {},
   "outputs": [
    {
     "data": {
      "text/html": [
       "<div>\n",
       "<style scoped>\n",
       "    .dataframe tbody tr th:only-of-type {\n",
       "        vertical-align: middle;\n",
       "    }\n",
       "\n",
       "    .dataframe tbody tr th {\n",
       "        vertical-align: top;\n",
       "    }\n",
       "\n",
       "    .dataframe thead th {\n",
       "        text-align: right;\n",
       "    }\n",
       "</style>\n",
       "<table border=\"1\" class=\"dataframe\">\n",
       "  <thead>\n",
       "    <tr style=\"text-align: right;\">\n",
       "      <th></th>\n",
       "      <th>buyer surplus</th>\n",
       "      <th>buyer percentage</th>\n",
       "      <th>seller surplus</th>\n",
       "      <th>seller percentage</th>\n",
       "      <th>total surplus</th>\n",
       "    </tr>\n",
       "  </thead>\n",
       "  <tbody>\n",
       "    <tr>\n",
       "      <th>imaginary mkt</th>\n",
       "      <td>1001.52</td>\n",
       "      <td>10.34%</td>\n",
       "      <td>8685.44</td>\n",
       "      <td>89.66%</td>\n",
       "      <td>9686.96</td>\n",
       "    </tr>\n",
       "    <tr>\n",
       "      <th>actual mkt</th>\n",
       "      <td>198.58</td>\n",
       "      <td>2.43%</td>\n",
       "      <td>7971.94</td>\n",
       "      <td>97.57%</td>\n",
       "      <td>8170.52</td>\n",
       "    </tr>\n",
       "    <tr>\n",
       "      <th>perct change</th>\n",
       "      <td>-80.17%</td>\n",
       "      <td>NaN</td>\n",
       "      <td>-8.21%</td>\n",
       "      <td>NaN</td>\n",
       "      <td>-15.65%</td>\n",
       "    </tr>\n",
       "  </tbody>\n",
       "</table>\n",
       "</div>"
      ],
      "text/plain": [
       "              buyer surplus buyer percentage seller surplus seller percentage  \\\n",
       "imaginary mkt       1001.52           10.34%        8685.44            89.66%   \n",
       "actual mkt           198.58            2.43%        7971.94            97.57%   \n",
       "perct change        -80.17%              NaN         -8.21%               NaN   \n",
       "\n",
       "              total surplus  \n",
       "imaginary mkt       9686.96  \n",
       "actual mkt          8170.52  \n",
       "perct change        -15.65%  "
      ]
     },
     "execution_count": 28,
     "metadata": {},
     "output_type": "execute_result"
    }
   ],
   "source": [
    "summary = pd.concat([summary, new_row])\n",
    "summary"
   ]
  },
  {
   "cell_type": "markdown",
   "metadata": {},
   "source": [
    "### Intersection, union and differences\n",
    "\n",
    "To further undertand the significant drop in the surpluses and the change in the distribution, we could separate the bidders into different types, those who would succceed in the imgainary market, those who did succeed in the actual market, or those who succeeded in both markets."
   ]
  },
  {
   "cell_type": "code",
   "execution_count": 29,
   "metadata": {},
   "outputs": [
    {
     "data": {
      "text/html": [
       "<div>\n",
       "<style scoped>\n",
       "    .dataframe tbody tr th:only-of-type {\n",
       "        vertical-align: middle;\n",
       "    }\n",
       "\n",
       "    .dataframe tbody tr th {\n",
       "        vertical-align: top;\n",
       "    }\n",
       "\n",
       "    .dataframe thead th {\n",
       "        text-align: right;\n",
       "    }\n",
       "</style>\n",
       "<table border=\"1\" class=\"dataframe\">\n",
       "  <thead>\n",
       "    <tr style=\"text-align: right;\">\n",
       "      <th></th>\n",
       "      <th>bidder</th>\n",
       "    </tr>\n",
       "  </thead>\n",
       "  <tbody>\n",
       "    <tr>\n",
       "      <th>0</th>\n",
       "      <td>alan_knoop,</td>\n",
       "    </tr>\n",
       "    <tr>\n",
       "      <th>1</th>\n",
       "      <td>jdlusk83,</td>\n",
       "    </tr>\n",
       "    <tr>\n",
       "      <th>2</th>\n",
       "      <td>peter.shelly.1</td>\n",
       "    </tr>\n",
       "    <tr>\n",
       "      <th>3</th>\n",
       "      <td>rayman65</td>\n",
       "    </tr>\n",
       "    <tr>\n",
       "      <th>4</th>\n",
       "      <td>beantiques</td>\n",
       "    </tr>\n",
       "    <tr>\n",
       "      <th>...</th>\n",
       "      <td>...</td>\n",
       "    </tr>\n",
       "    <tr>\n",
       "      <th>99</th>\n",
       "      <td>ernzan</td>\n",
       "    </tr>\n",
       "    <tr>\n",
       "      <th>100</th>\n",
       "      <td>pridday1</td>\n",
       "    </tr>\n",
       "    <tr>\n",
       "      <th>101</th>\n",
       "      <td>*dorkus*</td>\n",
       "    </tr>\n",
       "    <tr>\n",
       "      <th>102</th>\n",
       "      <td>contr</td>\n",
       "    </tr>\n",
       "    <tr>\n",
       "      <th>103</th>\n",
       "      <td>firedrake55</td>\n",
       "    </tr>\n",
       "  </tbody>\n",
       "</table>\n",
       "<p>104 rows × 1 columns</p>\n",
       "</div>"
      ],
      "text/plain": [
       "             bidder\n",
       "0       alan_knoop,\n",
       "1         jdlusk83,\n",
       "2    peter.shelly.1\n",
       "3          rayman65\n",
       "4        beantiques\n",
       "..              ...\n",
       "99           ernzan\n",
       "100        pridday1\n",
       "101        *dorkus*\n",
       "102           contr\n",
       "103     firedrake55\n",
       "\n",
       "[104 rows x 1 columns]"
      ]
     },
     "execution_count": 29,
     "metadata": {},
     "output_type": "execute_result"
    }
   ],
   "source": [
    "#unique successful bidders in the img mkt\n",
    "succ_img = wtp_with_bidders.iloc[:104]\n",
    "succ_img = succ_img[['bidder']]\n",
    "succ_img = succ_img.drop_duplicates()\n",
    "succ_img"
   ]
  },
  {
   "cell_type": "code",
   "execution_count": 30,
   "metadata": {},
   "outputs": [
    {
     "data": {
      "text/html": [
       "<div>\n",
       "<style scoped>\n",
       "    .dataframe tbody tr th:only-of-type {\n",
       "        vertical-align: middle;\n",
       "    }\n",
       "\n",
       "    .dataframe tbody tr th {\n",
       "        vertical-align: top;\n",
       "    }\n",
       "\n",
       "    .dataframe thead th {\n",
       "        text-align: right;\n",
       "    }\n",
       "</style>\n",
       "<table border=\"1\" class=\"dataframe\">\n",
       "  <thead>\n",
       "    <tr style=\"text-align: right;\">\n",
       "      <th></th>\n",
       "      <th>bidder</th>\n",
       "    </tr>\n",
       "  </thead>\n",
       "  <tbody>\n",
       "    <tr>\n",
       "      <th>0</th>\n",
       "      <td>diginet0</td>\n",
       "    </tr>\n",
       "    <tr>\n",
       "      <th>1</th>\n",
       "      <td>tomcat_lastdefence_net,</td>\n",
       "    </tr>\n",
       "    <tr>\n",
       "      <th>2</th>\n",
       "      <td>chuckw97,</td>\n",
       "    </tr>\n",
       "    <tr>\n",
       "      <th>3</th>\n",
       "      <td>jkahn@kahnmechanical.com,</td>\n",
       "    </tr>\n",
       "    <tr>\n",
       "      <th>4</th>\n",
       "      <td>stat1k,</td>\n",
       "    </tr>\n",
       "    <tr>\n",
       "      <th>...</th>\n",
       "      <td>...</td>\n",
       "    </tr>\n",
       "    <tr>\n",
       "      <th>100</th>\n",
       "      <td>lwcrawfo@yahoo.com,</td>\n",
       "    </tr>\n",
       "    <tr>\n",
       "      <th>101</th>\n",
       "      <td>mailetc@mindspring.com,</td>\n",
       "    </tr>\n",
       "    <tr>\n",
       "      <th>102</th>\n",
       "      <td>jorgemaxit@hotmail.com,</td>\n",
       "    </tr>\n",
       "    <tr>\n",
       "      <th>103</th>\n",
       "      <td>mmontoya,</td>\n",
       "    </tr>\n",
       "    <tr>\n",
       "      <th>104</th>\n",
       "      <td>cvokoun@swbell.net,</td>\n",
       "    </tr>\n",
       "  </tbody>\n",
       "</table>\n",
       "<p>96 rows × 1 columns</p>\n",
       "</div>"
      ],
      "text/plain": [
       "                        bidder\n",
       "0                     diginet0\n",
       "1      tomcat_lastdefence_net,\n",
       "2                    chuckw97,\n",
       "3    jkahn@kahnmechanical.com,\n",
       "4                      stat1k,\n",
       "..                         ...\n",
       "100        lwcrawfo@yahoo.com,\n",
       "101    mailetc@mindspring.com,\n",
       "102    jorgemaxit@hotmail.com,\n",
       "103                  mmontoya,\n",
       "104        cvokoun@swbell.net,\n",
       "\n",
       "[96 rows x 1 columns]"
      ]
     },
     "execution_count": 30,
     "metadata": {},
     "output_type": "execute_result"
    }
   ],
   "source": [
    "#all and unique successful bidders in the actual market (2 subsets)\n",
    "succ_act_all = df_buyer.sort_values(by = 'bid_amount', ascending = False)\n",
    "succ_act_all = succ_act_all.groupby('auction_number')\n",
    "succ_act_all = succ_act_all.nth(0)\n",
    "\n",
    "succ_act = succ_act_all[['bidder']]\n",
    "succ_act = succ_act.reset_index(drop = True)\n",
    "succ_act = succ_act.drop_duplicates()\n",
    "succ_act"
   ]
  },
  {
   "cell_type": "code",
   "execution_count": 31,
   "metadata": {},
   "outputs": [
    {
     "data": {
      "text/html": [
       "<div>\n",
       "<style scoped>\n",
       "    .dataframe tbody tr th:only-of-type {\n",
       "        vertical-align: middle;\n",
       "    }\n",
       "\n",
       "    .dataframe tbody tr th {\n",
       "        vertical-align: top;\n",
       "    }\n",
       "\n",
       "    .dataframe thead th {\n",
       "        text-align: right;\n",
       "    }\n",
       "</style>\n",
       "<table border=\"1\" class=\"dataframe\">\n",
       "  <thead>\n",
       "    <tr style=\"text-align: right;\">\n",
       "      <th></th>\n",
       "      <th>auction_number</th>\n",
       "      <th>bidder</th>\n",
       "      <th>final_price</th>\n",
       "      <th>amount_paid</th>\n",
       "      <th>starting_price</th>\n",
       "      <th>buyer_surplus</th>\n",
       "      <th>seller_surplus</th>\n",
       "      <th>total_surplus</th>\n",
       "    </tr>\n",
       "  </thead>\n",
       "  <tbody>\n",
       "    <tr>\n",
       "      <th>0</th>\n",
       "      <td>1</td>\n",
       "      <td>diginet0</td>\n",
       "      <td>105.00</td>\n",
       "      <td>105.00</td>\n",
       "      <td>99.00</td>\n",
       "      <td>0.0</td>\n",
       "      <td>6.00</td>\n",
       "      <td>6.00</td>\n",
       "    </tr>\n",
       "    <tr>\n",
       "      <th>1</th>\n",
       "      <td>2</td>\n",
       "      <td>tomcat_lastdefence_net,</td>\n",
       "      <td>112.50</td>\n",
       "      <td>110.00</td>\n",
       "      <td>9.99</td>\n",
       "      <td>2.5</td>\n",
       "      <td>100.01</td>\n",
       "      <td>102.51</td>\n",
       "    </tr>\n",
       "    <tr>\n",
       "      <th>2</th>\n",
       "      <td>3</td>\n",
       "      <td>chuckw97,</td>\n",
       "      <td>105.48</td>\n",
       "      <td>102.98</td>\n",
       "      <td>9.99</td>\n",
       "      <td>2.5</td>\n",
       "      <td>92.99</td>\n",
       "      <td>95.49</td>\n",
       "    </tr>\n",
       "    <tr>\n",
       "      <th>3</th>\n",
       "      <td>4</td>\n",
       "      <td>jkahn@kahnmechanical.com,</td>\n",
       "      <td>142.50</td>\n",
       "      <td>140.00</td>\n",
       "      <td>24.88</td>\n",
       "      <td>2.5</td>\n",
       "      <td>115.12</td>\n",
       "      <td>117.62</td>\n",
       "    </tr>\n",
       "    <tr>\n",
       "      <th>4</th>\n",
       "      <td>5</td>\n",
       "      <td>stat1k,</td>\n",
       "      <td>142.50</td>\n",
       "      <td>140.00</td>\n",
       "      <td>20.00</td>\n",
       "      <td>2.5</td>\n",
       "      <td>120.00</td>\n",
       "      <td>122.50</td>\n",
       "    </tr>\n",
       "    <tr>\n",
       "      <th>...</th>\n",
       "      <td>...</td>\n",
       "      <td>...</td>\n",
       "      <td>...</td>\n",
       "      <td>...</td>\n",
       "      <td>...</td>\n",
       "      <td>...</td>\n",
       "      <td>...</td>\n",
       "      <td>...</td>\n",
       "    </tr>\n",
       "    <tr>\n",
       "      <th>100</th>\n",
       "      <td>101</td>\n",
       "      <td>lwcrawfo@yahoo.com,</td>\n",
       "      <td>122.41</td>\n",
       "      <td>119.91</td>\n",
       "      <td>50.00</td>\n",
       "      <td>2.5</td>\n",
       "      <td>69.91</td>\n",
       "      <td>72.41</td>\n",
       "    </tr>\n",
       "    <tr>\n",
       "      <th>101</th>\n",
       "      <td>102</td>\n",
       "      <td>mailetc@mindspring.com,</td>\n",
       "      <td>82.00</td>\n",
       "      <td>81.00</td>\n",
       "      <td>49.00</td>\n",
       "      <td>1.0</td>\n",
       "      <td>32.00</td>\n",
       "      <td>33.00</td>\n",
       "    </tr>\n",
       "    <tr>\n",
       "      <th>102</th>\n",
       "      <td>103</td>\n",
       "      <td>jorgemaxit@hotmail.com,</td>\n",
       "      <td>132.00</td>\n",
       "      <td>130.00</td>\n",
       "      <td>59.00</td>\n",
       "      <td>2.0</td>\n",
       "      <td>71.00</td>\n",
       "      <td>73.00</td>\n",
       "    </tr>\n",
       "    <tr>\n",
       "      <th>103</th>\n",
       "      <td>104</td>\n",
       "      <td>mmontoya,</td>\n",
       "      <td>92.01</td>\n",
       "      <td>91.01</td>\n",
       "      <td>50.00</td>\n",
       "      <td>1.0</td>\n",
       "      <td>41.01</td>\n",
       "      <td>42.01</td>\n",
       "    </tr>\n",
       "    <tr>\n",
       "      <th>104</th>\n",
       "      <td>105</td>\n",
       "      <td>cvokoun@swbell.net,</td>\n",
       "      <td>127.50</td>\n",
       "      <td>125.00</td>\n",
       "      <td>110.00</td>\n",
       "      <td>2.5</td>\n",
       "      <td>15.00</td>\n",
       "      <td>17.50</td>\n",
       "    </tr>\n",
       "  </tbody>\n",
       "</table>\n",
       "<p>105 rows × 8 columns</p>\n",
       "</div>"
      ],
      "text/plain": [
       "     auction_number                     bidder  final_price  amount_paid  \\\n",
       "0                 1                   diginet0       105.00       105.00   \n",
       "1                 2    tomcat_lastdefence_net,       112.50       110.00   \n",
       "2                 3                  chuckw97,       105.48       102.98   \n",
       "3                 4  jkahn@kahnmechanical.com,       142.50       140.00   \n",
       "4                 5                    stat1k,       142.50       140.00   \n",
       "..              ...                        ...          ...          ...   \n",
       "100             101        lwcrawfo@yahoo.com,       122.41       119.91   \n",
       "101             102    mailetc@mindspring.com,        82.00        81.00   \n",
       "102             103    jorgemaxit@hotmail.com,       132.00       130.00   \n",
       "103             104                  mmontoya,        92.01        91.01   \n",
       "104             105        cvokoun@swbell.net,       127.50       125.00   \n",
       "\n",
       "     starting_price  buyer_surplus  seller_surplus  total_surplus  \n",
       "0             99.00            0.0            6.00           6.00  \n",
       "1              9.99            2.5          100.01         102.51  \n",
       "2              9.99            2.5           92.99          95.49  \n",
       "3             24.88            2.5          115.12         117.62  \n",
       "4             20.00            2.5          120.00         122.50  \n",
       "..              ...            ...             ...            ...  \n",
       "100           50.00            2.5           69.91          72.41  \n",
       "101           49.00            1.0           32.00          33.00  \n",
       "102           59.00            2.0           71.00          73.00  \n",
       "103           50.00            1.0           41.01          42.01  \n",
       "104          110.00            2.5           15.00          17.50  \n",
       "\n",
       "[105 rows x 8 columns]"
      ]
     },
     "execution_count": 31,
     "metadata": {},
     "output_type": "execute_result"
    }
   ],
   "source": [
    "#create an augumented dataframe for future use (add the winner to each auction)\n",
    "s = succ_act_all.bidder.reset_index()\n",
    "actual_aug_bidder = pd.merge(s, actual, on = 'auction_number')\n",
    "actual_aug_bidder"
   ]
  },
  {
   "cell_type": "code",
   "execution_count": 32,
   "metadata": {},
   "outputs": [
    {
     "data": {
      "text/plain": [
       "bidder    154\n",
       "dtype: int64"
      ]
     },
     "execution_count": 32,
     "metadata": {},
     "output_type": "execute_result"
    }
   ],
   "source": [
    "#now we have 2 subsets of bidders who would succeed in the img mkt and who did succeed in the act mkt, respectively\n",
    "#2 sets are called succ_img and succ_act\n",
    "#find the union, intersetion and the differences\n",
    "union = pd.merge(succ_img, succ_act, how = 'outer')\n",
    "union.count()"
   ]
  },
  {
   "cell_type": "code",
   "execution_count": 33,
   "metadata": {},
   "outputs": [
    {
     "data": {
      "text/plain": [
       "bidder    46\n",
       "dtype: int64"
      ]
     },
     "execution_count": 33,
     "metadata": {},
     "output_type": "execute_result"
    }
   ],
   "source": [
    "intersect = succ_img.merge(succ_act)\n",
    "intersect.count()"
   ]
  },
  {
   "cell_type": "code",
   "execution_count": 34,
   "metadata": {},
   "outputs": [
    {
     "data": {
      "text/plain": [
       "bidder    58\n",
       "dtype: int64"
      ]
     },
     "execution_count": 34,
     "metadata": {},
     "output_type": "execute_result"
    }
   ],
   "source": [
    "#img only\n",
    "succ_img_only = succ_img[succ_img.bidder.isin(succ_act.bidder) == False]\n",
    "succ_img_only.count()"
   ]
  },
  {
   "cell_type": "code",
   "execution_count": 35,
   "metadata": {},
   "outputs": [
    {
     "data": {
      "text/plain": [
       "bidder    50\n",
       "dtype: int64"
      ]
     },
     "execution_count": 35,
     "metadata": {},
     "output_type": "execute_result"
    }
   ],
   "source": [
    "#act only\n",
    "succ_act_only = succ_act[succ_act.bidder.isin(succ_img.bidder) == False]\n",
    "succ_act_only.count()"
   ]
  },
  {
   "cell_type": "code",
   "execution_count": 36,
   "metadata": {},
   "outputs": [
    {
     "data": {
      "text/html": [
       "<div>\n",
       "<style scoped>\n",
       "    .dataframe tbody tr th:only-of-type {\n",
       "        vertical-align: middle;\n",
       "    }\n",
       "\n",
       "    .dataframe tbody tr th {\n",
       "        vertical-align: top;\n",
       "    }\n",
       "\n",
       "    .dataframe thead th {\n",
       "        text-align: right;\n",
       "    }\n",
       "</style>\n",
       "<table border=\"1\" class=\"dataframe\">\n",
       "  <thead>\n",
       "    <tr style=\"text-align: right;\">\n",
       "      <th></th>\n",
       "      <th>bidder</th>\n",
       "    </tr>\n",
       "  </thead>\n",
       "  <tbody>\n",
       "    <tr>\n",
       "      <th>0</th>\n",
       "      <td>diginet0,</td>\n",
       "    </tr>\n",
       "    <tr>\n",
       "      <th>1</th>\n",
       "      <td>diginet0</td>\n",
       "    </tr>\n",
       "    <tr>\n",
       "      <th>2</th>\n",
       "      <td>carterwaite</td>\n",
       "    </tr>\n",
       "    <tr>\n",
       "      <th>3</th>\n",
       "      <td>prophman</td>\n",
       "    </tr>\n",
       "    <tr>\n",
       "      <th>4</th>\n",
       "      <td>tomcat_lastdefence_net,</td>\n",
       "    </tr>\n",
       "    <tr>\n",
       "      <th>...</th>\n",
       "      <td>...</td>\n",
       "    </tr>\n",
       "    <tr>\n",
       "      <th>587</th>\n",
       "      <td>mmontoya,</td>\n",
       "    </tr>\n",
       "    <tr>\n",
       "      <th>588</th>\n",
       "      <td>sarasotasam1</td>\n",
       "    </tr>\n",
       "    <tr>\n",
       "      <th>589</th>\n",
       "      <td>cvokoun@swbell.net,</td>\n",
       "    </tr>\n",
       "    <tr>\n",
       "      <th>590</th>\n",
       "      <td>skidoo6701998</td>\n",
       "    </tr>\n",
       "    <tr>\n",
       "      <th>591</th>\n",
       "      <td>maestro367</td>\n",
       "    </tr>\n",
       "  </tbody>\n",
       "</table>\n",
       "<p>592 rows × 1 columns</p>\n",
       "</div>"
      ],
      "text/plain": [
       "                      bidder\n",
       "0                  diginet0,\n",
       "1                   diginet0\n",
       "2                carterwaite\n",
       "3                   prophman\n",
       "4    tomcat_lastdefence_net,\n",
       "..                       ...\n",
       "587                mmontoya,\n",
       "588             sarasotasam1\n",
       "589      cvokoun@swbell.net,\n",
       "590            skidoo6701998\n",
       "591               maestro367\n",
       "\n",
       "[592 rows x 1 columns]"
      ]
     },
     "execution_count": 36,
     "metadata": {},
     "output_type": "execute_result"
    }
   ],
   "source": [
    "#similarly, for the unsuccessful bidders, we have:\n",
    "all_bidders = df_buyer['bidder'].drop_duplicates().to_frame().reset_index(drop=True)\n",
    "all_bidders"
   ]
  },
  {
   "cell_type": "code",
   "execution_count": 37,
   "metadata": {},
   "outputs": [
    {
     "data": {
      "text/plain": [
       "bidder    488\n",
       "dtype: int64"
      ]
     },
     "execution_count": 37,
     "metadata": {},
     "output_type": "execute_result"
    }
   ],
   "source": [
    "unsucc_img = all_bidders[all_bidders.bidder.isin(succ_img.bidder) == False]\n",
    "unsucc_img.count()"
   ]
  },
  {
   "cell_type": "code",
   "execution_count": 38,
   "metadata": {},
   "outputs": [
    {
     "data": {
      "text/plain": [
       "bidder    496\n",
       "dtype: int64"
      ]
     },
     "execution_count": 38,
     "metadata": {},
     "output_type": "execute_result"
    }
   ],
   "source": [
    "unsucc_act = all_bidders[all_bidders.bidder.isin(succ_act.bidder) == False]\n",
    "unsucc_act.count()"
   ]
  },
  {
   "cell_type": "code",
   "execution_count": 39,
   "metadata": {},
   "outputs": [
    {
     "data": {
      "text/plain": [
       "bidder    546\n",
       "dtype: int64"
      ]
     },
     "execution_count": 39,
     "metadata": {},
     "output_type": "execute_result"
    }
   ],
   "source": [
    "#union\n",
    "pd.merge(unsucc_img, unsucc_act, how='outer').count()"
   ]
  },
  {
   "cell_type": "code",
   "execution_count": 40,
   "metadata": {},
   "outputs": [
    {
     "data": {
      "text/plain": [
       "bidder    438\n",
       "dtype: int64"
      ]
     },
     "execution_count": 40,
     "metadata": {},
     "output_type": "execute_result"
    }
   ],
   "source": [
    "#intersection\n",
    "pd.merge(unsucc_img, unsucc_act, how='inner').count()"
   ]
  },
  {
   "cell_type": "code",
   "execution_count": 41,
   "metadata": {},
   "outputs": [
    {
     "data": {
      "text/plain": [
       "bidder    50\n",
       "dtype: int64"
      ]
     },
     "execution_count": 41,
     "metadata": {},
     "output_type": "execute_result"
    }
   ],
   "source": [
    "#img only\n",
    "unsucc_img[unsucc_img.bidder.isin(unsucc_act.bidder) == False].count()"
   ]
  },
  {
   "cell_type": "code",
   "execution_count": 42,
   "metadata": {},
   "outputs": [
    {
     "data": {
      "text/plain": [
       "bidder    58\n",
       "dtype: int64"
      ]
     },
     "execution_count": 42,
     "metadata": {},
     "output_type": "execute_result"
    }
   ],
   "source": [
    "#act only\n",
    "unsucc_act[unsucc_act.bidder.isin(unsucc_img.bidder) == False].count()"
   ]
  },
  {
   "cell_type": "markdown",
   "metadata": {},
   "source": [
    "#### Summary:\n",
    "\n",
    "\n",
    "| |imaginary mkt| actual mkt|\n",
    "|---|---|---|\n",
    "|successful|104|96|\n",
    "|unsuccessful|488|496|\n",
    "|total| 592|592\n",
    "\n",
    "\n",
    "||imaginary mkt only|intersection| actual mkt only| union|\n",
    "|---|---|---|---|---|\n",
    "|successful bidders|58|46|50|154|\n",
    "|percentage|37.66%|29.87%|32.47%|100%|\n",
    "|unsuccessful bidders|50|438|58|546|\n",
    "|percentage|9.16%|80.22%|10.62%|100%|"
   ]
  },
  {
   "cell_type": "markdown",
   "metadata": {},
   "source": [
    "### Surpluses Breakdown\n",
    "\n",
    "Now we can breakdown the surpluses based on the classification of the bidders and the sellers (similarly) and verify our previous results.\n",
    "\n",
    "Meanwhile, from the table above we know that there are 58 bidders who would succeed in the imaginary market but failed in the actual market. This implies that a group of bidders with lower willingnesses to pay replaced those with higher valuations. So it is likely that the bidders who showed up in the intersection were forced to pay higher in the actual market which descreses their surpluses. "
   ]
  },
  {
   "cell_type": "code",
   "execution_count": 43,
   "metadata": {},
   "outputs": [
    {
     "data": {
      "text/plain": [
       "bidder    58\n",
       "WTP       58\n",
       "dtype: int64"
      ]
     },
     "execution_count": 43,
     "metadata": {},
     "output_type": "execute_result"
    }
   ],
   "source": [
    "#for buyers\n",
    "img_only_wtp = wtp_with_bidders[wtp_with_bidders.bidder.isin(succ_img_only.bidder)]\n",
    "img_only_wtp.count()"
   ]
  },
  {
   "cell_type": "code",
   "execution_count": 44,
   "metadata": {},
   "outputs": [
    {
     "data": {
      "text/plain": [
       "563.4599999999991"
      ]
     },
     "execution_count": 44,
     "metadata": {},
     "output_type": "execute_result"
    }
   ],
   "source": [
    "buyer_surplus_img_only = img_only_wtp.WTP.sum() -(121*58)\n",
    "buyer_surplus_img_only"
   ]
  },
  {
   "cell_type": "code",
   "execution_count": 45,
   "metadata": {},
   "outputs": [
    {
     "data": {
      "text/plain": [
       "bidder    46\n",
       "WTP       46\n",
       "dtype: int64"
      ]
     },
     "execution_count": 45,
     "metadata": {},
     "output_type": "execute_result"
    }
   ],
   "source": [
    "both_wtp = wtp_with_bidders[wtp_with_bidders.bidder.isin(intersect.bidder)]\n",
    "both_wtp.count()"
   ]
  },
  {
   "cell_type": "code",
   "execution_count": 46,
   "metadata": {},
   "outputs": [
    {
     "data": {
      "text/plain": [
       "438.0600000000004"
      ]
     },
     "execution_count": 46,
     "metadata": {},
     "output_type": "execute_result"
    }
   ],
   "source": [
    "buyer_surplus_img_both = both_wtp.WTP.sum()-(121*46)\n",
    "buyer_surplus_img_both"
   ]
  },
  {
   "cell_type": "code",
   "execution_count": 47,
   "metadata": {},
   "outputs": [
    {
     "data": {
      "text/plain": [
       "1001.5200000000004"
      ]
     },
     "execution_count": 47,
     "metadata": {},
     "output_type": "execute_result"
    }
   ],
   "source": [
    "img_only_wtp.WTP.sum() + both_wtp.WTP.sum() -(121*104)"
   ]
  },
  {
   "cell_type": "code",
   "execution_count": 48,
   "metadata": {},
   "outputs": [
    {
     "data": {
      "text/plain": [
       "92.88000000000001"
      ]
     },
     "execution_count": 48,
     "metadata": {},
     "output_type": "execute_result"
    }
   ],
   "source": [
    "buyer_surplus_act_only = actual_aug_bidder[actual_aug_bidder.bidder.isin(succ_act_only.bidder)].buyer_surplus.sum()\n",
    "#actual_aug_bidder summarized the actual data\n",
    "buyer_surplus_act_only"
   ]
  },
  {
   "cell_type": "code",
   "execution_count": 49,
   "metadata": {},
   "outputs": [
    {
     "data": {
      "text/plain": [
       "105.69999999999996"
      ]
     },
     "execution_count": 49,
     "metadata": {},
     "output_type": "execute_result"
    }
   ],
   "source": [
    "buyer_surplus_act_both = actual_aug_bidder[actual_aug_bidder.bidder.isin(intersect.bidder)].buyer_surplus.sum()\n",
    "buyer_surplus_act_both"
   ]
  },
  {
   "cell_type": "code",
   "execution_count": 50,
   "metadata": {},
   "outputs": [
    {
     "data": {
      "text/plain": [
       "0              hdoutlet\n",
       "6               baine22\n",
       "11               vman29\n",
       "12       chesterkingpin\n",
       "13                mrazk\n",
       "             ...       \n",
       "85     finalcallauction\n",
       "89                 cw12\n",
       "97           superkimtx\n",
       "101          mperez0694\n",
       "103           nicolassy\n",
       "Name: seller, Length: 62, dtype: object"
      ]
     },
     "execution_count": 50,
     "metadata": {},
     "output_type": "execute_result"
    }
   ],
   "source": [
    "#for sellers\n",
    "succ_seller_img = df_seller.sort_values(by = 'starting_price').seller.reset_index(drop = True).head(104).drop_duplicates()\n",
    "succ_seller_img\n",
    "\n",
    "#we know that all of the sellers sold their products in the actual market\n",
    "#so the sellers who would succeed in the imaginary market = the intersetion\n",
    "#the unsuccessful ones are thus the img_only"
   ]
  },
  {
   "cell_type": "code",
   "execution_count": 51,
   "metadata": {},
   "outputs": [
    {
     "data": {
      "text/plain": [
       "104"
      ]
     },
     "execution_count": 51,
     "metadata": {},
     "output_type": "execute_result"
    }
   ],
   "source": [
    "#NOTICE: there are 105 auctions in total and 63 unique sellers\n",
    "#to verify the result\n",
    "df_seller[df_seller.seller.isin(succ_seller_img)].seller.count()"
   ]
  },
  {
   "cell_type": "code",
   "execution_count": 52,
   "metadata": {},
   "outputs": [
    {
     "data": {
      "text/plain": [
       "8685.44"
      ]
     },
     "execution_count": 52,
     "metadata": {},
     "output_type": "execute_result"
    }
   ],
   "source": [
    "seller_surplus_img = (121*104)-df_seller[df_seller.seller.isin(succ_seller_img)].starting_price.sum()\n",
    "seller_surplus_img"
   ]
  },
  {
   "cell_type": "code",
   "execution_count": 53,
   "metadata": {},
   "outputs": [
    {
     "data": {
      "text/html": [
       "<div>\n",
       "<style scoped>\n",
       "    .dataframe tbody tr th:only-of-type {\n",
       "        vertical-align: middle;\n",
       "    }\n",
       "\n",
       "    .dataframe tbody tr th {\n",
       "        vertical-align: top;\n",
       "    }\n",
       "\n",
       "    .dataframe thead th {\n",
       "        text-align: right;\n",
       "    }\n",
       "</style>\n",
       "<table border=\"1\" class=\"dataframe\">\n",
       "  <thead>\n",
       "    <tr style=\"text-align: right;\">\n",
       "      <th></th>\n",
       "      <th>auction_number</th>\n",
       "      <th>item</th>\n",
       "      <th>final_price</th>\n",
       "      <th>starting_price</th>\n",
       "      <th>quantity</th>\n",
       "      <th>number_of_bids</th>\n",
       "      <th>starting_time</th>\n",
       "      <th>ending_time</th>\n",
       "      <th>seller</th>\n",
       "      <th>seller_feedback</th>\n",
       "      <th>bidder</th>\n",
       "      <th>bidder_feedback</th>\n",
       "      <th>bid_amount</th>\n",
       "      <th>bid_time</th>\n",
       "    </tr>\n",
       "  </thead>\n",
       "  <tbody>\n",
       "    <tr>\n",
       "      <th>907</th>\n",
       "      <td>71</td>\n",
       "      <td>*New* P 3 Intel Pentium III 800 Slot 1 CPU</td>\n",
       "      <td>141.0</td>\n",
       "      <td>141.0</td>\n",
       "      <td>1</td>\n",
       "      <td>1</td>\n",
       "      <td>2001-06-19 12:24:01</td>\n",
       "      <td>2001-06-26 12:24:01</td>\n",
       "      <td>animelibrary</td>\n",
       "      <td>111</td>\n",
       "      <td></td>\n",
       "      <td>0</td>\n",
       "      <td>0.0</td>\n",
       "      <td>0000-00-00 00:00:00</td>\n",
       "    </tr>\n",
       "  </tbody>\n",
       "</table>\n",
       "</div>"
      ],
      "text/plain": [
       "     auction_number                                        item  final_price  \\\n",
       "907              71  *New* P 3 Intel Pentium III 800 Slot 1 CPU        141.0   \n",
       "\n",
       "     starting_price  quantity  number_of_bids        starting_time  \\\n",
       "907           141.0         1               1  2001-06-19 12:24:01   \n",
       "\n",
       "             ending_time        seller  seller_feedback bidder  \\\n",
       "907  2001-06-26 12:24:01  animelibrary              111          \n",
       "\n",
       "     bidder_feedback  bid_amount             bid_time  \n",
       "907                0         0.0  0000-00-00 00:00:00  "
      ]
     },
     "execution_count": 53,
     "metadata": {},
     "output_type": "execute_result"
    }
   ],
   "source": [
    "seller_act_only = df_seller.sort_values(by ='starting_price').tail(1)\n",
    "# since the starting price = the final price, the seller surplus in the actual market= 0\n",
    "seller_act_only"
   ]
  },
  {
   "cell_type": "code",
   "execution_count": 54,
   "metadata": {},
   "outputs": [
    {
     "data": {
      "text/plain": [
       "7971.94"
      ]
     },
     "execution_count": 54,
     "metadata": {},
     "output_type": "execute_result"
    }
   ],
   "source": [
    "seller_surplus_both_act = actual_aug_bidder[(actual_aug_bidder.auction_number == 71) == False].seller_surplus.sum()\n",
    "seller_surplus_both_act"
   ]
  },
  {
   "cell_type": "code",
   "execution_count": 55,
   "metadata": {},
   "outputs": [
    {
     "data": {
      "text/html": [
       "<div>\n",
       "<style scoped>\n",
       "    .dataframe tbody tr th:only-of-type {\n",
       "        vertical-align: middle;\n",
       "    }\n",
       "\n",
       "    .dataframe tbody tr th {\n",
       "        vertical-align: top;\n",
       "    }\n",
       "\n",
       "    .dataframe thead th {\n",
       "        text-align: right;\n",
       "    }\n",
       "</style>\n",
       "<table border=\"1\" class=\"dataframe\">\n",
       "  <thead>\n",
       "    <tr style=\"text-align: right;\">\n",
       "      <th></th>\n",
       "      <th>Succeed in img only</th>\n",
       "      <th>Succeed in both, calculated in img</th>\n",
       "      <th>Succeed in both, calculated in act</th>\n",
       "      <th>Succeed in act only</th>\n",
       "    </tr>\n",
       "  </thead>\n",
       "  <tbody>\n",
       "    <tr>\n",
       "      <th>buyer surplus</th>\n",
       "      <td>563.46</td>\n",
       "      <td>438.06</td>\n",
       "      <td>105.70</td>\n",
       "      <td>92.88</td>\n",
       "    </tr>\n",
       "    <tr>\n",
       "      <th>seller surplus</th>\n",
       "      <td>0.00</td>\n",
       "      <td>8685.44</td>\n",
       "      <td>7971.94</td>\n",
       "      <td>0.00</td>\n",
       "    </tr>\n",
       "  </tbody>\n",
       "</table>\n",
       "</div>"
      ],
      "text/plain": [
       "                Succeed in img only  Succeed in both, calculated in img  \\\n",
       "buyer surplus                563.46                              438.06   \n",
       "seller surplus                 0.00                             8685.44   \n",
       "\n",
       "                Succeed in both, calculated in act  Succeed in act only  \n",
       "buyer surplus                               105.70                92.88  \n",
       "seller surplus                             7971.94                 0.00  "
      ]
     },
     "execution_count": 55,
     "metadata": {},
     "output_type": "execute_result"
    }
   ],
   "source": [
    "breakdown = pd.DataFrame([[buyer_surplus_img_only, buyer_surplus_img_both, buyer_surplus_act_both, buyer_surplus_act_only],\n",
    "             [0, seller_surplus_img, seller_surplus_both_act, 0]],\n",
    "            columns = ['Succeed in img only', 'Succeed in both, calculated in img', 'Succeed in both, calculated in act', 'Succeed in act only'],\n",
    "            index =['buyer surplus', 'seller surplus'])\n",
    "breakdown"
   ]
  },
  {
   "cell_type": "code",
   "execution_count": 56,
   "metadata": {},
   "outputs": [
    {
     "data": {
      "text/html": [
       "<div>\n",
       "<style scoped>\n",
       "    .dataframe tbody tr th:only-of-type {\n",
       "        vertical-align: middle;\n",
       "    }\n",
       "\n",
       "    .dataframe tbody tr th {\n",
       "        vertical-align: top;\n",
       "    }\n",
       "\n",
       "    .dataframe thead th {\n",
       "        text-align: right;\n",
       "    }\n",
       "</style>\n",
       "<table border=\"1\" class=\"dataframe\">\n",
       "  <thead>\n",
       "    <tr style=\"text-align: right;\">\n",
       "      <th></th>\n",
       "      <th>buyer surplus</th>\n",
       "      <th>seller surplus</th>\n",
       "    </tr>\n",
       "  </thead>\n",
       "  <tbody>\n",
       "    <tr>\n",
       "      <th>imaginary mkt</th>\n",
       "      <td>1001.52</td>\n",
       "      <td>8685.44</td>\n",
       "    </tr>\n",
       "    <tr>\n",
       "      <th>actual mkt</th>\n",
       "      <td>198.58</td>\n",
       "      <td>7971.94</td>\n",
       "    </tr>\n",
       "  </tbody>\n",
       "</table>\n",
       "</div>"
      ],
      "text/plain": [
       "               buyer surplus  seller surplus\n",
       "imaginary mkt        1001.52         8685.44\n",
       "actual mkt            198.58         7971.94"
      ]
     },
     "execution_count": 56,
     "metadata": {},
     "output_type": "execute_result"
    }
   ],
   "source": [
    "#verify\n",
    "#based on the breakdown, we have:\n",
    "summary_from_breakdown =pd.DataFrame([[breakdown.iloc[0,0]+breakdown.iloc[0,1], breakdown.iloc[0,2]+breakdown.iloc[0,3]],\n",
    "             [breakdown.iloc[1,0]+breakdown.iloc[1,1], breakdown.iloc[1,2]+breakdown.iloc[1,3]]],\n",
    "            columns = ['imaginary mkt', 'actual mkt'],\n",
    "            index = ['buyer surplus', 'seller surplus'])\n",
    "summary_from_breakdown.T"
   ]
  },
  {
   "cell_type": "code",
   "execution_count": 57,
   "metadata": {},
   "outputs": [
    {
     "data": {
      "text/html": [
       "<div>\n",
       "<style scoped>\n",
       "    .dataframe tbody tr th:only-of-type {\n",
       "        vertical-align: middle;\n",
       "    }\n",
       "\n",
       "    .dataframe tbody tr th {\n",
       "        vertical-align: top;\n",
       "    }\n",
       "\n",
       "    .dataframe thead th {\n",
       "        text-align: right;\n",
       "    }\n",
       "</style>\n",
       "<table border=\"1\" class=\"dataframe\">\n",
       "  <thead>\n",
       "    <tr style=\"text-align: right;\">\n",
       "      <th></th>\n",
       "      <th>buyer surplus</th>\n",
       "      <th>buyer percentage</th>\n",
       "      <th>seller surplus</th>\n",
       "      <th>seller percentage</th>\n",
       "      <th>total surplus</th>\n",
       "    </tr>\n",
       "  </thead>\n",
       "  <tbody>\n",
       "    <tr>\n",
       "      <th>imaginary mkt</th>\n",
       "      <td>1001.52</td>\n",
       "      <td>10.34%</td>\n",
       "      <td>8685.44</td>\n",
       "      <td>89.66%</td>\n",
       "      <td>9686.96</td>\n",
       "    </tr>\n",
       "    <tr>\n",
       "      <th>actual mkt</th>\n",
       "      <td>198.58</td>\n",
       "      <td>2.43%</td>\n",
       "      <td>7971.94</td>\n",
       "      <td>97.57%</td>\n",
       "      <td>8170.52</td>\n",
       "    </tr>\n",
       "    <tr>\n",
       "      <th>perct change</th>\n",
       "      <td>-80.17%</td>\n",
       "      <td>NaN</td>\n",
       "      <td>-8.21%</td>\n",
       "      <td>NaN</td>\n",
       "      <td>-15.65%</td>\n",
       "    </tr>\n",
       "  </tbody>\n",
       "</table>\n",
       "</div>"
      ],
      "text/plain": [
       "              buyer surplus buyer percentage seller surplus seller percentage  \\\n",
       "imaginary mkt       1001.52           10.34%        8685.44            89.66%   \n",
       "actual mkt           198.58            2.43%        7971.94            97.57%   \n",
       "perct change        -80.17%              NaN         -8.21%               NaN   \n",
       "\n",
       "              total surplus  \n",
       "imaginary mkt       9686.96  \n",
       "actual mkt          8170.52  \n",
       "perct change        -15.65%  "
      ]
     },
     "execution_count": 57,
     "metadata": {},
     "output_type": "execute_result"
    }
   ],
   "source": [
    "summary"
   ]
  },
  {
   "cell_type": "code",
   "execution_count": 58,
   "metadata": {},
   "outputs": [
    {
     "data": {
      "text/plain": [
       "127.67061224489795"
      ]
     },
     "execution_count": 58,
     "metadata": {},
     "output_type": "execute_result"
    }
   ],
   "source": [
    "#the average price paid by thr intersction in the img market is the EQ price =121\n",
    "\n",
    "#average price paid by the intersection in the actual market is\n",
    "actual_aug_bidder[actual_aug_bidder.bidder.isin(intersect.bidder)].amount_paid.mean()"
   ]
  },
  {
   "cell_type": "markdown",
   "metadata": {},
   "source": [
    "### Bidding strategies \n",
    "\n",
    "Now we categorize the bidders into **4 types** based on their startegies:\n",
    "\n",
    "- a single bid in a single auction: bidders who had only submitted bids once among all auctions\n",
    "\n",
    "- multiple bids in a single auction: bidders who submitted bids more than once but in only one aucion\n",
    "\n",
    "- sequential bids in multiple auctions (cross bidders): bidders who bade in one auction until they won or failed before moving to the next auction\n",
    "\n",
    "- random bids in multiple auctions (the others): bidders who participaed in multiple auctions but submitted bids across different auctions rather than following a sequential order. (participate in multiple auctions but are not cross bidders)\n",
    "\n",
    "We will then compute **the proportion of bidders who won** in each category and **the avergae price paid conditional on winning**."
   ]
  },
  {
   "cell_type": "code",
   "execution_count": 59,
   "metadata": {},
   "outputs": [
    {
     "data": {
      "text/html": [
       "<div>\n",
       "<style scoped>\n",
       "    .dataframe tbody tr th:only-of-type {\n",
       "        vertical-align: middle;\n",
       "    }\n",
       "\n",
       "    .dataframe tbody tr th {\n",
       "        vertical-align: top;\n",
       "    }\n",
       "\n",
       "    .dataframe thead th {\n",
       "        text-align: right;\n",
       "    }\n",
       "</style>\n",
       "<table border=\"1\" class=\"dataframe\">\n",
       "  <thead>\n",
       "    <tr style=\"text-align: right;\">\n",
       "      <th></th>\n",
       "      <th>bidder</th>\n",
       "      <th>number of bids</th>\n",
       "    </tr>\n",
       "  </thead>\n",
       "  <tbody>\n",
       "    <tr>\n",
       "      <th>0</th>\n",
       "      <td>$stein$</td>\n",
       "      <td>1</td>\n",
       "    </tr>\n",
       "    <tr>\n",
       "      <th>1</th>\n",
       "      <td>(the-bishop)</td>\n",
       "      <td>1</td>\n",
       "    </tr>\n",
       "    <tr>\n",
       "      <th>7</th>\n",
       "      <td>26215,</td>\n",
       "      <td>1</td>\n",
       "    </tr>\n",
       "    <tr>\n",
       "      <th>9</th>\n",
       "      <td>2wildwoods</td>\n",
       "      <td>1</td>\n",
       "    </tr>\n",
       "    <tr>\n",
       "      <th>13</th>\n",
       "      <td>351429</td>\n",
       "      <td>1</td>\n",
       "    </tr>\n",
       "    <tr>\n",
       "      <th>...</th>\n",
       "      <td>...</td>\n",
       "      <td>...</td>\n",
       "    </tr>\n",
       "    <tr>\n",
       "      <th>584</th>\n",
       "      <td>ynotcc</td>\n",
       "      <td>1</td>\n",
       "    </tr>\n",
       "    <tr>\n",
       "      <th>585</th>\n",
       "      <td>yodidog</td>\n",
       "      <td>1</td>\n",
       "    </tr>\n",
       "    <tr>\n",
       "      <th>586</th>\n",
       "      <td>yuhwei</td>\n",
       "      <td>1</td>\n",
       "    </tr>\n",
       "    <tr>\n",
       "      <th>590</th>\n",
       "      <td>zeta789</td>\n",
       "      <td>1</td>\n",
       "    </tr>\n",
       "    <tr>\n",
       "      <th>591</th>\n",
       "      <td>zeusmaster,</td>\n",
       "      <td>1</td>\n",
       "    </tr>\n",
       "  </tbody>\n",
       "</table>\n",
       "<p>321 rows × 2 columns</p>\n",
       "</div>"
      ],
      "text/plain": [
       "           bidder  number of bids\n",
       "0         $stein$               1\n",
       "1    (the-bishop)               1\n",
       "7          26215,               1\n",
       "9      2wildwoods               1\n",
       "13         351429               1\n",
       "..            ...             ...\n",
       "584        ynotcc               1\n",
       "585       yodidog               1\n",
       "586        yuhwei               1\n",
       "590       zeta789               1\n",
       "591   zeusmaster,               1\n",
       "\n",
       "[321 rows x 2 columns]"
      ]
     },
     "execution_count": 59,
     "metadata": {},
     "output_type": "execute_result"
    }
   ],
   "source": [
    "# type 1: a single bid in a single auction:\n",
    "type1 = number_of_bids[number_of_bids['number of bids'] == 1]\n",
    "type1"
   ]
  },
  {
   "cell_type": "code",
   "execution_count": 60,
   "metadata": {},
   "outputs": [
    {
     "data": {
      "text/html": [
       "<div>\n",
       "<style scoped>\n",
       "    .dataframe tbody tr th:only-of-type {\n",
       "        vertical-align: middle;\n",
       "    }\n",
       "\n",
       "    .dataframe tbody tr th {\n",
       "        vertical-align: top;\n",
       "    }\n",
       "\n",
       "    .dataframe thead th {\n",
       "        text-align: right;\n",
       "    }\n",
       "</style>\n",
       "<table border=\"1\" class=\"dataframe\">\n",
       "  <thead>\n",
       "    <tr style=\"text-align: right;\">\n",
       "      <th></th>\n",
       "      <th>auction_number</th>\n",
       "      <th>bidder</th>\n",
       "      <th>final_price</th>\n",
       "      <th>amount_paid</th>\n",
       "      <th>starting_price</th>\n",
       "      <th>buyer_surplus</th>\n",
       "      <th>seller_surplus</th>\n",
       "      <th>total_surplus</th>\n",
       "    </tr>\n",
       "  </thead>\n",
       "  <tbody>\n",
       "    <tr>\n",
       "      <th>0</th>\n",
       "      <td>1</td>\n",
       "      <td>diginet0</td>\n",
       "      <td>105.00</td>\n",
       "      <td>105.00</td>\n",
       "      <td>99.00</td>\n",
       "      <td>0.0</td>\n",
       "      <td>6.00</td>\n",
       "      <td>6.00</td>\n",
       "    </tr>\n",
       "    <tr>\n",
       "      <th>1</th>\n",
       "      <td>2</td>\n",
       "      <td>tomcat_lastdefence_net,</td>\n",
       "      <td>112.50</td>\n",
       "      <td>110.00</td>\n",
       "      <td>9.99</td>\n",
       "      <td>2.5</td>\n",
       "      <td>100.01</td>\n",
       "      <td>102.51</td>\n",
       "    </tr>\n",
       "    <tr>\n",
       "      <th>2</th>\n",
       "      <td>3</td>\n",
       "      <td>chuckw97,</td>\n",
       "      <td>105.48</td>\n",
       "      <td>102.98</td>\n",
       "      <td>9.99</td>\n",
       "      <td>2.5</td>\n",
       "      <td>92.99</td>\n",
       "      <td>95.49</td>\n",
       "    </tr>\n",
       "    <tr>\n",
       "      <th>3</th>\n",
       "      <td>4</td>\n",
       "      <td>jkahn@kahnmechanical.com,</td>\n",
       "      <td>142.50</td>\n",
       "      <td>140.00</td>\n",
       "      <td>24.88</td>\n",
       "      <td>2.5</td>\n",
       "      <td>115.12</td>\n",
       "      <td>117.62</td>\n",
       "    </tr>\n",
       "    <tr>\n",
       "      <th>4</th>\n",
       "      <td>5</td>\n",
       "      <td>stat1k,</td>\n",
       "      <td>142.50</td>\n",
       "      <td>140.00</td>\n",
       "      <td>20.00</td>\n",
       "      <td>2.5</td>\n",
       "      <td>120.00</td>\n",
       "      <td>122.50</td>\n",
       "    </tr>\n",
       "    <tr>\n",
       "      <th>...</th>\n",
       "      <td>...</td>\n",
       "      <td>...</td>\n",
       "      <td>...</td>\n",
       "      <td>...</td>\n",
       "      <td>...</td>\n",
       "      <td>...</td>\n",
       "      <td>...</td>\n",
       "      <td>...</td>\n",
       "    </tr>\n",
       "    <tr>\n",
       "      <th>100</th>\n",
       "      <td>101</td>\n",
       "      <td>lwcrawfo@yahoo.com,</td>\n",
       "      <td>122.41</td>\n",
       "      <td>119.91</td>\n",
       "      <td>50.00</td>\n",
       "      <td>2.5</td>\n",
       "      <td>69.91</td>\n",
       "      <td>72.41</td>\n",
       "    </tr>\n",
       "    <tr>\n",
       "      <th>101</th>\n",
       "      <td>102</td>\n",
       "      <td>mailetc@mindspring.com,</td>\n",
       "      <td>82.00</td>\n",
       "      <td>81.00</td>\n",
       "      <td>49.00</td>\n",
       "      <td>1.0</td>\n",
       "      <td>32.00</td>\n",
       "      <td>33.00</td>\n",
       "    </tr>\n",
       "    <tr>\n",
       "      <th>102</th>\n",
       "      <td>103</td>\n",
       "      <td>jorgemaxit@hotmail.com,</td>\n",
       "      <td>132.00</td>\n",
       "      <td>130.00</td>\n",
       "      <td>59.00</td>\n",
       "      <td>2.0</td>\n",
       "      <td>71.00</td>\n",
       "      <td>73.00</td>\n",
       "    </tr>\n",
       "    <tr>\n",
       "      <th>103</th>\n",
       "      <td>104</td>\n",
       "      <td>mmontoya,</td>\n",
       "      <td>92.01</td>\n",
       "      <td>91.01</td>\n",
       "      <td>50.00</td>\n",
       "      <td>1.0</td>\n",
       "      <td>41.01</td>\n",
       "      <td>42.01</td>\n",
       "    </tr>\n",
       "    <tr>\n",
       "      <th>104</th>\n",
       "      <td>105</td>\n",
       "      <td>cvokoun@swbell.net,</td>\n",
       "      <td>127.50</td>\n",
       "      <td>125.00</td>\n",
       "      <td>110.00</td>\n",
       "      <td>2.5</td>\n",
       "      <td>15.00</td>\n",
       "      <td>17.50</td>\n",
       "    </tr>\n",
       "  </tbody>\n",
       "</table>\n",
       "<p>82 rows × 8 columns</p>\n",
       "</div>"
      ],
      "text/plain": [
       "     auction_number                     bidder  final_price  amount_paid  \\\n",
       "0                 1                   diginet0       105.00       105.00   \n",
       "1                 2    tomcat_lastdefence_net,       112.50       110.00   \n",
       "2                 3                  chuckw97,       105.48       102.98   \n",
       "3                 4  jkahn@kahnmechanical.com,       142.50       140.00   \n",
       "4                 5                    stat1k,       142.50       140.00   \n",
       "..              ...                        ...          ...          ...   \n",
       "100             101        lwcrawfo@yahoo.com,       122.41       119.91   \n",
       "101             102    mailetc@mindspring.com,        82.00        81.00   \n",
       "102             103    jorgemaxit@hotmail.com,       132.00       130.00   \n",
       "103             104                  mmontoya,        92.01        91.01   \n",
       "104             105        cvokoun@swbell.net,       127.50       125.00   \n",
       "\n",
       "     starting_price  buyer_surplus  seller_surplus  total_surplus  \n",
       "0             99.00            0.0            6.00           6.00  \n",
       "1              9.99            2.5          100.01         102.51  \n",
       "2              9.99            2.5           92.99          95.49  \n",
       "3             24.88            2.5          115.12         117.62  \n",
       "4             20.00            2.5          120.00         122.50  \n",
       "..              ...            ...             ...            ...  \n",
       "100           50.00            2.5           69.91          72.41  \n",
       "101           49.00            1.0           32.00          33.00  \n",
       "102           59.00            2.0           71.00          73.00  \n",
       "103           50.00            1.0           41.01          42.01  \n",
       "104          110.00            2.5           15.00          17.50  \n",
       "\n",
       "[82 rows x 8 columns]"
      ]
     },
     "execution_count": 60,
     "metadata": {},
     "output_type": "execute_result"
    }
   ],
   "source": [
    "type1_won = actual_aug_bidder[actual_aug_bidder.bidder.isin(type1.bidder)]\n",
    "type1_won"
   ]
  },
  {
   "cell_type": "code",
   "execution_count": 61,
   "metadata": {},
   "outputs": [
    {
     "data": {
      "text/plain": [
       "115.72524390243902"
      ]
     },
     "execution_count": 61,
     "metadata": {},
     "output_type": "execute_result"
    }
   ],
   "source": [
    "type1_price = type1_won.amount_paid.mean()\n",
    "type1_price"
   ]
  },
  {
   "cell_type": "code",
   "execution_count": 62,
   "metadata": {},
   "outputs": [
    {
     "data": {
      "text/plain": [
       "1058"
      ]
     },
     "execution_count": 62,
     "metadata": {},
     "output_type": "execute_result"
    }
   ],
   "source": [
    "df_buyer_remove_1 = df_buyer[df_buyer.bidder.isin(type1.bidder) == False]\n",
    "df_buyer_remove_1.bidder.count()"
   ]
  },
  {
   "cell_type": "code",
   "execution_count": 63,
   "metadata": {},
   "outputs": [
    {
     "data": {
      "text/plain": [
       "0                  1didjit\n",
       "1              1northpilot\n",
       "2                    26215\n",
       "3                  300rock\n",
       "4                    31305\n",
       "              ...         \n",
       "151          who_yer_daddy\n",
       "152            willijimmac\n",
       "153                 xad_72\n",
       "154                zardwpm\n",
       "155    zerozero@xtra.co.nz\n",
       "Name: bidder, Length: 156, dtype: object"
      ]
     },
     "execution_count": 63,
     "metadata": {},
     "output_type": "execute_result"
    }
   ],
   "source": [
    "type2 = df_buyer_remove_1.groupby('bidder')['auction_number'].nunique()\n",
    "type2 = type2[type2 == 1].reset_index()\n",
    "type2 = type2.bidder\n",
    "type2"
   ]
  },
  {
   "cell_type": "code",
   "execution_count": 64,
   "metadata": {},
   "outputs": [
    {
     "data": {
      "text/html": [
       "<div>\n",
       "<style scoped>\n",
       "    .dataframe tbody tr th:only-of-type {\n",
       "        vertical-align: middle;\n",
       "    }\n",
       "\n",
       "    .dataframe tbody tr th {\n",
       "        vertical-align: top;\n",
       "    }\n",
       "\n",
       "    .dataframe thead th {\n",
       "        text-align: right;\n",
       "    }\n",
       "</style>\n",
       "<table border=\"1\" class=\"dataframe\">\n",
       "  <thead>\n",
       "    <tr style=\"text-align: right;\">\n",
       "      <th></th>\n",
       "      <th>auction_number</th>\n",
       "      <th>bidder</th>\n",
       "      <th>final_price</th>\n",
       "      <th>amount_paid</th>\n",
       "      <th>starting_price</th>\n",
       "      <th>buyer_surplus</th>\n",
       "      <th>seller_surplus</th>\n",
       "      <th>total_surplus</th>\n",
       "    </tr>\n",
       "  </thead>\n",
       "  <tbody>\n",
       "    <tr>\n",
       "      <th>53</th>\n",
       "      <td>54</td>\n",
       "      <td>26215</td>\n",
       "      <td>113.5</td>\n",
       "      <td>113.5</td>\n",
       "      <td>10.00</td>\n",
       "      <td>0.0</td>\n",
       "      <td>103.50</td>\n",
       "      <td>103.50</td>\n",
       "    </tr>\n",
       "    <tr>\n",
       "      <th>55</th>\n",
       "      <td>56</td>\n",
       "      <td>dchow7</td>\n",
       "      <td>128.5</td>\n",
       "      <td>128.5</td>\n",
       "      <td>90.00</td>\n",
       "      <td>0.0</td>\n",
       "      <td>38.50</td>\n",
       "      <td>38.50</td>\n",
       "    </tr>\n",
       "    <tr>\n",
       "      <th>97</th>\n",
       "      <td>98</td>\n",
       "      <td>palenduf</td>\n",
       "      <td>122.5</td>\n",
       "      <td>122.5</td>\n",
       "      <td>0.01</td>\n",
       "      <td>0.0</td>\n",
       "      <td>122.49</td>\n",
       "      <td>122.49</td>\n",
       "    </tr>\n",
       "    <tr>\n",
       "      <th>99</th>\n",
       "      <td>100</td>\n",
       "      <td>avill</td>\n",
       "      <td>100.0</td>\n",
       "      <td>100.0</td>\n",
       "      <td>1.00</td>\n",
       "      <td>0.0</td>\n",
       "      <td>99.00</td>\n",
       "      <td>99.00</td>\n",
       "    </tr>\n",
       "  </tbody>\n",
       "</table>\n",
       "</div>"
      ],
      "text/plain": [
       "    auction_number    bidder  final_price  amount_paid  starting_price  \\\n",
       "53              54     26215        113.5        113.5           10.00   \n",
       "55              56    dchow7        128.5        128.5           90.00   \n",
       "97              98  palenduf        122.5        122.5            0.01   \n",
       "99             100     avill        100.0        100.0            1.00   \n",
       "\n",
       "    buyer_surplus  seller_surplus  total_surplus  \n",
       "53            0.0          103.50         103.50  \n",
       "55            0.0           38.50          38.50  \n",
       "97            0.0          122.49         122.49  \n",
       "99            0.0           99.00          99.00  "
      ]
     },
     "execution_count": 64,
     "metadata": {},
     "output_type": "execute_result"
    }
   ],
   "source": [
    "type2_won = actual_aug_bidder[actual_aug_bidder.bidder.isin(type2)]\n",
    "type2_won"
   ]
  },
  {
   "cell_type": "code",
   "execution_count": 65,
   "metadata": {},
   "outputs": [
    {
     "data": {
      "text/plain": [
       "116.125"
      ]
     },
     "execution_count": 65,
     "metadata": {},
     "output_type": "execute_result"
    }
   ],
   "source": [
    "type2_price = type2_won.amount_paid.mean()\n",
    "type2_price"
   ]
  },
  {
   "cell_type": "code",
   "execution_count": 66,
   "metadata": {},
   "outputs": [
    {
     "data": {
      "text/plain": [
       "504"
      ]
     },
     "execution_count": 66,
     "metadata": {},
     "output_type": "execute_result"
    }
   ],
   "source": [
    "df_buyer_remove_12 = df_buyer_remove_1[df_buyer_remove_1.bidder.isin(type2) == False]\n",
    "df_buyer_remove_12.bidder.count()\n",
    "#this is the subset of type 3 and 4 bidders only."
   ]
  },
  {
   "cell_type": "code",
   "execution_count": 67,
   "metadata": {},
   "outputs": [
    {
     "data": {
      "text/plain": [
       "2"
      ]
     },
     "execution_count": 67,
     "metadata": {},
     "output_type": "execute_result"
    }
   ],
   "source": [
    "#test: participated in at least 2 auctions\n",
    "df_buyer_remove_12.groupby('bidder').auction_number.nunique().min()"
   ]
  },
  {
   "cell_type": "code",
   "execution_count": 68,
   "metadata": {},
   "outputs": [],
   "source": [
    "df_buyer_remove_12.groupby('bid_time').count();\n",
    "df[df.auction_number == 14];\n",
    "#there are 7 entries with empty bid_time\n",
    "#and if we go back to the primary data, we will find that\n",
    "#bidders whose bid time is empty (0000-00-00 00:00:00) bade 0 which is lower than the starting price."
   ]
  },
  {
   "cell_type": "code",
   "execution_count": 69,
   "metadata": {},
   "outputs": [
    {
     "data": {
      "text/html": [
       "<div>\n",
       "<style scoped>\n",
       "    .dataframe tbody tr th:only-of-type {\n",
       "        vertical-align: middle;\n",
       "    }\n",
       "\n",
       "    .dataframe tbody tr th {\n",
       "        vertical-align: top;\n",
       "    }\n",
       "\n",
       "    .dataframe thead th {\n",
       "        text-align: right;\n",
       "    }\n",
       "</style>\n",
       "<table border=\"1\" class=\"dataframe\">\n",
       "  <thead>\n",
       "    <tr style=\"text-align: right;\">\n",
       "      <th></th>\n",
       "      <th>min</th>\n",
       "      <th>max</th>\n",
       "    </tr>\n",
       "    <tr>\n",
       "      <th>bidder</th>\n",
       "      <th></th>\n",
       "      <th></th>\n",
       "    </tr>\n",
       "  </thead>\n",
       "  <tbody>\n",
       "    <tr>\n",
       "      <th>*dorkus*</th>\n",
       "      <td>2001-06-08 09:15:53</td>\n",
       "      <td>2001-06-08 09:15:53</td>\n",
       "    </tr>\n",
       "    <tr>\n",
       "      <th>*dorkus*</th>\n",
       "      <td>2001-06-08 08:46:07</td>\n",
       "      <td>2001-06-08 08:46:07</td>\n",
       "    </tr>\n",
       "    <tr>\n",
       "      <th>1buckeyes</th>\n",
       "      <td>2001-06-08 19:58:45</td>\n",
       "      <td>2001-06-08 19:58:45</td>\n",
       "    </tr>\n",
       "    <tr>\n",
       "      <th>1buckeyes</th>\n",
       "      <td>2001-06-09 14:00:43</td>\n",
       "      <td>2001-06-09 14:00:43</td>\n",
       "    </tr>\n",
       "    <tr>\n",
       "      <th>1buckeyes</th>\n",
       "      <td>2001-06-10 08:23:22</td>\n",
       "      <td>2001-06-10 08:23:22</td>\n",
       "    </tr>\n",
       "    <tr>\n",
       "      <th>...</th>\n",
       "      <td>...</td>\n",
       "      <td>...</td>\n",
       "    </tr>\n",
       "    <tr>\n",
       "      <th>y2ktek</th>\n",
       "      <td>2001-06-13 05:42:38</td>\n",
       "      <td>2001-06-14 03:40:18</td>\n",
       "    </tr>\n",
       "    <tr>\n",
       "      <th>y2ktek</th>\n",
       "      <td>2001-06-13 05:44:04</td>\n",
       "      <td>2001-06-17 04:53:56</td>\n",
       "    </tr>\n",
       "    <tr>\n",
       "      <th>y2ktek</th>\n",
       "      <td>2001-06-13 05:45:42</td>\n",
       "      <td>2001-06-13 05:45:42</td>\n",
       "    </tr>\n",
       "    <tr>\n",
       "      <th>zephd@in-motion.net</th>\n",
       "      <td>2001-06-08 23:12:59</td>\n",
       "      <td>2001-06-08 23:12:59</td>\n",
       "    </tr>\n",
       "    <tr>\n",
       "      <th>zephd@in-motion.net</th>\n",
       "      <td>2001-06-12 18:17:12</td>\n",
       "      <td>2001-06-12 18:17:12</td>\n",
       "    </tr>\n",
       "  </tbody>\n",
       "</table>\n",
       "<p>304 rows × 2 columns</p>\n",
       "</div>"
      ],
      "text/plain": [
       "                                     min                  max\n",
       "bidder                                                       \n",
       "*dorkus*             2001-06-08 09:15:53  2001-06-08 09:15:53\n",
       "*dorkus*             2001-06-08 08:46:07  2001-06-08 08:46:07\n",
       "1buckeyes            2001-06-08 19:58:45  2001-06-08 19:58:45\n",
       "1buckeyes            2001-06-09 14:00:43  2001-06-09 14:00:43\n",
       "1buckeyes            2001-06-10 08:23:22  2001-06-10 08:23:22\n",
       "...                                  ...                  ...\n",
       "y2ktek               2001-06-13 05:42:38  2001-06-14 03:40:18\n",
       "y2ktek               2001-06-13 05:44:04  2001-06-17 04:53:56\n",
       "y2ktek               2001-06-13 05:45:42  2001-06-13 05:45:42\n",
       "zephd@in-motion.net  2001-06-08 23:12:59  2001-06-08 23:12:59\n",
       "zephd@in-motion.net  2001-06-12 18:17:12  2001-06-12 18:17:12\n",
       "\n",
       "[304 rows x 2 columns]"
      ]
     },
     "execution_count": 69,
     "metadata": {},
     "output_type": "execute_result"
    }
   ],
   "source": [
    "min_and_max = df_buyer_remove_12.sort_values(by = 'bid_time').groupby(['bidder','auction_number'])\n",
    "min_and_max = min_and_max.bid_time.agg([min, max])\n",
    "min_and_max = min_and_max.reset_index(level = 'auction_number',drop = True)\n",
    "min_and_max"
   ]
  },
  {
   "cell_type": "code",
   "execution_count": 70,
   "metadata": {},
   "outputs": [],
   "source": [
    "def istype3(df):\n",
    "    n = df['min'].count()\n",
    "    ans = [True]\n",
    "    for i in range(1, n):\n",
    "        ans.append(df['min'].iloc[i] >= df['max'].iloc[i-1])\n",
    "    return all(ans)"
   ]
  },
  {
   "cell_type": "code",
   "execution_count": 71,
   "metadata": {},
   "outputs": [
    {
     "data": {
      "text/plain": [
       "bidder\n",
       "*dorkus*               False\n",
       "1buckeyes              False\n",
       "2hummingbirds           True\n",
       "34pcchips               True\n",
       "4irons                 False\n",
       "                       ...  \n",
       "wch7928786              True\n",
       "whoseline               True\n",
       "wlopez007               True\n",
       "y2ktek                 False\n",
       "zephd@in-motion.net     True\n",
       "Length: 115, dtype: bool"
      ]
     },
     "execution_count": 71,
     "metadata": {},
     "output_type": "execute_result"
    }
   ],
   "source": [
    "type3_bool= min_and_max.groupby('bidder').apply(istype3)\n",
    "type3_bool"
   ]
  },
  {
   "cell_type": "code",
   "execution_count": 72,
   "metadata": {},
   "outputs": [
    {
     "data": {
      "text/plain": [
       "0                   2hummingbirds\n",
       "1                       34pcchips\n",
       "2                          adame3\n",
       "3    adriangonzalez78@hotmail.com\n",
       "4                       alandarge\n",
       "Name: bidder, dtype: object"
      ]
     },
     "execution_count": 72,
     "metadata": {},
     "output_type": "execute_result"
    }
   ],
   "source": [
    "type3 = type3_bool[type3_bool]\n",
    "type3 = type3.reset_index().loc[:,'bidder']\n",
    "type3.head()"
   ]
  },
  {
   "cell_type": "code",
   "execution_count": 73,
   "metadata": {},
   "outputs": [
    {
     "data": {
      "text/html": [
       "<div>\n",
       "<style scoped>\n",
       "    .dataframe tbody tr th:only-of-type {\n",
       "        vertical-align: middle;\n",
       "    }\n",
       "\n",
       "    .dataframe tbody tr th {\n",
       "        vertical-align: top;\n",
       "    }\n",
       "\n",
       "    .dataframe thead th {\n",
       "        text-align: right;\n",
       "    }\n",
       "</style>\n",
       "<table border=\"1\" class=\"dataframe\">\n",
       "  <thead>\n",
       "    <tr style=\"text-align: right;\">\n",
       "      <th></th>\n",
       "      <th>auction_number</th>\n",
       "      <th>bidder</th>\n",
       "      <th>final_price</th>\n",
       "      <th>amount_paid</th>\n",
       "      <th>starting_price</th>\n",
       "      <th>buyer_surplus</th>\n",
       "      <th>seller_surplus</th>\n",
       "      <th>total_surplus</th>\n",
       "    </tr>\n",
       "  </thead>\n",
       "  <tbody>\n",
       "    <tr>\n",
       "      <th>15</th>\n",
       "      <td>16</td>\n",
       "      <td>jsnyder@microserve.net,</td>\n",
       "      <td>107.5</td>\n",
       "      <td>105.00</td>\n",
       "      <td>50.00</td>\n",
       "      <td>2.50</td>\n",
       "      <td>55.00</td>\n",
       "      <td>57.50</td>\n",
       "    </tr>\n",
       "    <tr>\n",
       "      <th>19</th>\n",
       "      <td>20</td>\n",
       "      <td>jsnyder@microserve.net,</td>\n",
       "      <td>103.0</td>\n",
       "      <td>102.02</td>\n",
       "      <td>10.00</td>\n",
       "      <td>0.98</td>\n",
       "      <td>92.02</td>\n",
       "      <td>93.00</td>\n",
       "    </tr>\n",
       "    <tr>\n",
       "      <th>39</th>\n",
       "      <td>40</td>\n",
       "      <td>jsnyder@microserve.net,</td>\n",
       "      <td>102.5</td>\n",
       "      <td>100.00</td>\n",
       "      <td>50.00</td>\n",
       "      <td>2.50</td>\n",
       "      <td>50.00</td>\n",
       "      <td>52.50</td>\n",
       "    </tr>\n",
       "    <tr>\n",
       "      <th>54</th>\n",
       "      <td>55</td>\n",
       "      <td>reinerc,</td>\n",
       "      <td>127.5</td>\n",
       "      <td>125.00</td>\n",
       "      <td>90.00</td>\n",
       "      <td>2.50</td>\n",
       "      <td>35.00</td>\n",
       "      <td>37.50</td>\n",
       "    </tr>\n",
       "    <tr>\n",
       "      <th>56</th>\n",
       "      <td>57</td>\n",
       "      <td>reinerc,</td>\n",
       "      <td>112.5</td>\n",
       "      <td>110.00</td>\n",
       "      <td>90.00</td>\n",
       "      <td>2.50</td>\n",
       "      <td>20.00</td>\n",
       "      <td>22.50</td>\n",
       "    </tr>\n",
       "    <tr>\n",
       "      <th>69</th>\n",
       "      <td>70</td>\n",
       "      <td>mykstrauss</td>\n",
       "      <td>100.0</td>\n",
       "      <td>100.00</td>\n",
       "      <td>99.00</td>\n",
       "      <td>0.00</td>\n",
       "      <td>1.00</td>\n",
       "      <td>1.00</td>\n",
       "    </tr>\n",
       "    <tr>\n",
       "      <th>90</th>\n",
       "      <td>91</td>\n",
       "      <td>mpwu@tcac.net,</td>\n",
       "      <td>138.0</td>\n",
       "      <td>135.50</td>\n",
       "      <td>0.01</td>\n",
       "      <td>2.50</td>\n",
       "      <td>135.49</td>\n",
       "      <td>137.99</td>\n",
       "    </tr>\n",
       "    <tr>\n",
       "      <th>91</th>\n",
       "      <td>92</td>\n",
       "      <td>mpwu@tcac.net,</td>\n",
       "      <td>127.5</td>\n",
       "      <td>125.00</td>\n",
       "      <td>0.01</td>\n",
       "      <td>2.50</td>\n",
       "      <td>124.99</td>\n",
       "      <td>127.49</td>\n",
       "    </tr>\n",
       "    <tr>\n",
       "      <th>95</th>\n",
       "      <td>96</td>\n",
       "      <td>palenduf,</td>\n",
       "      <td>117.5</td>\n",
       "      <td>115.00</td>\n",
       "      <td>0.01</td>\n",
       "      <td>2.50</td>\n",
       "      <td>114.99</td>\n",
       "      <td>117.49</td>\n",
       "    </tr>\n",
       "  </tbody>\n",
       "</table>\n",
       "</div>"
      ],
      "text/plain": [
       "    auction_number                   bidder  final_price  amount_paid  \\\n",
       "15              16  jsnyder@microserve.net,        107.5       105.00   \n",
       "19              20  jsnyder@microserve.net,        103.0       102.02   \n",
       "39              40  jsnyder@microserve.net,        102.5       100.00   \n",
       "54              55                 reinerc,        127.5       125.00   \n",
       "56              57                 reinerc,        112.5       110.00   \n",
       "69              70               mykstrauss        100.0       100.00   \n",
       "90              91           mpwu@tcac.net,        138.0       135.50   \n",
       "91              92           mpwu@tcac.net,        127.5       125.00   \n",
       "95              96                palenduf,        117.5       115.00   \n",
       "\n",
       "    starting_price  buyer_surplus  seller_surplus  total_surplus  \n",
       "15           50.00           2.50           55.00          57.50  \n",
       "19           10.00           0.98           92.02          93.00  \n",
       "39           50.00           2.50           50.00          52.50  \n",
       "54           90.00           2.50           35.00          37.50  \n",
       "56           90.00           2.50           20.00          22.50  \n",
       "69           99.00           0.00            1.00           1.00  \n",
       "90            0.01           2.50          135.49         137.99  \n",
       "91            0.01           2.50          124.99         127.49  \n",
       "95            0.01           2.50          114.99         117.49  "
      ]
     },
     "execution_count": 73,
     "metadata": {},
     "output_type": "execute_result"
    }
   ],
   "source": [
    "#winner of type 3\n",
    "type3_won = actual_aug_bidder[actual_aug_bidder.bidder.isin(type3)]\n",
    "type3_won"
   ]
  },
  {
   "cell_type": "code",
   "execution_count": 74,
   "metadata": {},
   "outputs": [
    {
     "data": {
      "text/plain": [
       "113.05777777777777"
      ]
     },
     "execution_count": 74,
     "metadata": {},
     "output_type": "execute_result"
    }
   ],
   "source": [
    "type3_price = type3_won.amount_paid.mean()\n",
    "type3_price"
   ]
  },
  {
   "cell_type": "code",
   "execution_count": 75,
   "metadata": {},
   "outputs": [
    {
     "data": {
      "text/plain": [
       "296"
      ]
     },
     "execution_count": 75,
     "metadata": {},
     "output_type": "execute_result"
    }
   ],
   "source": [
    "df_buyer_remove_123 = df_buyer_remove_12[df_buyer_remove_12.bidder.isin(type3) == False]\n",
    "type4 = df_buyer_remove_123.bidder\n",
    "type4.count()"
   ]
  },
  {
   "cell_type": "code",
   "execution_count": 76,
   "metadata": {},
   "outputs": [
    {
     "data": {
      "text/html": [
       "<div>\n",
       "<style scoped>\n",
       "    .dataframe tbody tr th:only-of-type {\n",
       "        vertical-align: middle;\n",
       "    }\n",
       "\n",
       "    .dataframe tbody tr th {\n",
       "        vertical-align: top;\n",
       "    }\n",
       "\n",
       "    .dataframe thead th {\n",
       "        text-align: right;\n",
       "    }\n",
       "</style>\n",
       "<table border=\"1\" class=\"dataframe\">\n",
       "  <thead>\n",
       "    <tr style=\"text-align: right;\">\n",
       "      <th></th>\n",
       "      <th>auction_number</th>\n",
       "      <th>bidder</th>\n",
       "      <th>final_price</th>\n",
       "      <th>amount_paid</th>\n",
       "      <th>starting_price</th>\n",
       "      <th>buyer_surplus</th>\n",
       "      <th>seller_surplus</th>\n",
       "      <th>total_surplus</th>\n",
       "    </tr>\n",
       "  </thead>\n",
       "  <tbody>\n",
       "    <tr>\n",
       "      <th>17</th>\n",
       "      <td>18</td>\n",
       "      <td>tsgo,</td>\n",
       "      <td>99.01</td>\n",
       "      <td>98.01</td>\n",
       "      <td>9.99</td>\n",
       "      <td>1.0</td>\n",
       "      <td>88.02</td>\n",
       "      <td>89.02</td>\n",
       "    </tr>\n",
       "    <tr>\n",
       "      <th>18</th>\n",
       "      <td>19</td>\n",
       "      <td>tsgo,</td>\n",
       "      <td>86.00</td>\n",
       "      <td>85.00</td>\n",
       "      <td>9.99</td>\n",
       "      <td>1.0</td>\n",
       "      <td>75.01</td>\n",
       "      <td>76.01</td>\n",
       "    </tr>\n",
       "    <tr>\n",
       "      <th>21</th>\n",
       "      <td>22</td>\n",
       "      <td>star2shine,</td>\n",
       "      <td>132.50</td>\n",
       "      <td>130.00</td>\n",
       "      <td>1.00</td>\n",
       "      <td>2.5</td>\n",
       "      <td>129.00</td>\n",
       "      <td>131.50</td>\n",
       "    </tr>\n",
       "    <tr>\n",
       "      <th>22</th>\n",
       "      <td>23</td>\n",
       "      <td>star2shine,</td>\n",
       "      <td>122.50</td>\n",
       "      <td>120.00</td>\n",
       "      <td>1.00</td>\n",
       "      <td>2.5</td>\n",
       "      <td>119.00</td>\n",
       "      <td>121.50</td>\n",
       "    </tr>\n",
       "    <tr>\n",
       "      <th>35</th>\n",
       "      <td>36</td>\n",
       "      <td>joe_simone,</td>\n",
       "      <td>107.50</td>\n",
       "      <td>105.00</td>\n",
       "      <td>75.00</td>\n",
       "      <td>2.5</td>\n",
       "      <td>30.00</td>\n",
       "      <td>32.50</td>\n",
       "    </tr>\n",
       "    <tr>\n",
       "      <th>36</th>\n",
       "      <td>37</td>\n",
       "      <td>joe_simone,</td>\n",
       "      <td>102.50</td>\n",
       "      <td>100.00</td>\n",
       "      <td>75.00</td>\n",
       "      <td>2.5</td>\n",
       "      <td>25.00</td>\n",
       "      <td>27.50</td>\n",
       "    </tr>\n",
       "    <tr>\n",
       "      <th>46</th>\n",
       "      <td>47</td>\n",
       "      <td>rayace,</td>\n",
       "      <td>107.50</td>\n",
       "      <td>105.00</td>\n",
       "      <td>99.00</td>\n",
       "      <td>2.5</td>\n",
       "      <td>6.00</td>\n",
       "      <td>8.50</td>\n",
       "    </tr>\n",
       "    <tr>\n",
       "      <th>47</th>\n",
       "      <td>48</td>\n",
       "      <td>rayace,</td>\n",
       "      <td>100.00</td>\n",
       "      <td>99.00</td>\n",
       "      <td>99.00</td>\n",
       "      <td>1.0</td>\n",
       "      <td>0.00</td>\n",
       "      <td>1.00</td>\n",
       "    </tr>\n",
       "    <tr>\n",
       "      <th>48</th>\n",
       "      <td>49</td>\n",
       "      <td>mustofa123,</td>\n",
       "      <td>99.00</td>\n",
       "      <td>99.00</td>\n",
       "      <td>99.00</td>\n",
       "      <td>0.0</td>\n",
       "      <td>0.00</td>\n",
       "      <td>0.00</td>\n",
       "    </tr>\n",
       "    <tr>\n",
       "      <th>49</th>\n",
       "      <td>50</td>\n",
       "      <td>mustofa123,</td>\n",
       "      <td>100.00</td>\n",
       "      <td>99.00</td>\n",
       "      <td>99.00</td>\n",
       "      <td>1.0</td>\n",
       "      <td>0.00</td>\n",
       "      <td>1.00</td>\n",
       "    </tr>\n",
       "  </tbody>\n",
       "</table>\n",
       "</div>"
      ],
      "text/plain": [
       "    auction_number       bidder  final_price  amount_paid  starting_price  \\\n",
       "17              18        tsgo,        99.01        98.01            9.99   \n",
       "18              19        tsgo,        86.00        85.00            9.99   \n",
       "21              22  star2shine,       132.50       130.00            1.00   \n",
       "22              23  star2shine,       122.50       120.00            1.00   \n",
       "35              36  joe_simone,       107.50       105.00           75.00   \n",
       "36              37  joe_simone,       102.50       100.00           75.00   \n",
       "46              47      rayace,       107.50       105.00           99.00   \n",
       "47              48      rayace,       100.00        99.00           99.00   \n",
       "48              49  mustofa123,        99.00        99.00           99.00   \n",
       "49              50  mustofa123,       100.00        99.00           99.00   \n",
       "\n",
       "    buyer_surplus  seller_surplus  total_surplus  \n",
       "17            1.0           88.02          89.02  \n",
       "18            1.0           75.01          76.01  \n",
       "21            2.5          129.00         131.50  \n",
       "22            2.5          119.00         121.50  \n",
       "35            2.5           30.00          32.50  \n",
       "36            2.5           25.00          27.50  \n",
       "46            2.5            6.00           8.50  \n",
       "47            1.0            0.00           1.00  \n",
       "48            0.0            0.00           0.00  \n",
       "49            1.0            0.00           1.00  "
      ]
     },
     "execution_count": 76,
     "metadata": {},
     "output_type": "execute_result"
    }
   ],
   "source": [
    "type4_won = actual_aug_bidder[actual_aug_bidder.bidder.isin(type4)]\n",
    "type4_won"
   ]
  },
  {
   "cell_type": "code",
   "execution_count": 77,
   "metadata": {},
   "outputs": [
    {
     "data": {
      "text/plain": [
       "104.001"
      ]
     },
     "execution_count": 77,
     "metadata": {},
     "output_type": "execute_result"
    }
   ],
   "source": [
    "type4_price = type4_won.amount_paid.mean()\n",
    "type4_price"
   ]
  },
  {
   "cell_type": "code",
   "execution_count": 78,
   "metadata": {},
   "outputs": [
    {
     "data": {
      "text/html": [
       "<div>\n",
       "<style scoped>\n",
       "    .dataframe tbody tr th:only-of-type {\n",
       "        vertical-align: middle;\n",
       "    }\n",
       "\n",
       "    .dataframe tbody tr th {\n",
       "        vertical-align: top;\n",
       "    }\n",
       "\n",
       "    .dataframe thead th {\n",
       "        text-align: right;\n",
       "    }\n",
       "</style>\n",
       "<table border=\"1\" class=\"dataframe\">\n",
       "  <thead>\n",
       "    <tr style=\"text-align: right;\">\n",
       "      <th></th>\n",
       "      <th>single bid in single auction</th>\n",
       "      <th>multiple bids in single auction</th>\n",
       "      <th>sequential bids in multiple auctions</th>\n",
       "      <th>nonsequential bids in multiple auctions</th>\n",
       "    </tr>\n",
       "  </thead>\n",
       "  <tbody>\n",
       "    <tr>\n",
       "      <th>count</th>\n",
       "      <td>321</td>\n",
       "      <td>156</td>\n",
       "      <td>56</td>\n",
       "      <td>296</td>\n",
       "    </tr>\n",
       "    <tr>\n",
       "      <th>proportion of bidders who won</th>\n",
       "      <td>25.55%</td>\n",
       "      <td>2.56%</td>\n",
       "      <td>16.07%</td>\n",
       "      <td>3.38%</td>\n",
       "    </tr>\n",
       "    <tr>\n",
       "      <th>average price conditional on winning</th>\n",
       "      <td>115.725</td>\n",
       "      <td>116.125</td>\n",
       "      <td>113.058</td>\n",
       "      <td>104.001</td>\n",
       "    </tr>\n",
       "  </tbody>\n",
       "</table>\n",
       "</div>"
      ],
      "text/plain": [
       "                                     single bid in single auction  \\\n",
       "count                                                         321   \n",
       "proportion of bidders who won                              25.55%   \n",
       "average price conditional on winning                      115.725   \n",
       "\n",
       "                                     multiple bids in single auction  \\\n",
       "count                                                            156   \n",
       "proportion of bidders who won                                  2.56%   \n",
       "average price conditional on winning                         116.125   \n",
       "\n",
       "                                     sequential bids in multiple auctions  \\\n",
       "count                                                                  56   \n",
       "proportion of bidders who won                                      16.07%   \n",
       "average price conditional on winning                              113.058   \n",
       "\n",
       "                                     nonsequential bids in multiple auctions  \n",
       "count                                                                    296  \n",
       "proportion of bidders who won                                          3.38%  \n",
       "average price conditional on winning                                 104.001  "
      ]
     },
     "execution_count": 78,
     "metadata": {},
     "output_type": "execute_result"
    }
   ],
   "source": [
    "type_table = pd.DataFrame([[type1.bidder.count(),type2.count(),type3.count(),type4.count()],\n",
    "              [type1_won.bidder.count()/type1.bidder.count(), type2_won.bidder.count()/type2.count(),\n",
    "               type3_won.bidder.count()/type3.count(),type4_won.bidder.count()/type4.count()],\n",
    "             [type1_price,type2_price,type3_price,type4_price]],\n",
    "            columns = ['single bid in single auction', 'multiple bids in single auction', \n",
    "                       'sequential bids in multiple auctions', 'nonsequential bids in multiple auctions'],\n",
    "            index = ['count','proportion of bidders who won', 'average price conditional on winning'])\n",
    "type_table.iloc[1] =type_table.iloc[1].map('{:,.2%}'.format)\n",
    "type_table"
   ]
  },
  {
   "cell_type": "markdown",
   "metadata": {},
   "source": [
    "### Sellers' Characteristics\n",
    "\n",
    "the averge feedbacks of the set of sellers who succeed in both and those who succeed in the actual market only\n",
    "\n",
    "there is only one seller who failed in the actual market (i.e. succeed in the actual market only)"
   ]
  },
  {
   "cell_type": "code",
   "execution_count": 79,
   "metadata": {},
   "outputs": [
    {
     "data": {
      "text/html": [
       "<div>\n",
       "<style scoped>\n",
       "    .dataframe tbody tr th:only-of-type {\n",
       "        vertical-align: middle;\n",
       "    }\n",
       "\n",
       "    .dataframe tbody tr th {\n",
       "        vertical-align: top;\n",
       "    }\n",
       "\n",
       "    .dataframe thead th {\n",
       "        text-align: right;\n",
       "    }\n",
       "</style>\n",
       "<table border=\"1\" class=\"dataframe\">\n",
       "  <thead>\n",
       "    <tr style=\"text-align: right;\">\n",
       "      <th></th>\n",
       "      <th>auction_number</th>\n",
       "      <th>item</th>\n",
       "      <th>final_price</th>\n",
       "      <th>starting_price</th>\n",
       "      <th>quantity</th>\n",
       "      <th>number_of_bids</th>\n",
       "      <th>starting_time</th>\n",
       "      <th>ending_time</th>\n",
       "      <th>seller</th>\n",
       "      <th>seller_feedback</th>\n",
       "      <th>bidder</th>\n",
       "      <th>bidder_feedback</th>\n",
       "      <th>bid_amount</th>\n",
       "      <th>bid_time</th>\n",
       "    </tr>\n",
       "  </thead>\n",
       "  <tbody>\n",
       "    <tr>\n",
       "      <th>907</th>\n",
       "      <td>71</td>\n",
       "      <td>*New* P 3 Intel Pentium III 800 Slot 1 CPU</td>\n",
       "      <td>141.0</td>\n",
       "      <td>141.0</td>\n",
       "      <td>1</td>\n",
       "      <td>1</td>\n",
       "      <td>2001-06-19 12:24:01</td>\n",
       "      <td>2001-06-26 12:24:01</td>\n",
       "      <td>animelibrary</td>\n",
       "      <td>111</td>\n",
       "      <td></td>\n",
       "      <td>0</td>\n",
       "      <td>0.0</td>\n",
       "      <td>0000-00-00 00:00:00</td>\n",
       "    </tr>\n",
       "  </tbody>\n",
       "</table>\n",
       "</div>"
      ],
      "text/plain": [
       "     auction_number                                        item  final_price  \\\n",
       "907              71  *New* P 3 Intel Pentium III 800 Slot 1 CPU        141.0   \n",
       "\n",
       "     starting_price  quantity  number_of_bids        starting_time  \\\n",
       "907           141.0         1               1  2001-06-19 12:24:01   \n",
       "\n",
       "             ending_time        seller  seller_feedback bidder  \\\n",
       "907  2001-06-26 12:24:01  animelibrary              111          \n",
       "\n",
       "     bidder_feedback  bid_amount             bid_time  \n",
       "907                0         0.0  0000-00-00 00:00:00  "
      ]
     },
     "execution_count": 79,
     "metadata": {},
     "output_type": "execute_result"
    }
   ],
   "source": [
    "# the set of sellers who would succeed in the imaginary market (a series of name)\n",
    "# which is also the intersection\n",
    "succ_seller_img;\n",
    "# the one who succeeded in the actual market only (subset of df_seller)\n",
    "seller_act_only"
   ]
  },
  {
   "cell_type": "code",
   "execution_count": 80,
   "metadata": {},
   "outputs": [
    {
     "data": {
      "text/plain": [
       "37.48615384615385"
      ]
     },
     "execution_count": 80,
     "metadata": {},
     "output_type": "execute_result"
    }
   ],
   "source": [
    "seller_intersect = actual_aug_bidder[(actual_aug_bidder.auction_number == 71) == False]\n",
    "seller_intersect.amount_paid.mean()\n",
    "seller_intersect.starting_price.mean()"
   ]
  },
  {
   "cell_type": "code",
   "execution_count": 81,
   "metadata": {},
   "outputs": [
    {
     "data": {
      "text/plain": [
       "count     104.000000\n",
       "mean      927.336538\n",
       "std      1971.038052\n",
       "min         0.000000\n",
       "25%        11.500000\n",
       "50%        59.500000\n",
       "75%       589.000000\n",
       "max      8183.000000\n",
       "Name: seller_feedback, dtype: float64"
      ]
     },
     "execution_count": 81,
     "metadata": {},
     "output_type": "execute_result"
    }
   ],
   "source": [
    "df_seller[(df_seller.auction_number == 71) == False].seller_feedback.describe()"
   ]
  },
  {
   "cell_type": "code",
   "execution_count": 82,
   "metadata": {},
   "outputs": [
    {
     "data": {
      "text/plain": [
       "907    111\n",
       "Name: seller_feedback, dtype: int64"
      ]
     },
     "execution_count": 82,
     "metadata": {},
     "output_type": "execute_result"
    }
   ],
   "source": [
    "seller_act_only.seller_feedback"
   ]
  },
  {
   "cell_type": "markdown",
   "metadata": {},
   "source": [
    "### Product Homogeneity\n",
    "\n",
    "We now split all 105 items sold in the autions into two groups: the new ones (with 'new' in their names) and the used ones (without 'new'). Then we construct an imaginary market and an actual market for both, respectively, and compute the total surpluses to see if releasing the assumption of products being homogeneous helps explain the decline in the total surpluses."
   ]
  },
  {
   "cell_type": "code",
   "execution_count": 86,
   "metadata": {},
   "outputs": [],
   "source": [
    "# create a list of booleans for selection \n",
    "def lob(s):\n",
    "    # s is a series\n",
    "    n = len(s)\n",
    "    ans = []\n",
    "    for i in range(n):\n",
    "        string = s.iloc[i].lower()\n",
    "        ans_i = ('new' in string)\n",
    "        ans.append(ans_i)\n",
    "    return ans"
   ]
  },
  {
   "cell_type": "code",
   "execution_count": 87,
   "metadata": {},
   "outputs": [
    {
     "data": {
      "text/plain": [
       "22"
      ]
     },
     "execution_count": 87,
     "metadata": {},
     "output_type": "execute_result"
    }
   ],
   "source": [
    "df_seller_copy = df_seller.copy()\n",
    "df_seller_copy = df_seller_copy.reset_index(drop = True)\n",
    "b = lob(df_seller_copy.item)\n",
    "new_items = df_seller_copy[b]\n",
    "new_items.item.count()\n",
    "# there are 22 new items sold in the auctoins"
   ]
  },
  {
   "cell_type": "code",
   "execution_count": 88,
   "metadata": {},
   "outputs": [
    {
     "data": {
      "text/plain": [
       "83"
      ]
     },
     "execution_count": 88,
     "metadata": {},
     "output_type": "execute_result"
    }
   ],
   "source": [
    "b_used = [not(i) for i in b]\n",
    "used_items = df_seller_copy[b_used]\n",
    "used_items.item.count()\n",
    "#there are 83 used items sold in the auctions (22+83 =105)"
   ]
  },
  {
   "cell_type": "code",
   "execution_count": 137,
   "metadata": {},
   "outputs": [],
   "source": [
    "df_seller_used = used_items"
   ]
  },
  {
   "cell_type": "code",
   "execution_count": 91,
   "metadata": {},
   "outputs": [
    {
     "data": {
      "text/plain": [
       "83"
      ]
     },
     "execution_count": 91,
     "metadata": {},
     "output_type": "execute_result"
    }
   ],
   "source": [
    "#subset of buyers records who bade in the auctions where used items were sold\n",
    "df_buyer_used = df_buyer[df_buyer.auction_number.isin(used_items.auction_number)]\n",
    "#test:\n",
    "df_buyer_used.auction_number.nunique()"
   ]
  },
  {
   "cell_type": "code",
   "execution_count": 92,
   "metadata": {},
   "outputs": [
    {
     "data": {
      "text/plain": [
       "0       0.01\n",
       "1       0.01\n",
       "2       0.01\n",
       "3       0.01\n",
       "4       0.01\n",
       "       ...  \n",
       "78    100.00\n",
       "79    110.00\n",
       "80    110.00\n",
       "81    115.00\n",
       "82    120.00\n",
       "Name: MC of the used, Length: 83, dtype: float64"
      ]
     },
     "execution_count": 92,
     "metadata": {},
     "output_type": "execute_result"
    }
   ],
   "source": [
    "#MC\n",
    "mc_used = df_seller_used.sort_values(by = 'starting_price')\n",
    "mc_used = mc_used['starting_price']\n",
    "mc_used = mc_used.reset_index(drop=True)\n",
    "mc_used = mc_used.rename('MC of the used')\n",
    "mc_used"
   ]
  },
  {
   "cell_type": "code",
   "execution_count": 93,
   "metadata": {},
   "outputs": [
    {
     "data": {
      "text/html": [
       "<div>\n",
       "<style scoped>\n",
       "    .dataframe tbody tr th:only-of-type {\n",
       "        vertical-align: middle;\n",
       "    }\n",
       "\n",
       "    .dataframe tbody tr th {\n",
       "        vertical-align: top;\n",
       "    }\n",
       "\n",
       "    .dataframe thead th {\n",
       "        text-align: right;\n",
       "    }\n",
       "</style>\n",
       "<table border=\"1\" class=\"dataframe\">\n",
       "  <thead>\n",
       "    <tr style=\"text-align: right;\">\n",
       "      <th></th>\n",
       "      <th>bidder</th>\n",
       "      <th>bid_amount</th>\n",
       "    </tr>\n",
       "  </thead>\n",
       "  <tbody>\n",
       "    <tr>\n",
       "      <th>0</th>\n",
       "      <td>alan_knoop,</td>\n",
       "      <td>147.50</td>\n",
       "    </tr>\n",
       "    <tr>\n",
       "      <th>1</th>\n",
       "      <td>rayman65</td>\n",
       "      <td>145.00</td>\n",
       "    </tr>\n",
       "    <tr>\n",
       "      <th>2</th>\n",
       "      <td>beantiques</td>\n",
       "      <td>144.50</td>\n",
       "    </tr>\n",
       "    <tr>\n",
       "      <th>3</th>\n",
       "      <td>beantiques,</td>\n",
       "      <td>144.50</td>\n",
       "    </tr>\n",
       "    <tr>\n",
       "      <th>4</th>\n",
       "      <td>alnova@gateway.net,</td>\n",
       "      <td>142.59</td>\n",
       "    </tr>\n",
       "    <tr>\n",
       "      <th>...</th>\n",
       "      <td>...</td>\n",
       "      <td>...</td>\n",
       "    </tr>\n",
       "    <tr>\n",
       "      <th>453</th>\n",
       "      <td>danagp@earthlink.net</td>\n",
       "      <td>1.00</td>\n",
       "    </tr>\n",
       "    <tr>\n",
       "      <th>454</th>\n",
       "      <td>crazyredboy</td>\n",
       "      <td>1.00</td>\n",
       "    </tr>\n",
       "    <tr>\n",
       "      <th>455</th>\n",
       "      <td>fastrakceo</td>\n",
       "      <td>0.06</td>\n",
       "    </tr>\n",
       "    <tr>\n",
       "      <th>456</th>\n",
       "      <td>neesey2</td>\n",
       "      <td>0.00</td>\n",
       "    </tr>\n",
       "    <tr>\n",
       "      <th>457</th>\n",
       "      <td>wch7928786</td>\n",
       "      <td>0.00</td>\n",
       "    </tr>\n",
       "  </tbody>\n",
       "</table>\n",
       "<p>458 rows × 2 columns</p>\n",
       "</div>"
      ],
      "text/plain": [
       "                   bidder  bid_amount\n",
       "0             alan_knoop,      147.50\n",
       "1                rayman65      145.00\n",
       "2              beantiques      144.50\n",
       "3             beantiques,      144.50\n",
       "4     alnova@gateway.net,      142.59\n",
       "..                    ...         ...\n",
       "453  danagp@earthlink.net        1.00\n",
       "454           crazyredboy        1.00\n",
       "455            fastrakceo        0.06\n",
       "456               neesey2        0.00\n",
       "457            wch7928786        0.00\n",
       "\n",
       "[458 rows x 2 columns]"
      ]
     },
     "execution_count": 93,
     "metadata": {},
     "output_type": "execute_result"
    }
   ],
   "source": [
    "#WTP\n",
    "wtp_used = df_buyer_used.groupby('bidder').bid_amount.max()\n",
    "#test\n",
    "#df_buyer_used.bidder.nunique()\n",
    "wtp_used = wtp_used.sort_values(ascending = False)\n",
    "wtp_used_only = wtp_used.reset_index(drop =True)\n",
    "wtp_used_only = wtp_used_only.rename('WTP of the used')\n",
    "wtp_used_only\n",
    "wtp_used_bidders = wtp_used.reset_index()\n",
    "wtp_used_bidders"
   ]
  },
  {
   "cell_type": "code",
   "execution_count": 94,
   "metadata": {},
   "outputs": [
    {
     "data": {
      "text/html": [
       "<div>\n",
       "<style scoped>\n",
       "    .dataframe tbody tr th:only-of-type {\n",
       "        vertical-align: middle;\n",
       "    }\n",
       "\n",
       "    .dataframe tbody tr th {\n",
       "        vertical-align: top;\n",
       "    }\n",
       "\n",
       "    .dataframe thead th {\n",
       "        text-align: right;\n",
       "    }\n",
       "</style>\n",
       "<table border=\"1\" class=\"dataframe\">\n",
       "  <thead>\n",
       "    <tr style=\"text-align: right;\">\n",
       "      <th></th>\n",
       "      <th>WTP of the used</th>\n",
       "      <th>MC of the used</th>\n",
       "    </tr>\n",
       "  </thead>\n",
       "  <tbody>\n",
       "    <tr>\n",
       "      <th>0</th>\n",
       "      <td>147.50</td>\n",
       "      <td>0.01</td>\n",
       "    </tr>\n",
       "    <tr>\n",
       "      <th>1</th>\n",
       "      <td>145.00</td>\n",
       "      <td>0.01</td>\n",
       "    </tr>\n",
       "    <tr>\n",
       "      <th>2</th>\n",
       "      <td>144.50</td>\n",
       "      <td>0.01</td>\n",
       "    </tr>\n",
       "    <tr>\n",
       "      <th>3</th>\n",
       "      <td>144.50</td>\n",
       "      <td>0.01</td>\n",
       "    </tr>\n",
       "    <tr>\n",
       "      <th>4</th>\n",
       "      <td>142.59</td>\n",
       "      <td>0.01</td>\n",
       "    </tr>\n",
       "    <tr>\n",
       "      <th>...</th>\n",
       "      <td>...</td>\n",
       "      <td>...</td>\n",
       "    </tr>\n",
       "    <tr>\n",
       "      <th>453</th>\n",
       "      <td>1.00</td>\n",
       "      <td>NaN</td>\n",
       "    </tr>\n",
       "    <tr>\n",
       "      <th>454</th>\n",
       "      <td>1.00</td>\n",
       "      <td>NaN</td>\n",
       "    </tr>\n",
       "    <tr>\n",
       "      <th>455</th>\n",
       "      <td>0.06</td>\n",
       "      <td>NaN</td>\n",
       "    </tr>\n",
       "    <tr>\n",
       "      <th>456</th>\n",
       "      <td>0.00</td>\n",
       "      <td>NaN</td>\n",
       "    </tr>\n",
       "    <tr>\n",
       "      <th>457</th>\n",
       "      <td>0.00</td>\n",
       "      <td>NaN</td>\n",
       "    </tr>\n",
       "  </tbody>\n",
       "</table>\n",
       "<p>458 rows × 2 columns</p>\n",
       "</div>"
      ],
      "text/plain": [
       "     WTP of the used  MC of the used\n",
       "0             147.50            0.01\n",
       "1             145.00            0.01\n",
       "2             144.50            0.01\n",
       "3             144.50            0.01\n",
       "4             142.59            0.01\n",
       "..               ...             ...\n",
       "453             1.00             NaN\n",
       "454             1.00             NaN\n",
       "455             0.06             NaN\n",
       "456             0.00             NaN\n",
       "457             0.00             NaN\n",
       "\n",
       "[458 rows x 2 columns]"
      ]
     },
     "execution_count": 94,
     "metadata": {},
     "output_type": "execute_result"
    }
   ],
   "source": [
    "img_used = pd.concat([wtp_used_only, mc_used], axis =1)\n",
    "img_used"
   ]
  },
  {
   "cell_type": "code",
   "execution_count": 95,
   "metadata": {},
   "outputs": [
    {
     "data": {
      "text/html": [
       "<div>\n",
       "<style scoped>\n",
       "    .dataframe tbody tr th:only-of-type {\n",
       "        vertical-align: middle;\n",
       "    }\n",
       "\n",
       "    .dataframe tbody tr th {\n",
       "        vertical-align: top;\n",
       "    }\n",
       "\n",
       "    .dataframe thead th {\n",
       "        text-align: right;\n",
       "    }\n",
       "</style>\n",
       "<table border=\"1\" class=\"dataframe\">\n",
       "  <thead>\n",
       "    <tr style=\"text-align: right;\">\n",
       "      <th></th>\n",
       "      <th>WTP of the used</th>\n",
       "      <th>MC of the used</th>\n",
       "      <th>surplus</th>\n",
       "    </tr>\n",
       "  </thead>\n",
       "  <tbody>\n",
       "    <tr>\n",
       "      <th>0</th>\n",
       "      <td>147.50</td>\n",
       "      <td>0.01</td>\n",
       "      <td>147.49</td>\n",
       "    </tr>\n",
       "    <tr>\n",
       "      <th>1</th>\n",
       "      <td>145.00</td>\n",
       "      <td>0.01</td>\n",
       "      <td>144.99</td>\n",
       "    </tr>\n",
       "    <tr>\n",
       "      <th>2</th>\n",
       "      <td>144.50</td>\n",
       "      <td>0.01</td>\n",
       "      <td>144.49</td>\n",
       "    </tr>\n",
       "    <tr>\n",
       "      <th>3</th>\n",
       "      <td>144.50</td>\n",
       "      <td>0.01</td>\n",
       "      <td>144.49</td>\n",
       "    </tr>\n",
       "    <tr>\n",
       "      <th>4</th>\n",
       "      <td>142.59</td>\n",
       "      <td>0.01</td>\n",
       "      <td>142.58</td>\n",
       "    </tr>\n",
       "    <tr>\n",
       "      <th>...</th>\n",
       "      <td>...</td>\n",
       "      <td>...</td>\n",
       "      <td>...</td>\n",
       "    </tr>\n",
       "    <tr>\n",
       "      <th>78</th>\n",
       "      <td>121.00</td>\n",
       "      <td>100.00</td>\n",
       "      <td>21.00</td>\n",
       "    </tr>\n",
       "    <tr>\n",
       "      <th>79</th>\n",
       "      <td>121.00</td>\n",
       "      <td>110.00</td>\n",
       "      <td>11.00</td>\n",
       "    </tr>\n",
       "    <tr>\n",
       "      <th>80</th>\n",
       "      <td>121.00</td>\n",
       "      <td>110.00</td>\n",
       "      <td>11.00</td>\n",
       "    </tr>\n",
       "    <tr>\n",
       "      <th>81</th>\n",
       "      <td>120.01</td>\n",
       "      <td>115.00</td>\n",
       "      <td>5.01</td>\n",
       "    </tr>\n",
       "    <tr>\n",
       "      <th>82</th>\n",
       "      <td>120.00</td>\n",
       "      <td>120.00</td>\n",
       "      <td>0.00</td>\n",
       "    </tr>\n",
       "  </tbody>\n",
       "</table>\n",
       "<p>83 rows × 3 columns</p>\n",
       "</div>"
      ],
      "text/plain": [
       "    WTP of the used  MC of the used  surplus\n",
       "0            147.50            0.01   147.49\n",
       "1            145.00            0.01   144.99\n",
       "2            144.50            0.01   144.49\n",
       "3            144.50            0.01   144.49\n",
       "4            142.59            0.01   142.58\n",
       "..              ...             ...      ...\n",
       "78           121.00          100.00    21.00\n",
       "79           121.00          110.00    11.00\n",
       "80           121.00          110.00    11.00\n",
       "81           120.01          115.00     5.01\n",
       "82           120.00          120.00     0.00\n",
       "\n",
       "[83 rows x 3 columns]"
      ]
     },
     "execution_count": 95,
     "metadata": {},
     "output_type": "execute_result"
    }
   ],
   "source": [
    "img_used_traded = img_used[img_used['WTP of the used'] >= img_used['MC of the used']]\n",
    "img_used_traded = img_used_traded.assign(surplus = img_used_traded[\"WTP of the used\"] - img_used_traded[\"MC of the used\"])\n",
    "img_used_traded"
   ]
  },
  {
   "cell_type": "code",
   "execution_count": 96,
   "metadata": {},
   "outputs": [
    {
     "data": {
      "text/plain": [
       "WTP of the used    120.0\n",
       "MC of the used       NaN\n",
       "Name: 83, dtype: float64"
      ]
     },
     "execution_count": 96,
     "metadata": {},
     "output_type": "execute_result"
    }
   ],
   "source": [
    "img_used.iloc[83,:]\n",
    "# EQ price is 120, all 83 items were sold"
   ]
  },
  {
   "cell_type": "code",
   "execution_count": 97,
   "metadata": {},
   "outputs": [],
   "source": [
    "#compute the surpluses\n",
    "total_surplus_img_used = img_used_traded.surplus.sum()\n",
    "buyer_surplus_img_used = img_used_traded['WTP of the used'].sum() - (120*83)\n",
    "seller_surplus_img_used = (120*83) - img_used_traded['MC of the used'].sum()"
   ]
  },
  {
   "cell_type": "code",
   "execution_count": 98,
   "metadata": {},
   "outputs": [
    {
     "data": {
      "text/html": [
       "<div>\n",
       "<style scoped>\n",
       "    .dataframe tbody tr th:only-of-type {\n",
       "        vertical-align: middle;\n",
       "    }\n",
       "\n",
       "    .dataframe tbody tr th {\n",
       "        vertical-align: top;\n",
       "    }\n",
       "\n",
       "    .dataframe thead th {\n",
       "        text-align: right;\n",
       "    }\n",
       "</style>\n",
       "<table border=\"1\" class=\"dataframe\">\n",
       "  <thead>\n",
       "    <tr style=\"text-align: right;\">\n",
       "      <th></th>\n",
       "      <th>auction_number</th>\n",
       "      <th>bidder</th>\n",
       "      <th>final_price</th>\n",
       "      <th>amount_paid</th>\n",
       "      <th>starting_price</th>\n",
       "      <th>buyer_surplus</th>\n",
       "      <th>seller_surplus</th>\n",
       "      <th>total_surplus</th>\n",
       "    </tr>\n",
       "  </thead>\n",
       "  <tbody>\n",
       "    <tr>\n",
       "      <th>0</th>\n",
       "      <td>1</td>\n",
       "      <td>diginet0</td>\n",
       "      <td>105.00</td>\n",
       "      <td>105.00</td>\n",
       "      <td>99.00</td>\n",
       "      <td>0.0</td>\n",
       "      <td>6.00</td>\n",
       "      <td>6.00</td>\n",
       "    </tr>\n",
       "    <tr>\n",
       "      <th>3</th>\n",
       "      <td>4</td>\n",
       "      <td>jkahn@kahnmechanical.com,</td>\n",
       "      <td>142.50</td>\n",
       "      <td>140.00</td>\n",
       "      <td>24.88</td>\n",
       "      <td>2.5</td>\n",
       "      <td>115.12</td>\n",
       "      <td>117.62</td>\n",
       "    </tr>\n",
       "    <tr>\n",
       "      <th>4</th>\n",
       "      <td>5</td>\n",
       "      <td>stat1k,</td>\n",
       "      <td>142.50</td>\n",
       "      <td>140.00</td>\n",
       "      <td>20.00</td>\n",
       "      <td>2.5</td>\n",
       "      <td>120.00</td>\n",
       "      <td>122.50</td>\n",
       "    </tr>\n",
       "    <tr>\n",
       "      <th>7</th>\n",
       "      <td>8</td>\n",
       "      <td>beantiques,</td>\n",
       "      <td>144.50</td>\n",
       "      <td>144.50</td>\n",
       "      <td>9.99</td>\n",
       "      <td>0.0</td>\n",
       "      <td>134.51</td>\n",
       "      <td>134.51</td>\n",
       "    </tr>\n",
       "    <tr>\n",
       "      <th>8</th>\n",
       "      <td>9</td>\n",
       "      <td>cac@rconnect.com,</td>\n",
       "      <td>80.99</td>\n",
       "      <td>79.99</td>\n",
       "      <td>2.00</td>\n",
       "      <td>1.0</td>\n",
       "      <td>77.99</td>\n",
       "      <td>78.99</td>\n",
       "    </tr>\n",
       "    <tr>\n",
       "      <th>...</th>\n",
       "      <td>...</td>\n",
       "      <td>...</td>\n",
       "      <td>...</td>\n",
       "      <td>...</td>\n",
       "      <td>...</td>\n",
       "      <td>...</td>\n",
       "      <td>...</td>\n",
       "      <td>...</td>\n",
       "    </tr>\n",
       "    <tr>\n",
       "      <th>97</th>\n",
       "      <td>98</td>\n",
       "      <td>palenduf</td>\n",
       "      <td>122.50</td>\n",
       "      <td>122.50</td>\n",
       "      <td>0.01</td>\n",
       "      <td>0.0</td>\n",
       "      <td>122.49</td>\n",
       "      <td>122.49</td>\n",
       "    </tr>\n",
       "    <tr>\n",
       "      <th>98</th>\n",
       "      <td>99</td>\n",
       "      <td>deimos909,</td>\n",
       "      <td>122.50</td>\n",
       "      <td>120.00</td>\n",
       "      <td>0.01</td>\n",
       "      <td>2.5</td>\n",
       "      <td>119.99</td>\n",
       "      <td>122.49</td>\n",
       "    </tr>\n",
       "    <tr>\n",
       "      <th>99</th>\n",
       "      <td>100</td>\n",
       "      <td>avill</td>\n",
       "      <td>100.00</td>\n",
       "      <td>100.00</td>\n",
       "      <td>1.00</td>\n",
       "      <td>0.0</td>\n",
       "      <td>99.00</td>\n",
       "      <td>99.00</td>\n",
       "    </tr>\n",
       "    <tr>\n",
       "      <th>101</th>\n",
       "      <td>102</td>\n",
       "      <td>mailetc@mindspring.com,</td>\n",
       "      <td>82.00</td>\n",
       "      <td>81.00</td>\n",
       "      <td>49.00</td>\n",
       "      <td>1.0</td>\n",
       "      <td>32.00</td>\n",
       "      <td>33.00</td>\n",
       "    </tr>\n",
       "    <tr>\n",
       "      <th>104</th>\n",
       "      <td>105</td>\n",
       "      <td>cvokoun@swbell.net,</td>\n",
       "      <td>127.50</td>\n",
       "      <td>125.00</td>\n",
       "      <td>110.00</td>\n",
       "      <td>2.5</td>\n",
       "      <td>15.00</td>\n",
       "      <td>17.50</td>\n",
       "    </tr>\n",
       "  </tbody>\n",
       "</table>\n",
       "<p>83 rows × 8 columns</p>\n",
       "</div>"
      ],
      "text/plain": [
       "     auction_number                     bidder  final_price  amount_paid  \\\n",
       "0                 1                   diginet0       105.00       105.00   \n",
       "3                 4  jkahn@kahnmechanical.com,       142.50       140.00   \n",
       "4                 5                    stat1k,       142.50       140.00   \n",
       "7                 8                beantiques,       144.50       144.50   \n",
       "8                 9          cac@rconnect.com,        80.99        79.99   \n",
       "..              ...                        ...          ...          ...   \n",
       "97               98                   palenduf       122.50       122.50   \n",
       "98               99                 deimos909,       122.50       120.00   \n",
       "99              100                      avill       100.00       100.00   \n",
       "101             102    mailetc@mindspring.com,        82.00        81.00   \n",
       "104             105        cvokoun@swbell.net,       127.50       125.00   \n",
       "\n",
       "     starting_price  buyer_surplus  seller_surplus  total_surplus  \n",
       "0             99.00            0.0            6.00           6.00  \n",
       "3             24.88            2.5          115.12         117.62  \n",
       "4             20.00            2.5          120.00         122.50  \n",
       "7              9.99            0.0          134.51         134.51  \n",
       "8              2.00            1.0           77.99          78.99  \n",
       "..              ...            ...             ...            ...  \n",
       "97             0.01            0.0          122.49         122.49  \n",
       "98             0.01            2.5          119.99         122.49  \n",
       "99             1.00            0.0           99.00          99.00  \n",
       "101           49.00            1.0           32.00          33.00  \n",
       "104          110.00            2.5           15.00          17.50  \n",
       "\n",
       "[83 rows x 8 columns]"
      ]
     },
     "execution_count": 98,
     "metadata": {},
     "output_type": "execute_result"
    }
   ],
   "source": [
    "actual_used = actual_aug_bidder[actual_aug_bidder.auction_number.isin(used_items.auction_number)]\n",
    "actual_used"
   ]
  },
  {
   "cell_type": "code",
   "execution_count": 99,
   "metadata": {},
   "outputs": [
    {
     "data": {
      "text/plain": [
       "113.28421686746988"
      ]
     },
     "execution_count": 99,
     "metadata": {},
     "output_type": "execute_result"
    }
   ],
   "source": [
    "total_surplus_act_used = actual_used.total_surplus.sum()\n",
    "buyer_surplus_act_used = actual_used.buyer_surplus.sum()\n",
    "seller_surplus_act_used = actual_used.seller_surplus.sum()\n",
    "avg_price_used =actual_used.amount_paid.mean()\n",
    "avg_price_used \n",
    "# EQ_used = 120"
   ]
  },
  {
   "cell_type": "code",
   "execution_count": 100,
   "metadata": {},
   "outputs": [
    {
     "data": {
      "text/plain": [
       "114.3952380952381"
      ]
     },
     "execution_count": 100,
     "metadata": {},
     "output_type": "execute_result"
    }
   ],
   "source": [
    "#in the entire market\n",
    "avg_price_total = actual_aug_bidder.amount_paid.mean()\n",
    "avg_price_total"
   ]
  },
  {
   "cell_type": "code",
   "execution_count": 101,
   "metadata": {},
   "outputs": [
    {
     "data": {
      "text/html": [
       "<div>\n",
       "<style scoped>\n",
       "    .dataframe tbody tr th:only-of-type {\n",
       "        vertical-align: middle;\n",
       "    }\n",
       "\n",
       "    .dataframe tbody tr th {\n",
       "        vertical-align: top;\n",
       "    }\n",
       "\n",
       "    .dataframe thead th {\n",
       "        text-align: right;\n",
       "    }\n",
       "</style>\n",
       "<table border=\"1\" class=\"dataframe\">\n",
       "  <thead>\n",
       "    <tr style=\"text-align: right;\">\n",
       "      <th></th>\n",
       "      <th>buyer surplus</th>\n",
       "      <th>seller surplus</th>\n",
       "      <th>total surplus</th>\n",
       "    </tr>\n",
       "  </thead>\n",
       "  <tbody>\n",
       "    <tr>\n",
       "      <th>imaginary mkt</th>\n",
       "      <td>797.47</td>\n",
       "      <td>6490.40</td>\n",
       "      <td>7287.87</td>\n",
       "    </tr>\n",
       "    <tr>\n",
       "      <th>actual mkt</th>\n",
       "      <td>153.59</td>\n",
       "      <td>5932.99</td>\n",
       "      <td>6086.58</td>\n",
       "    </tr>\n",
       "    <tr>\n",
       "      <th>difference</th>\n",
       "      <td>643.88</td>\n",
       "      <td>557.41</td>\n",
       "      <td>1201.29</td>\n",
       "    </tr>\n",
       "  </tbody>\n",
       "</table>\n",
       "</div>"
      ],
      "text/plain": [
       "               buyer surplus  seller surplus  total surplus\n",
       "imaginary mkt         797.47         6490.40        7287.87\n",
       "actual mkt            153.59         5932.99        6086.58\n",
       "difference            643.88          557.41        1201.29"
      ]
     },
     "execution_count": 101,
     "metadata": {},
     "output_type": "execute_result"
    }
   ],
   "source": [
    "summary_used = pd.DataFrame([[buyer_surplus_img_used, seller_surplus_img_used, total_surplus_img_used],\n",
    "                       [buyer_surplus_act_used, seller_surplus_act_used, total_surplus_act_used]],\n",
    "                      index = ['imaginary mkt', 'actual mkt'],\n",
    "                      columns = ['buyer surplus', 'seller surplus', 'total surplus'])\n",
    "summary_used = summary_used.T\n",
    "summary_used['difference'] = summary_used['imaginary mkt']- summary_used['actual mkt']\n",
    "summary_used = summary_used.T\n",
    "summary_used"
   ]
  },
  {
   "cell_type": "code",
   "execution_count": 102,
   "metadata": {},
   "outputs": [
    {
     "data": {
      "text/html": [
       "<div>\n",
       "<style scoped>\n",
       "    .dataframe tbody tr th:only-of-type {\n",
       "        vertical-align: middle;\n",
       "    }\n",
       "\n",
       "    .dataframe tbody tr th {\n",
       "        vertical-align: top;\n",
       "    }\n",
       "\n",
       "    .dataframe thead th {\n",
       "        text-align: right;\n",
       "    }\n",
       "</style>\n",
       "<table border=\"1\" class=\"dataframe\">\n",
       "  <thead>\n",
       "    <tr style=\"text-align: right;\">\n",
       "      <th></th>\n",
       "      <th>buyer surplus</th>\n",
       "      <th>buyer percentage</th>\n",
       "      <th>seller surplus</th>\n",
       "      <th>seller percentage</th>\n",
       "      <th>total surplus</th>\n",
       "    </tr>\n",
       "  </thead>\n",
       "  <tbody>\n",
       "    <tr>\n",
       "      <th>imaginary mkt</th>\n",
       "      <td>1001.52</td>\n",
       "      <td>10.34%</td>\n",
       "      <td>8685.44</td>\n",
       "      <td>89.66%</td>\n",
       "      <td>9686.96</td>\n",
       "    </tr>\n",
       "    <tr>\n",
       "      <th>actual mkt</th>\n",
       "      <td>198.58</td>\n",
       "      <td>2.43%</td>\n",
       "      <td>7971.94</td>\n",
       "      <td>97.57%</td>\n",
       "      <td>8170.52</td>\n",
       "    </tr>\n",
       "    <tr>\n",
       "      <th>perct change</th>\n",
       "      <td>-80.17%</td>\n",
       "      <td>NaN</td>\n",
       "      <td>-8.21%</td>\n",
       "      <td>NaN</td>\n",
       "      <td>-15.65%</td>\n",
       "    </tr>\n",
       "  </tbody>\n",
       "</table>\n",
       "</div>"
      ],
      "text/plain": [
       "              buyer surplus buyer percentage seller surplus seller percentage  \\\n",
       "imaginary mkt       1001.52           10.34%        8685.44            89.66%   \n",
       "actual mkt           198.58            2.43%        7971.94            97.57%   \n",
       "perct change        -80.17%              NaN         -8.21%               NaN   \n",
       "\n",
       "              total surplus  \n",
       "imaginary mkt       9686.96  \n",
       "actual mkt          8170.52  \n",
       "perct change        -15.65%  "
      ]
     },
     "execution_count": 102,
     "metadata": {},
     "output_type": "execute_result"
    }
   ],
   "source": [
    "summary"
   ]
  },
  {
   "cell_type": "code",
   "execution_count": 103,
   "metadata": {},
   "outputs": [
    {
     "data": {
      "text/plain": [
       "1201.2900000000009"
      ]
     },
     "execution_count": 103,
     "metadata": {},
     "output_type": "execute_result"
    }
   ],
   "source": [
    "gap_total_used = total_surplus_img_used - total_surplus_act_used\n",
    "gap_total_used"
   ]
  },
  {
   "cell_type": "code",
   "execution_count": 104,
   "metadata": {},
   "outputs": [
    {
     "data": {
      "text/plain": [
       "1516.4399999999987"
      ]
     },
     "execution_count": 104,
     "metadata": {},
     "output_type": "execute_result"
    }
   ],
   "source": [
    "gap_total = total_img_surplus -total_surplus_act\n",
    "gap_total"
   ]
  },
  {
   "cell_type": "code",
   "execution_count": 105,
   "metadata": {},
   "outputs": [
    {
     "data": {
      "text/plain": [
       "'79.22%'"
      ]
     },
     "execution_count": 105,
     "metadata": {},
     "output_type": "execute_result"
    }
   ],
   "source": [
    "# how much can the used market explain the gap\n",
    "'{0:.2%}'.format(gap_total_used/gap_total)"
   ]
  },
  {
   "cell_type": "code",
   "execution_count": 106,
   "metadata": {},
   "outputs": [
    {
     "data": {
      "text/plain": [
       "'79.05%'"
      ]
     },
     "execution_count": 106,
     "metadata": {},
     "output_type": "execute_result"
    }
   ],
   "source": [
    "'{0:.2%}'.format(83/105)"
   ]
  },
  {
   "cell_type": "code",
   "execution_count": 107,
   "metadata": {},
   "outputs": [
    {
     "data": {
      "text/plain": [
       "0       1.00\n",
       "1       1.00\n",
       "2       1.00\n",
       "3       1.00\n",
       "4       1.00\n",
       "5       1.00\n",
       "6       1.00\n",
       "7       1.00\n",
       "8       9.99\n",
       "9       9.99\n",
       "10      9.99\n",
       "11      9.99\n",
       "12     14.00\n",
       "13     20.00\n",
       "14     20.00\n",
       "15     50.00\n",
       "16     50.00\n",
       "17     50.00\n",
       "18     59.00\n",
       "19     59.00\n",
       "20     59.00\n",
       "21    141.00\n",
       "Name: MC of the new, dtype: float64"
      ]
     },
     "execution_count": 107,
     "metadata": {},
     "output_type": "execute_result"
    }
   ],
   "source": [
    "#MC\n",
    "mc_new = new_items.starting_price.sort_values().reset_index(drop =True)\n",
    "mc_new = mc_new.rename('MC of the new')\n",
    "mc_new"
   ]
  },
  {
   "cell_type": "code",
   "execution_count": 108,
   "metadata": {},
   "outputs": [
    {
     "data": {
      "text/html": [
       "<div>\n",
       "<style scoped>\n",
       "    .dataframe tbody tr th:only-of-type {\n",
       "        vertical-align: middle;\n",
       "    }\n",
       "\n",
       "    .dataframe tbody tr th {\n",
       "        vertical-align: top;\n",
       "    }\n",
       "\n",
       "    .dataframe thead th {\n",
       "        text-align: right;\n",
       "    }\n",
       "</style>\n",
       "<table border=\"1\" class=\"dataframe\">\n",
       "  <thead>\n",
       "    <tr style=\"text-align: right;\">\n",
       "      <th></th>\n",
       "      <th>bidder</th>\n",
       "      <th>bid_amount</th>\n",
       "    </tr>\n",
       "  </thead>\n",
       "  <tbody>\n",
       "    <tr>\n",
       "      <th>0</th>\n",
       "      <td>jdlusk83,</td>\n",
       "      <td>146.00</td>\n",
       "    </tr>\n",
       "    <tr>\n",
       "      <th>1</th>\n",
       "      <td>peter.shelly.1</td>\n",
       "      <td>145.00</td>\n",
       "    </tr>\n",
       "    <tr>\n",
       "      <th>2</th>\n",
       "      <td>jasonwlove1009,</td>\n",
       "      <td>144.01</td>\n",
       "    </tr>\n",
       "    <tr>\n",
       "      <th>3</th>\n",
       "      <td>zephd@in-motion.net</td>\n",
       "      <td>142.52</td>\n",
       "    </tr>\n",
       "    <tr>\n",
       "      <th>4</th>\n",
       "      <td>73chrysler,</td>\n",
       "      <td>141.50</td>\n",
       "    </tr>\n",
       "    <tr>\n",
       "      <th>...</th>\n",
       "      <td>...</td>\n",
       "      <td>...</td>\n",
       "    </tr>\n",
       "    <tr>\n",
       "      <th>177</th>\n",
       "      <td>wch7928786</td>\n",
       "      <td>0.00</td>\n",
       "    </tr>\n",
       "    <tr>\n",
       "      <th>178</th>\n",
       "      <td>juanjrodriguez@hotmail.com</td>\n",
       "      <td>0.00</td>\n",
       "    </tr>\n",
       "    <tr>\n",
       "      <th>179</th>\n",
       "      <td>iraniam</td>\n",
       "      <td>0.00</td>\n",
       "    </tr>\n",
       "    <tr>\n",
       "      <th>180</th>\n",
       "      <td>immoyse</td>\n",
       "      <td>0.00</td>\n",
       "    </tr>\n",
       "    <tr>\n",
       "      <th>181</th>\n",
       "      <td>$stein$</td>\n",
       "      <td>0.00</td>\n",
       "    </tr>\n",
       "  </tbody>\n",
       "</table>\n",
       "<p>182 rows × 2 columns</p>\n",
       "</div>"
      ],
      "text/plain": [
       "                         bidder  bid_amount\n",
       "0                     jdlusk83,      146.00\n",
       "1                peter.shelly.1      145.00\n",
       "2               jasonwlove1009,      144.01\n",
       "3           zephd@in-motion.net      142.52\n",
       "4                   73chrysler,      141.50\n",
       "..                          ...         ...\n",
       "177                  wch7928786        0.00\n",
       "178  juanjrodriguez@hotmail.com        0.00\n",
       "179                     iraniam        0.00\n",
       "180                     immoyse        0.00\n",
       "181                     $stein$        0.00\n",
       "\n",
       "[182 rows x 2 columns]"
      ]
     },
     "execution_count": 108,
     "metadata": {},
     "output_type": "execute_result"
    }
   ],
   "source": [
    "#wtp\n",
    "df_buyer_new = df_buyer[df_buyer.auction_number.isin(new_items.auction_number)]\n",
    "# test\n",
    "#df_buyer_new.auction_number.nunique()\n",
    "wtp_new = df_buyer_new.groupby('bidder').bid_amount.max().sort_values(ascending = False)\n",
    "wtp_new_only = wtp_new.reset_index(drop = True)\n",
    "wtp_new_only = wtp_new_only.rename('WTP of the new')\n",
    "wtp_new_only\n",
    "wtp_new_bidders= wtp_new.reset_index()\n",
    "wtp_new_bidders"
   ]
  },
  {
   "cell_type": "code",
   "execution_count": 109,
   "metadata": {},
   "outputs": [
    {
     "data": {
      "text/html": [
       "<div>\n",
       "<style scoped>\n",
       "    .dataframe tbody tr th:only-of-type {\n",
       "        vertical-align: middle;\n",
       "    }\n",
       "\n",
       "    .dataframe tbody tr th {\n",
       "        vertical-align: top;\n",
       "    }\n",
       "\n",
       "    .dataframe thead th {\n",
       "        text-align: right;\n",
       "    }\n",
       "</style>\n",
       "<table border=\"1\" class=\"dataframe\">\n",
       "  <thead>\n",
       "    <tr style=\"text-align: right;\">\n",
       "      <th></th>\n",
       "      <th>WTP of the new</th>\n",
       "      <th>MC of the new</th>\n",
       "    </tr>\n",
       "  </thead>\n",
       "  <tbody>\n",
       "    <tr>\n",
       "      <th>0</th>\n",
       "      <td>146.00</td>\n",
       "      <td>1.0</td>\n",
       "    </tr>\n",
       "    <tr>\n",
       "      <th>1</th>\n",
       "      <td>145.00</td>\n",
       "      <td>1.0</td>\n",
       "    </tr>\n",
       "    <tr>\n",
       "      <th>2</th>\n",
       "      <td>144.01</td>\n",
       "      <td>1.0</td>\n",
       "    </tr>\n",
       "    <tr>\n",
       "      <th>3</th>\n",
       "      <td>142.52</td>\n",
       "      <td>1.0</td>\n",
       "    </tr>\n",
       "    <tr>\n",
       "      <th>4</th>\n",
       "      <td>141.50</td>\n",
       "      <td>1.0</td>\n",
       "    </tr>\n",
       "    <tr>\n",
       "      <th>...</th>\n",
       "      <td>...</td>\n",
       "      <td>...</td>\n",
       "    </tr>\n",
       "    <tr>\n",
       "      <th>177</th>\n",
       "      <td>0.00</td>\n",
       "      <td>NaN</td>\n",
       "    </tr>\n",
       "    <tr>\n",
       "      <th>178</th>\n",
       "      <td>0.00</td>\n",
       "      <td>NaN</td>\n",
       "    </tr>\n",
       "    <tr>\n",
       "      <th>179</th>\n",
       "      <td>0.00</td>\n",
       "      <td>NaN</td>\n",
       "    </tr>\n",
       "    <tr>\n",
       "      <th>180</th>\n",
       "      <td>0.00</td>\n",
       "      <td>NaN</td>\n",
       "    </tr>\n",
       "    <tr>\n",
       "      <th>181</th>\n",
       "      <td>0.00</td>\n",
       "      <td>NaN</td>\n",
       "    </tr>\n",
       "  </tbody>\n",
       "</table>\n",
       "<p>182 rows × 2 columns</p>\n",
       "</div>"
      ],
      "text/plain": [
       "     WTP of the new  MC of the new\n",
       "0            146.00            1.0\n",
       "1            145.00            1.0\n",
       "2            144.01            1.0\n",
       "3            142.52            1.0\n",
       "4            141.50            1.0\n",
       "..              ...            ...\n",
       "177            0.00            NaN\n",
       "178            0.00            NaN\n",
       "179            0.00            NaN\n",
       "180            0.00            NaN\n",
       "181            0.00            NaN\n",
       "\n",
       "[182 rows x 2 columns]"
      ]
     },
     "execution_count": 109,
     "metadata": {},
     "output_type": "execute_result"
    }
   ],
   "source": [
    "img_new = pd.concat([wtp_new_only, mc_new], axis =1)\n",
    "img_new"
   ]
  },
  {
   "cell_type": "code",
   "execution_count": 110,
   "metadata": {},
   "outputs": [
    {
     "data": {
      "text/html": [
       "<div>\n",
       "<style scoped>\n",
       "    .dataframe tbody tr th:only-of-type {\n",
       "        vertical-align: middle;\n",
       "    }\n",
       "\n",
       "    .dataframe tbody tr th {\n",
       "        vertical-align: top;\n",
       "    }\n",
       "\n",
       "    .dataframe thead th {\n",
       "        text-align: right;\n",
       "    }\n",
       "</style>\n",
       "<table border=\"1\" class=\"dataframe\">\n",
       "  <thead>\n",
       "    <tr style=\"text-align: right;\">\n",
       "      <th></th>\n",
       "      <th>WTP of the new</th>\n",
       "      <th>MC of the new</th>\n",
       "      <th>surplus</th>\n",
       "    </tr>\n",
       "  </thead>\n",
       "  <tbody>\n",
       "    <tr>\n",
       "      <th>0</th>\n",
       "      <td>146.00</td>\n",
       "      <td>1.00</td>\n",
       "      <td>145.00</td>\n",
       "    </tr>\n",
       "    <tr>\n",
       "      <th>1</th>\n",
       "      <td>145.00</td>\n",
       "      <td>1.00</td>\n",
       "      <td>144.00</td>\n",
       "    </tr>\n",
       "    <tr>\n",
       "      <th>2</th>\n",
       "      <td>144.01</td>\n",
       "      <td>1.00</td>\n",
       "      <td>143.01</td>\n",
       "    </tr>\n",
       "    <tr>\n",
       "      <th>3</th>\n",
       "      <td>142.52</td>\n",
       "      <td>1.00</td>\n",
       "      <td>141.52</td>\n",
       "    </tr>\n",
       "    <tr>\n",
       "      <th>4</th>\n",
       "      <td>141.50</td>\n",
       "      <td>1.00</td>\n",
       "      <td>140.50</td>\n",
       "    </tr>\n",
       "    <tr>\n",
       "      <th>5</th>\n",
       "      <td>141.00</td>\n",
       "      <td>1.00</td>\n",
       "      <td>140.00</td>\n",
       "    </tr>\n",
       "    <tr>\n",
       "      <th>6</th>\n",
       "      <td>139.00</td>\n",
       "      <td>1.00</td>\n",
       "      <td>138.00</td>\n",
       "    </tr>\n",
       "    <tr>\n",
       "      <th>7</th>\n",
       "      <td>137.50</td>\n",
       "      <td>1.00</td>\n",
       "      <td>136.50</td>\n",
       "    </tr>\n",
       "    <tr>\n",
       "      <th>8</th>\n",
       "      <td>137.29</td>\n",
       "      <td>9.99</td>\n",
       "      <td>127.30</td>\n",
       "    </tr>\n",
       "    <tr>\n",
       "      <th>9</th>\n",
       "      <td>135.78</td>\n",
       "      <td>9.99</td>\n",
       "      <td>125.79</td>\n",
       "    </tr>\n",
       "    <tr>\n",
       "      <th>10</th>\n",
       "      <td>132.50</td>\n",
       "      <td>9.99</td>\n",
       "      <td>122.51</td>\n",
       "    </tr>\n",
       "    <tr>\n",
       "      <th>11</th>\n",
       "      <td>132.00</td>\n",
       "      <td>9.99</td>\n",
       "      <td>122.01</td>\n",
       "    </tr>\n",
       "    <tr>\n",
       "      <th>12</th>\n",
       "      <td>130.83</td>\n",
       "      <td>14.00</td>\n",
       "      <td>116.83</td>\n",
       "    </tr>\n",
       "    <tr>\n",
       "      <th>13</th>\n",
       "      <td>130.50</td>\n",
       "      <td>20.00</td>\n",
       "      <td>110.50</td>\n",
       "    </tr>\n",
       "    <tr>\n",
       "      <th>14</th>\n",
       "      <td>130.00</td>\n",
       "      <td>20.00</td>\n",
       "      <td>110.00</td>\n",
       "    </tr>\n",
       "    <tr>\n",
       "      <th>15</th>\n",
       "      <td>130.00</td>\n",
       "      <td>50.00</td>\n",
       "      <td>80.00</td>\n",
       "    </tr>\n",
       "    <tr>\n",
       "      <th>16</th>\n",
       "      <td>128.01</td>\n",
       "      <td>50.00</td>\n",
       "      <td>78.01</td>\n",
       "    </tr>\n",
       "    <tr>\n",
       "      <th>17</th>\n",
       "      <td>127.50</td>\n",
       "      <td>50.00</td>\n",
       "      <td>77.50</td>\n",
       "    </tr>\n",
       "    <tr>\n",
       "      <th>18</th>\n",
       "      <td>127.00</td>\n",
       "      <td>59.00</td>\n",
       "      <td>68.00</td>\n",
       "    </tr>\n",
       "    <tr>\n",
       "      <th>19</th>\n",
       "      <td>125.00</td>\n",
       "      <td>59.00</td>\n",
       "      <td>66.00</td>\n",
       "    </tr>\n",
       "    <tr>\n",
       "      <th>20</th>\n",
       "      <td>125.00</td>\n",
       "      <td>59.00</td>\n",
       "      <td>66.00</td>\n",
       "    </tr>\n",
       "  </tbody>\n",
       "</table>\n",
       "</div>"
      ],
      "text/plain": [
       "    WTP of the new  MC of the new  surplus\n",
       "0           146.00           1.00   145.00\n",
       "1           145.00           1.00   144.00\n",
       "2           144.01           1.00   143.01\n",
       "3           142.52           1.00   141.52\n",
       "4           141.50           1.00   140.50\n",
       "5           141.00           1.00   140.00\n",
       "6           139.00           1.00   138.00\n",
       "7           137.50           1.00   136.50\n",
       "8           137.29           9.99   127.30\n",
       "9           135.78           9.99   125.79\n",
       "10          132.50           9.99   122.51\n",
       "11          132.00           9.99   122.01\n",
       "12          130.83          14.00   116.83\n",
       "13          130.50          20.00   110.50\n",
       "14          130.00          20.00   110.00\n",
       "15          130.00          50.00    80.00\n",
       "16          128.01          50.00    78.01\n",
       "17          127.50          50.00    77.50\n",
       "18          127.00          59.00    68.00\n",
       "19          125.00          59.00    66.00\n",
       "20          125.00          59.00    66.00"
      ]
     },
     "execution_count": 110,
     "metadata": {},
     "output_type": "execute_result"
    }
   ],
   "source": [
    "img_traded_new = img_new[img_new['WTP of the new'] >= img_new['MC of the new']]\n",
    "img_traded_new = img_traded_new.assign(surplus = img_traded_new['WTP of the new'] - img_traded_new['MC of the new'])\n",
    "img_traded_new"
   ]
  },
  {
   "cell_type": "code",
   "execution_count": 111,
   "metadata": {},
   "outputs": [
    {
     "data": {
      "text/plain": [
       "WTP of the new    123.71\n",
       "MC of the new     141.00\n",
       "Name: 21, dtype: float64"
      ]
     },
     "execution_count": 111,
     "metadata": {},
     "output_type": "execute_result"
    }
   ],
   "source": [
    "img_new.iloc[21]\n",
    "#EQ price is in (123, 125)\n",
    "#we assume EQ price =124"
   ]
  },
  {
   "cell_type": "code",
   "execution_count": 112,
   "metadata": {},
   "outputs": [],
   "source": [
    "total_surplus_img_new = img_traded_new.surplus.sum()\n",
    "buyer_surplus_img_new = img_traded_new['WTP of the new'].sum() - (21*124)\n",
    "seller_surplus_img_new = (21*124) - img_traded_new['MC of the new'].sum()"
   ]
  },
  {
   "cell_type": "code",
   "execution_count": 113,
   "metadata": {},
   "outputs": [
    {
     "data": {
      "text/html": [
       "<div>\n",
       "<style scoped>\n",
       "    .dataframe tbody tr th:only-of-type {\n",
       "        vertical-align: middle;\n",
       "    }\n",
       "\n",
       "    .dataframe tbody tr th {\n",
       "        vertical-align: top;\n",
       "    }\n",
       "\n",
       "    .dataframe thead th {\n",
       "        text-align: right;\n",
       "    }\n",
       "</style>\n",
       "<table border=\"1\" class=\"dataframe\">\n",
       "  <thead>\n",
       "    <tr style=\"text-align: right;\">\n",
       "      <th></th>\n",
       "      <th>auction_number</th>\n",
       "      <th>bidder</th>\n",
       "      <th>final_price</th>\n",
       "      <th>amount_paid</th>\n",
       "      <th>starting_price</th>\n",
       "      <th>buyer_surplus</th>\n",
       "      <th>seller_surplus</th>\n",
       "      <th>total_surplus</th>\n",
       "    </tr>\n",
       "  </thead>\n",
       "  <tbody>\n",
       "    <tr>\n",
       "      <th>1</th>\n",
       "      <td>2</td>\n",
       "      <td>tomcat_lastdefence_net,</td>\n",
       "      <td>112.50</td>\n",
       "      <td>110.00</td>\n",
       "      <td>9.99</td>\n",
       "      <td>2.5</td>\n",
       "      <td>100.01</td>\n",
       "      <td>102.51</td>\n",
       "    </tr>\n",
       "    <tr>\n",
       "      <th>2</th>\n",
       "      <td>3</td>\n",
       "      <td>chuckw97,</td>\n",
       "      <td>105.48</td>\n",
       "      <td>102.98</td>\n",
       "      <td>9.99</td>\n",
       "      <td>2.5</td>\n",
       "      <td>92.99</td>\n",
       "      <td>95.49</td>\n",
       "    </tr>\n",
       "    <tr>\n",
       "      <th>5</th>\n",
       "      <td>6</td>\n",
       "      <td>jlyon@pf.ueo.ohio-state.edu,</td>\n",
       "      <td>102.50</td>\n",
       "      <td>100.00</td>\n",
       "      <td>1.00</td>\n",
       "      <td>2.5</td>\n",
       "      <td>99.00</td>\n",
       "      <td>101.50</td>\n",
       "    </tr>\n",
       "  </tbody>\n",
       "</table>\n",
       "</div>"
      ],
      "text/plain": [
       "   auction_number                        bidder  final_price  amount_paid  \\\n",
       "1               2       tomcat_lastdefence_net,       112.50       110.00   \n",
       "2               3                     chuckw97,       105.48       102.98   \n",
       "5               6  jlyon@pf.ueo.ohio-state.edu,       102.50       100.00   \n",
       "\n",
       "   starting_price  buyer_surplus  seller_surplus  total_surplus  \n",
       "1            9.99            2.5          100.01         102.51  \n",
       "2            9.99            2.5           92.99          95.49  \n",
       "5            1.00            2.5           99.00         101.50  "
      ]
     },
     "execution_count": 113,
     "metadata": {},
     "output_type": "execute_result"
    }
   ],
   "source": [
    "actual_new = actual_aug_bidder[actual_aug_bidder.auction_number.isin(new_items.auction_number)]\n",
    "actual_new.head(3)\n",
    "#actual_new.count()"
   ]
  },
  {
   "cell_type": "code",
   "execution_count": 114,
   "metadata": {},
   "outputs": [
    {
     "data": {
      "text/plain": [
       "118.5868181818182"
      ]
     },
     "execution_count": 114,
     "metadata": {},
     "output_type": "execute_result"
    }
   ],
   "source": [
    "total_surplus_act_new = actual_new.total_surplus.sum()\n",
    "buyer_surplus_act_new = actual_new.buyer_surplus.sum()\n",
    "seller_surplus_act_new = actual_new.seller_surplus.sum()\n",
    "avg_price_new = actual_new.amount_paid.mean()\n",
    "avg_price_new"
   ]
  },
  {
   "cell_type": "code",
   "execution_count": 115,
   "metadata": {},
   "outputs": [
    {
     "data": {
      "text/plain": [
       "315.0399999999995"
      ]
     },
     "execution_count": 115,
     "metadata": {},
     "output_type": "execute_result"
    }
   ],
   "source": [
    "gap_total_new= total_surplus_img_new - total_surplus_act_new\n",
    "gap_total_new"
   ]
  },
  {
   "cell_type": "code",
   "execution_count": 116,
   "metadata": {},
   "outputs": [
    {
     "data": {
      "text/html": [
       "<div>\n",
       "<style scoped>\n",
       "    .dataframe tbody tr th:only-of-type {\n",
       "        vertical-align: middle;\n",
       "    }\n",
       "\n",
       "    .dataframe tbody tr th {\n",
       "        vertical-align: top;\n",
       "    }\n",
       "\n",
       "    .dataframe thead th {\n",
       "        text-align: right;\n",
       "    }\n",
       "</style>\n",
       "<table border=\"1\" class=\"dataframe\">\n",
       "  <thead>\n",
       "    <tr style=\"text-align: right;\">\n",
       "      <th></th>\n",
       "      <th>buyer surplus</th>\n",
       "      <th>seller surplus</th>\n",
       "      <th>total surplus</th>\n",
       "    </tr>\n",
       "  </thead>\n",
       "  <tbody>\n",
       "    <tr>\n",
       "      <th>imaginary mkt</th>\n",
       "      <td>223.94</td>\n",
       "      <td>2175.04</td>\n",
       "      <td>2398.98</td>\n",
       "    </tr>\n",
       "    <tr>\n",
       "      <th>actual mkt</th>\n",
       "      <td>44.99</td>\n",
       "      <td>2038.95</td>\n",
       "      <td>2083.94</td>\n",
       "    </tr>\n",
       "    <tr>\n",
       "      <th>difference</th>\n",
       "      <td>178.95</td>\n",
       "      <td>136.09</td>\n",
       "      <td>315.04</td>\n",
       "    </tr>\n",
       "  </tbody>\n",
       "</table>\n",
       "</div>"
      ],
      "text/plain": [
       "               buyer surplus  seller surplus  total surplus\n",
       "imaginary mkt         223.94         2175.04        2398.98\n",
       "actual mkt             44.99         2038.95        2083.94\n",
       "difference            178.95          136.09         315.04"
      ]
     },
     "execution_count": 116,
     "metadata": {},
     "output_type": "execute_result"
    }
   ],
   "source": [
    "summary_new = pd.DataFrame([[buyer_surplus_img_new, seller_surplus_img_new, total_surplus_img_new],\n",
    "                       [buyer_surplus_act_new, seller_surplus_act_new, total_surplus_act_new]],\n",
    "                      index = ['imaginary mkt', 'actual mkt'],\n",
    "                      columns = ['buyer surplus', 'seller surplus', 'total surplus'])\n",
    "summary_new = summary_new.T\n",
    "summary_new['difference'] = summary_new['imaginary mkt'] - summary_new['actual mkt']\n",
    "summary_new = summary_new.T\n",
    "summary_new"
   ]
  },
  {
   "cell_type": "code",
   "execution_count": 117,
   "metadata": {},
   "outputs": [
    {
     "data": {
      "text/html": [
       "<div>\n",
       "<style scoped>\n",
       "    .dataframe tbody tr th:only-of-type {\n",
       "        vertical-align: middle;\n",
       "    }\n",
       "\n",
       "    .dataframe tbody tr th {\n",
       "        vertical-align: top;\n",
       "    }\n",
       "\n",
       "    .dataframe thead th {\n",
       "        text-align: right;\n",
       "    }\n",
       "</style>\n",
       "<table border=\"1\" class=\"dataframe\">\n",
       "  <thead>\n",
       "    <tr style=\"text-align: right;\">\n",
       "      <th></th>\n",
       "      <th>buyer surplus</th>\n",
       "      <th>seller surplus</th>\n",
       "      <th>total surplus</th>\n",
       "    </tr>\n",
       "  </thead>\n",
       "  <tbody>\n",
       "    <tr>\n",
       "      <th>imaginary mkt</th>\n",
       "      <td>797.47</td>\n",
       "      <td>6490.40</td>\n",
       "      <td>7287.87</td>\n",
       "    </tr>\n",
       "    <tr>\n",
       "      <th>actual mkt</th>\n",
       "      <td>153.59</td>\n",
       "      <td>5932.99</td>\n",
       "      <td>6086.58</td>\n",
       "    </tr>\n",
       "    <tr>\n",
       "      <th>difference</th>\n",
       "      <td>643.88</td>\n",
       "      <td>557.41</td>\n",
       "      <td>1201.29</td>\n",
       "    </tr>\n",
       "  </tbody>\n",
       "</table>\n",
       "</div>"
      ],
      "text/plain": [
       "               buyer surplus  seller surplus  total surplus\n",
       "imaginary mkt         797.47         6490.40        7287.87\n",
       "actual mkt            153.59         5932.99        6086.58\n",
       "difference            643.88          557.41        1201.29"
      ]
     },
     "execution_count": 117,
     "metadata": {},
     "output_type": "execute_result"
    }
   ],
   "source": [
    "summary_used"
   ]
  },
  {
   "cell_type": "code",
   "execution_count": 118,
   "metadata": {},
   "outputs": [
    {
     "data": {
      "text/html": [
       "<div>\n",
       "<style scoped>\n",
       "    .dataframe tbody tr th:only-of-type {\n",
       "        vertical-align: middle;\n",
       "    }\n",
       "\n",
       "    .dataframe tbody tr th {\n",
       "        vertical-align: top;\n",
       "    }\n",
       "\n",
       "    .dataframe thead th {\n",
       "        text-align: right;\n",
       "    }\n",
       "</style>\n",
       "<table border=\"1\" class=\"dataframe\">\n",
       "  <thead>\n",
       "    <tr style=\"text-align: right;\">\n",
       "      <th></th>\n",
       "      <th>used</th>\n",
       "      <th>used perct</th>\n",
       "      <th>new</th>\n",
       "      <th>new perct</th>\n",
       "      <th>total</th>\n",
       "    </tr>\n",
       "  </thead>\n",
       "  <tbody>\n",
       "    <tr>\n",
       "      <th>count</th>\n",
       "      <td>83.000000</td>\n",
       "      <td>79.05%</td>\n",
       "      <td>22.000000</td>\n",
       "      <td>20.95%</td>\n",
       "      <td>105.000000</td>\n",
       "    </tr>\n",
       "    <tr>\n",
       "      <th>average trade price</th>\n",
       "      <td>113.284217</td>\n",
       "      <td>99.03%</td>\n",
       "      <td>118.586818</td>\n",
       "      <td>103.66%</td>\n",
       "      <td>114.395238</td>\n",
       "    </tr>\n",
       "    <tr>\n",
       "      <th>gap</th>\n",
       "      <td>1201.290000</td>\n",
       "      <td>79.22%</td>\n",
       "      <td>315.040000</td>\n",
       "      <td>20.77%</td>\n",
       "      <td>1516.440000</td>\n",
       "    </tr>\n",
       "  </tbody>\n",
       "</table>\n",
       "</div>"
      ],
      "text/plain": [
       "                            used used perct         new new perct        total\n",
       "count                  83.000000     79.05%   22.000000    20.95%   105.000000\n",
       "average trade price   113.284217     99.03%  118.586818   103.66%   114.395238\n",
       "gap                  1201.290000     79.22%  315.040000    20.77%  1516.440000"
      ]
     },
     "execution_count": 118,
     "metadata": {},
     "output_type": "execute_result"
    }
   ],
   "source": [
    "avg_prices = pd.DataFrame([[83,22, 105],\n",
    "                           [avg_price_used, avg_price_new, avg_price_total],\n",
    "                          [gap_total_used, gap_total_new, gap_total]],\n",
    "                         index = ['count', 'average trade price', 'gap'],\n",
    "                         columns = ['used', 'new', 'total'])\n",
    "avg_prices['used perct']= (avg_prices.used / avg_prices.total).map('{0:.2%}'.format)\n",
    "avg_prices['new perct'] = (avg_prices.new / avg_prices.total).map('{0:.2%}'.format)\n",
    "avg_prices = avg_prices[['used','used perct', 'new', 'new perct','total']]\n",
    "avg_prices"
   ]
  },
  {
   "cell_type": "markdown",
   "metadata": {},
   "source": [
    "### Vienn Diagram under Product Heterogeneity\n",
    "\n",
    "We have splitted the market into 2: the one for the new items and the one for the used items. Now we repeat the vienn analysis for the two markets respectively, i.e. classify the bidders into 3 categories: those who would succeed in the imaginary market but failed in the actual market, those who did succeed in the actual market but would fail in the imaginary market, and those who would and did succeed in both markets.\n",
    "\n",
    "Then we will compute the total and average williness to pay in the hope that this will explain the drop in the total surplus."
   ]
  },
  {
   "cell_type": "code",
   "execution_count": 119,
   "metadata": {},
   "outputs": [
    {
     "data": {
      "text/plain": [
       "bidder    83\n",
       "dtype: int64"
      ]
     },
     "execution_count": 119,
     "metadata": {},
     "output_type": "execute_result"
    }
   ],
   "source": [
    "bidder_img_used = wtp_used_bidders.bidder.head(83)\n",
    "bidder_img_used = bidder_img_used.drop_duplicates().to_frame()\n",
    "bidder_img_used.count()"
   ]
  },
  {
   "cell_type": "code",
   "execution_count": 120,
   "metadata": {},
   "outputs": [
    {
     "data": {
      "text/plain": [
       "bidder    75\n",
       "dtype: int64"
      ]
     },
     "execution_count": 120,
     "metadata": {},
     "output_type": "execute_result"
    }
   ],
   "source": [
    "bidder_act_used = actual_used.bidder.drop_duplicates()\n",
    "bidder_act_used =bidder_act_used.reset_index(drop=True).to_frame()\n",
    "bidder_act_used.count()"
   ]
  },
  {
   "cell_type": "code",
   "execution_count": 121,
   "metadata": {},
   "outputs": [
    {
     "data": {
      "text/plain": [
       "bidder    48\n",
       "dtype: int64"
      ]
     },
     "execution_count": 121,
     "metadata": {},
     "output_type": "execute_result"
    }
   ],
   "source": [
    "img_used_only = bidder_img_used[bidder_img_used.bidder.isin(bidder_act_used.bidder) == False]\n",
    "img_used_only.count()"
   ]
  },
  {
   "cell_type": "code",
   "execution_count": 122,
   "metadata": {},
   "outputs": [
    {
     "data": {
      "text/plain": [
       "bidder    40\n",
       "dtype: int64"
      ]
     },
     "execution_count": 122,
     "metadata": {},
     "output_type": "execute_result"
    }
   ],
   "source": [
    "act_used_only = bidder_act_used[bidder_act_used.bidder.isin(bidder_img_used.bidder) == False]\n",
    "act_used_only.count()"
   ]
  },
  {
   "cell_type": "code",
   "execution_count": 123,
   "metadata": {},
   "outputs": [],
   "source": [
    "#the total and average willingness to pay for the bidders who participated in the auctions of used items and would succeed only in the img market.\n",
    "used_totalwtp_img_only = wtp_used_bidders[wtp_used_bidders.bidder.isin(img_used_only.bidder)].bid_amount.sum()\n",
    "used_avgwtp_img_only = wtp_used_bidders[wtp_used_bidders.bidder.isin(img_used_only.bidder)].bid_amount.mean()"
   ]
  },
  {
   "cell_type": "code",
   "execution_count": 124,
   "metadata": {},
   "outputs": [],
   "source": [
    "#the same stats for the act_only_bidders\n",
    "used_totalwtp_act_only = wtp_used_bidders[wtp_used_bidders.bidder.isin(act_used_only.bidder)].bid_amount.sum()\n",
    "used_avgwtp_act_only = wtp_used_bidders[wtp_used_bidders.bidder.isin(act_used_only.bidder)].bid_amount.mean()"
   ]
  },
  {
   "cell_type": "code",
   "execution_count": 125,
   "metadata": {},
   "outputs": [
    {
     "data": {
      "text/plain": [
       "bidder    21\n",
       "dtype: int64"
      ]
     },
     "execution_count": 125,
     "metadata": {},
     "output_type": "execute_result"
    }
   ],
   "source": [
    "bidder_img_new = wtp_new_bidders.bidder.head(21).drop_duplicates().to_frame()\n",
    "bidder_img_new.count()"
   ]
  },
  {
   "cell_type": "code",
   "execution_count": 126,
   "metadata": {},
   "outputs": [
    {
     "data": {
      "text/plain": [
       "bidder    22\n",
       "dtype: int64"
      ]
     },
     "execution_count": 126,
     "metadata": {},
     "output_type": "execute_result"
    }
   ],
   "source": [
    "bidder_act_new = actual_new.bidder\n",
    "bidder_act_new = bidder_act_new.reset_index(drop = True).drop_duplicates().to_frame()\n",
    "bidder_act_new.count()"
   ]
  },
  {
   "cell_type": "code",
   "execution_count": 127,
   "metadata": {},
   "outputs": [
    {
     "data": {
      "text/plain": [
       "bidder    13\n",
       "dtype: int64"
      ]
     },
     "execution_count": 127,
     "metadata": {},
     "output_type": "execute_result"
    }
   ],
   "source": [
    "img_new_only = bidder_img_new[bidder_img_new.bidder.isin(bidder_act_new.bidder) == False]\n",
    "img_new_only.count()"
   ]
  },
  {
   "cell_type": "code",
   "execution_count": 128,
   "metadata": {},
   "outputs": [
    {
     "data": {
      "text/plain": [
       "bidder    14\n",
       "dtype: int64"
      ]
     },
     "execution_count": 128,
     "metadata": {},
     "output_type": "execute_result"
    }
   ],
   "source": [
    "act_new_only = bidder_act_new[bidder_act_new.bidder.isin(bidder_img_new.bidder) == False]\n",
    "act_new_only.count()"
   ]
  },
  {
   "cell_type": "code",
   "execution_count": 129,
   "metadata": {},
   "outputs": [],
   "source": [
    "new_totalwtp_img_only = wtp_new_bidders[wtp_new_bidders.bidder.isin(img_new_only.bidder)].bid_amount.sum()\n",
    "new_avgwtp_img_only = wtp_new_bidders[wtp_new_bidders.bidder.isin(img_new_only.bidder)].bid_amount.mean()"
   ]
  },
  {
   "cell_type": "code",
   "execution_count": 130,
   "metadata": {},
   "outputs": [],
   "source": [
    "new_totalwtp_act_only = wtp_new_bidders[wtp_new_bidders.bidder.isin(act_new_only.bidder)].bid_amount.sum()\n",
    "new_avgwtp_act_only = wtp_new_bidders[wtp_new_bidders.bidder.isin(act_new_only.bidder)].bid_amount.mean()"
   ]
  },
  {
   "cell_type": "code",
   "execution_count": 131,
   "metadata": {},
   "outputs": [
    {
     "data": {
      "text/html": [
       "<div>\n",
       "<style scoped>\n",
       "    .dataframe tbody tr th:only-of-type {\n",
       "        vertical-align: middle;\n",
       "    }\n",
       "\n",
       "    .dataframe tbody tr th {\n",
       "        vertical-align: top;\n",
       "    }\n",
       "\n",
       "    .dataframe thead th {\n",
       "        text-align: right;\n",
       "    }\n",
       "</style>\n",
       "<table border=\"1\" class=\"dataframe\">\n",
       "  <thead>\n",
       "    <tr style=\"text-align: right;\">\n",
       "      <th></th>\n",
       "      <th>buyer surplus</th>\n",
       "      <th>seller surplus</th>\n",
       "      <th>total surplus</th>\n",
       "    </tr>\n",
       "  </thead>\n",
       "  <tbody>\n",
       "    <tr>\n",
       "      <th>imaginary mkt</th>\n",
       "      <td>797.47</td>\n",
       "      <td>6490.40</td>\n",
       "      <td>7287.87</td>\n",
       "    </tr>\n",
       "    <tr>\n",
       "      <th>actual mkt</th>\n",
       "      <td>153.59</td>\n",
       "      <td>5932.99</td>\n",
       "      <td>6086.58</td>\n",
       "    </tr>\n",
       "    <tr>\n",
       "      <th>difference</th>\n",
       "      <td>643.88</td>\n",
       "      <td>557.41</td>\n",
       "      <td>1201.29</td>\n",
       "    </tr>\n",
       "  </tbody>\n",
       "</table>\n",
       "</div>"
      ],
      "text/plain": [
       "               buyer surplus  seller surplus  total surplus\n",
       "imaginary mkt         797.47         6490.40        7287.87\n",
       "actual mkt            153.59         5932.99        6086.58\n",
       "difference            643.88          557.41        1201.29"
      ]
     },
     "execution_count": 131,
     "metadata": {},
     "output_type": "execute_result"
    }
   ],
   "source": [
    "summary_used"
   ]
  },
  {
   "cell_type": "code",
   "execution_count": 132,
   "metadata": {},
   "outputs": [
    {
     "data": {
      "text/html": [
       "<div>\n",
       "<style scoped>\n",
       "    .dataframe tbody tr th:only-of-type {\n",
       "        vertical-align: middle;\n",
       "    }\n",
       "\n",
       "    .dataframe tbody tr th {\n",
       "        vertical-align: top;\n",
       "    }\n",
       "\n",
       "    .dataframe thead th {\n",
       "        text-align: right;\n",
       "    }\n",
       "</style>\n",
       "<table border=\"1\" class=\"dataframe\">\n",
       "  <thead>\n",
       "    <tr style=\"text-align: right;\">\n",
       "      <th></th>\n",
       "      <th>buyer surplus</th>\n",
       "      <th>seller surplus</th>\n",
       "      <th>total surplus</th>\n",
       "    </tr>\n",
       "  </thead>\n",
       "  <tbody>\n",
       "    <tr>\n",
       "      <th>imaginary mkt</th>\n",
       "      <td>223.94</td>\n",
       "      <td>2175.04</td>\n",
       "      <td>2398.98</td>\n",
       "    </tr>\n",
       "    <tr>\n",
       "      <th>actual mkt</th>\n",
       "      <td>44.99</td>\n",
       "      <td>2038.95</td>\n",
       "      <td>2083.94</td>\n",
       "    </tr>\n",
       "    <tr>\n",
       "      <th>difference</th>\n",
       "      <td>178.95</td>\n",
       "      <td>136.09</td>\n",
       "      <td>315.04</td>\n",
       "    </tr>\n",
       "  </tbody>\n",
       "</table>\n",
       "</div>"
      ],
      "text/plain": [
       "               buyer surplus  seller surplus  total surplus\n",
       "imaginary mkt         223.94         2175.04        2398.98\n",
       "actual mkt             44.99         2038.95        2083.94\n",
       "difference            178.95          136.09         315.04"
      ]
     },
     "execution_count": 132,
     "metadata": {},
     "output_type": "execute_result"
    }
   ],
   "source": [
    "summary_new"
   ]
  },
  {
   "cell_type": "code",
   "execution_count": 133,
   "metadata": {},
   "outputs": [],
   "source": [
    "bidder_used = pd.DataFrame([[48,35,40],\n",
    "                           [used_totalwtp_img_only, np.nan, used_totalwtp_act_only],\n",
    "                           [used_avgwtp_img_only, np.nan, used_avgwtp_act_only]],\n",
    "                          columns = ['img only, used', 'intersect', 'act only, used'],\n",
    "                          index = ['count', 'total WTP', 'avg WTP'])"
   ]
  },
  {
   "cell_type": "code",
   "execution_count": 134,
   "metadata": {},
   "outputs": [
    {
     "data": {
      "text/html": [
       "<div>\n",
       "<style scoped>\n",
       "    .dataframe tbody tr th:only-of-type {\n",
       "        vertical-align: middle;\n",
       "    }\n",
       "\n",
       "    .dataframe tbody tr th {\n",
       "        vertical-align: top;\n",
       "    }\n",
       "\n",
       "    .dataframe thead th {\n",
       "        text-align: right;\n",
       "    }\n",
       "</style>\n",
       "<table border=\"1\" class=\"dataframe\">\n",
       "  <thead>\n",
       "    <tr style=\"text-align: right;\">\n",
       "      <th></th>\n",
       "      <th>img only, used</th>\n",
       "      <th>intersect</th>\n",
       "      <th>act only, used</th>\n",
       "    </tr>\n",
       "  </thead>\n",
       "  <tbody>\n",
       "    <tr>\n",
       "      <th>count</th>\n",
       "      <td>48.000000</td>\n",
       "      <td>35.0</td>\n",
       "      <td>40.00000</td>\n",
       "    </tr>\n",
       "    <tr>\n",
       "      <th>total WTP</th>\n",
       "      <td>6217.040000</td>\n",
       "      <td>NaN</td>\n",
       "      <td>4197.75000</td>\n",
       "    </tr>\n",
       "    <tr>\n",
       "      <th>avg WTP</th>\n",
       "      <td>129.521667</td>\n",
       "      <td>NaN</td>\n",
       "      <td>104.94375</td>\n",
       "    </tr>\n",
       "  </tbody>\n",
       "</table>\n",
       "</div>"
      ],
      "text/plain": [
       "           img only, used  intersect  act only, used\n",
       "count           48.000000       35.0        40.00000\n",
       "total WTP     6217.040000        NaN      4197.75000\n",
       "avg WTP        129.521667        NaN       104.94375"
      ]
     },
     "execution_count": 134,
     "metadata": {},
     "output_type": "execute_result"
    }
   ],
   "source": [
    "bidder_used"
   ]
  },
  {
   "cell_type": "code",
   "execution_count": 135,
   "metadata": {},
   "outputs": [],
   "source": [
    "bidder_new = pd.DataFrame([[13,8,14],\n",
    "                          [new_totalwtp_img_only, np.nan, new_totalwtp_act_only],\n",
    "                           [new_avgwtp_img_only, np.nan, new_avgwtp_act_only]],\n",
    "                          columns = ['img only, new', 'intersect', 'act only, new'],\n",
    "                          index = ['count', 'total WTP', 'avg WTP'])"
   ]
  },
  {
   "cell_type": "code",
   "execution_count": 136,
   "metadata": {},
   "outputs": [
    {
     "data": {
      "text/html": [
       "<div>\n",
       "<style scoped>\n",
       "    .dataframe tbody tr th:only-of-type {\n",
       "        vertical-align: middle;\n",
       "    }\n",
       "\n",
       "    .dataframe tbody tr th {\n",
       "        vertical-align: top;\n",
       "    }\n",
       "\n",
       "    .dataframe thead th {\n",
       "        text-align: right;\n",
       "    }\n",
       "</style>\n",
       "<table border=\"1\" class=\"dataframe\">\n",
       "  <thead>\n",
       "    <tr style=\"text-align: right;\">\n",
       "      <th></th>\n",
       "      <th>img only, new</th>\n",
       "      <th>intersect</th>\n",
       "      <th>act only, new</th>\n",
       "    </tr>\n",
       "  </thead>\n",
       "  <tbody>\n",
       "    <tr>\n",
       "      <th>count</th>\n",
       "      <td>13.000000</td>\n",
       "      <td>8.0</td>\n",
       "      <td>14.000000</td>\n",
       "    </tr>\n",
       "    <tr>\n",
       "      <th>total WTP</th>\n",
       "      <td>1735.420000</td>\n",
       "      <td>NaN</td>\n",
       "      <td>1561.380000</td>\n",
       "    </tr>\n",
       "    <tr>\n",
       "      <th>avg WTP</th>\n",
       "      <td>133.493846</td>\n",
       "      <td>NaN</td>\n",
       "      <td>111.527143</td>\n",
       "    </tr>\n",
       "  </tbody>\n",
       "</table>\n",
       "</div>"
      ],
      "text/plain": [
       "           img only, new  intersect  act only, new\n",
       "count          13.000000        8.0      14.000000\n",
       "total WTP    1735.420000        NaN    1561.380000\n",
       "avg WTP       133.493846        NaN     111.527143"
      ]
     },
     "execution_count": 136,
     "metadata": {},
     "output_type": "execute_result"
    }
   ],
   "source": [
    "bidder_new"
   ]
  },
  {
   "cell_type": "code",
   "execution_count": null,
   "metadata": {},
   "outputs": [],
   "source": []
  }
 ],
 "metadata": {
  "kernelspec": {
   "display_name": "Python 3",
   "language": "python",
   "name": "python3"
  },
  "language_info": {
   "codemirror_mode": {
    "name": "ipython",
    "version": 3
   },
   "file_extension": ".py",
   "mimetype": "text/x-python",
   "name": "python",
   "nbconvert_exporter": "python",
   "pygments_lexer": "ipython3",
   "version": "3.7.7"
  }
 },
 "nbformat": 4,
 "nbformat_minor": 4
}
