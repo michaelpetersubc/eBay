{
 "cells": [
  {
   "cell_type": "markdown",
   "metadata": {},
   "source": [
    "# eBay camera data exploration analysis\n",
    "Authoer: Hongkai Yu (hongkaiyu1999@gmail.com)\n",
    "\n",
    "This document is mainly used for exploratory use, for former analysis, please refer to camera_import.R and camera_explore.R"
   ]
  },
  {
   "cell_type": "markdown",
   "metadata": {},
   "source": [
    "## Setting up"
   ]
  },
  {
   "cell_type": "code",
   "execution_count": 1,
   "metadata": {},
   "outputs": [
    {
     "name": "stderr",
     "output_type": "stream",
     "text": [
      "Warning message:\n",
      "“package ‘tidyverse’ was built under R version 3.6.3”\n",
      "── \u001b[1mAttaching packages\u001b[22m ─────────────────────────────────────── tidyverse 1.3.0 ──\n",
      "\n",
      "\u001b[32m✔\u001b[39m \u001b[34mggplot2\u001b[39m 3.3.1     \u001b[32m✔\u001b[39m \u001b[34mpurrr  \u001b[39m 0.3.4\n",
      "\u001b[32m✔\u001b[39m \u001b[34mtibble \u001b[39m 3.0.1     \u001b[32m✔\u001b[39m \u001b[34mdplyr  \u001b[39m 1.0.0\n",
      "\u001b[32m✔\u001b[39m \u001b[34mtidyr  \u001b[39m 1.1.0     \u001b[32m✔\u001b[39m \u001b[34mstringr\u001b[39m 1.4.0\n",
      "\u001b[32m✔\u001b[39m \u001b[34mreadr  \u001b[39m 1.3.1     \u001b[32m✔\u001b[39m \u001b[34mforcats\u001b[39m 0.5.0\n",
      "\n",
      "Warning message:\n",
      "“package ‘ggplot2’ was built under R version 3.6.3”\n",
      "Warning message:\n",
      "“package ‘tibble’ was built under R version 3.6.3”\n",
      "Warning message:\n",
      "“package ‘tidyr’ was built under R version 3.6.3”\n",
      "Warning message:\n",
      "“package ‘readr’ was built under R version 3.6.3”\n",
      "Warning message:\n",
      "“package ‘purrr’ was built under R version 3.6.3”\n",
      "Warning message:\n",
      "“package ‘dplyr’ was built under R version 3.6.3”\n",
      "Warning message:\n",
      "“package ‘stringr’ was built under R version 3.6.3”\n",
      "Warning message:\n",
      "“package ‘forcats’ was built under R version 3.6.3”\n",
      "── \u001b[1mConflicts\u001b[22m ────────────────────────────────────────── tidyverse_conflicts() ──\n",
      "\u001b[31m✖\u001b[39m \u001b[34mdplyr\u001b[39m::\u001b[32mfilter()\u001b[39m masks \u001b[34mstats\u001b[39m::filter()\n",
      "\u001b[31m✖\u001b[39m \u001b[34mdplyr\u001b[39m::\u001b[32mlag()\u001b[39m    masks \u001b[34mstats\u001b[39m::lag()\n",
      "\n",
      "Warning message:\n",
      "“package ‘magrittr’ was built under R version 3.6.3”\n",
      "\n",
      "Attaching package: ‘magrittr’\n",
      "\n",
      "\n",
      "The following object is masked from ‘package:purrr’:\n",
      "\n",
      "    set_names\n",
      "\n",
      "\n",
      "The following object is masked from ‘package:tidyr’:\n",
      "\n",
      "    extract\n",
      "\n",
      "\n",
      "Warning message:\n",
      "“package ‘lubridate’ was built under R version 3.6.3”\n",
      "\n",
      "Attaching package: ‘lubridate’\n",
      "\n",
      "\n",
      "The following objects are masked from ‘package:base’:\n",
      "\n",
      "    date, intersect, setdiff, union\n",
      "\n",
      "\n",
      "Warning message:\n",
      "“package ‘modelr’ was built under R version 3.6.3”\n",
      "Warning message:\n",
      "“package ‘scales’ was built under R version 3.6.3”\n",
      "\n",
      "Attaching package: ‘scales’\n",
      "\n",
      "\n",
      "The following object is masked from ‘package:purrr’:\n",
      "\n",
      "    discard\n",
      "\n",
      "\n",
      "The following object is masked from ‘package:readr’:\n",
      "\n",
      "    col_factor\n",
      "\n",
      "\n"
     ]
    }
   ],
   "source": [
    "library(tidyverse)\n",
    "library(magrittr)\n",
    "library(lubridate)\n",
    "library(modelr)\n",
    "library(scales)\n",
    "\n",
    "# import data\n",
    "camera_named <- as_tibble(read_csv(\"camera_named.csv\", col_types = \n",
    "                        cols(\n",
    "                                  bid_id = col_double(),\n",
    "                                  item_id = col_double(),\n",
    "                                  product = col_character(),\n",
    "                                  model = col_character(),\n",
    "                                  buy_it_now = col_double(),\n",
    "                                  seller = col_character(),\n",
    "                                  reserve_price = col_double(),\n",
    "                                  seller_feedback = col_integer(),\n",
    "                                  bidder = col_character(),\n",
    "                                  bid_price = col_double(),\n",
    "                                  buyer_feedback = col_integer(),\n",
    "                                  X12 = col_logical(),\n",
    "                                  X13 = col_logical(),\n",
    "                                  X14 = col_logical(),\n",
    "                                  bid_time = col_datetime(format = \"\"),\n",
    "                                  start_time = col_datetime(format = \"\"),\n",
    "                                  end_time = col_datetime(format = \"\")\n",
    "                                ))\n",
    "                              )\n",
    "\n",
    "\n",
    "\n",
    "\n"
   ]
  },
  {
   "cell_type": "code",
   "execution_count": 26,
   "metadata": {},
   "outputs": [],
   "source": [
    "# investigate function\n",
    "investigate_id <- function(id, t) {\n",
    "    # id - the auction number\n",
    "    # t - a tibble representing the current data set\n",
    "  # easier to investigate an auction\n",
    "  auctions <- t %>% \n",
    "    filter(item_id == id) %>% \n",
    "    arrange(desc(bid_time))\n",
    "  low <- mean(auctions$start_time)\n",
    "  high <- mean(auctions$end_time)\n",
    "  #rank(bid_time)\n",
    "    #scale_x_continuous(breaks = seq_along(auctions)) +\n",
    "  p <- ggplot(auctions, aes(x = bid_time, y = bid_price)) +\n",
    "    geom_hline(aes(yintercept =  mean(buy_it_now), colour = 'BIN price'), alpha = 0.5, size = 2) +\n",
    "    geom_hline(aes(yintercept =  mean(reserve_price), colour = 'reserve price')) +\n",
    "    geom_hline(aes(yintercept =  max(bid_price), colour = 'highest price')) +\n",
    "    scale_colour_manual(values = c(\"blue\", \"red\", \"green\")) +\n",
    "    geom_point() +\n",
    "    \n",
    "    xlim(low, high) +\n",
    "    labs(\n",
    "      title = paste(\"Investigation for the auction of item \", id,low, sep = \" \"),\n",
    "      x = \"Time of Bid\",\n",
    "      y = \"Bid price\"\n",
    "    )\n",
    "  print(p)\n",
    "  \n",
    "  invisible(auctions)\n",
    "  }"
   ]
  },
  {
   "cell_type": "code",
   "execution_count": 4,
   "metadata": {},
   "outputs": [
    {
     "name": "stderr",
     "output_type": "stream",
     "text": [
      "`summarise()` ungrouping output (override with `.groups` argument)\n",
      "\n"
     ]
    }
   ],
   "source": [
    "# create summary function\n",
    "trades <- camera_named %>%\n",
    "  # a summary for all trades\n",
    "  group_by(item_id) %>% \n",
    "  summarise(buy_it_now = median(buy_it_now),\n",
    "            first_bid = first(bid_price, order_by = bid_time),\n",
    "            highest_bid = max(bid_price),\n",
    "            n_bids = n(),\n",
    "            m_X12 = as.logical(mean(X12)),\n",
    "            m_X13 = as.logical(mean(X13)),\n",
    "            m_X14 = as.logical(mean(X14))\n",
    "            ) %>% \n",
    "  arrange(desc(n_bids))"
   ]
  },
  {
   "cell_type": "code",
   "execution_count": 5,
   "metadata": {},
   "outputs": [
    {
     "data": {
      "text/html": [
       "<style>\n",
       ".list-inline {list-style: none; margin:0; padding: 0}\n",
       ".list-inline>li {display: inline-block}\n",
       ".list-inline>li:not(:last-child)::after {content: \"\\00b7\"; padding: 0 .5ex}\n",
       "</style>\n",
       "<ol class=list-inline><li>'POSIXct'</li><li>'POSIXt'</li></ol>\n"
      ],
      "text/latex": [
       "\\begin{enumerate*}\n",
       "\\item 'POSIXct'\n",
       "\\item 'POSIXt'\n",
       "\\end{enumerate*}\n"
      ],
      "text/markdown": [
       "1. 'POSIXct'\n",
       "2. 'POSIXt'\n",
       "\n",
       "\n"
      ],
      "text/plain": [
       "[1] \"POSIXct\" \"POSIXt\" "
      ]
     },
     "metadata": {},
     "output_type": "display_data"
    }
   ],
   "source": [
    "class(camera_named$start_time)"
   ]
  },
  {
   "cell_type": "code",
   "execution_count": 28,
   "metadata": {},
   "outputs": [
    {
     "data": {
      "image/png": "[encoded data removed]",
      "text/plain": [
       "plot without title"
      ]
     },
     "metadata": {
      "image/png": {
       "height": 420,
       "width": 420
      },
      "text/plain": {
       "height": 420,
       "width": 420
      }
     },
     "output_type": "display_data"
    }
   ],
   "source": [
    "# an example of investigate function\n",
    "investigate_id(324882778, camera_named)"
   ]
  },
  {
   "cell_type": "code",
   "execution_count": null,
   "metadata": {},
   "outputs": [],
   "source": []
  }
 ],
 "metadata": {
  "kernelspec": {
   "display_name": "R",
   "language": "R",
   "name": "ir"
  },
  "language_info": {
   "codemirror_mode": "r",
   "file_extension": ".r",
   "mimetype": "text/x-r-source",
   "name": "R",
   "pygments_lexer": "r",
   "version": "3.6.2"
  }
 },
 "nbformat": 4,
 "nbformat_minor": 4
}
